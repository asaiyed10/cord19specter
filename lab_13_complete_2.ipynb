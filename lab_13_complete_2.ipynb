{
 "cells": [
  {
   "cell_type": "markdown",
   "metadata": {
    "id": "Uld-UQkuthpf"
   },
   "source": [
    "#Working with Graphs in Spark\n",
    "In this lab, you will learn some of the functionality of Spark GraphFrames. GraphFrames is the next generation library for working with graphs on Spark.\n",
    "\n",
    "First of all, you need to import the graphframes library. However, this is not installed by default. The post-startup script downloaded the library (which is in a jar format), it extracts it, and makes it available for you to use.\n",
    " \n",
    "There are still a couple of things you need to do to get this to work in this setup"
   ]
  },
  {
   "cell_type": "code",
   "execution_count": 1,
   "metadata": {
    "id": "AsdMqNTctziG"
   },
   "outputs": [],
   "source": [
    "# import findspark and os and let findspark find all the environment variables\n",
    "import findspark\n",
    "import os\n",
    "findspark.init()"
   ]
  },
  {
   "cell_type": "code",
   "execution_count": 2,
   "metadata": {
    "id": "CZucioF6t1Nk"
   },
   "outputs": [],
   "source": [
    "# Before you create the SparkSession, you need to add a new environment variable \n",
    "# to tell pyspark where the graphframes library is\n",
    "SUBMIT_ARGS = \"--packages graphframes:graphframes:0.7.0-spark2.4-s_2.11 pyspark-shell\"\n",
    "os.environ[\"PYSPARK_SUBMIT_ARGS\"] = SUBMIT_ARGS"
   ]
  },
  {
   "cell_type": "code",
   "execution_count": 3,
   "metadata": {
    "id": "RA7xNl13uHMA"
   },
   "outputs": [],
   "source": [
    "# Since you added some new environment variables, you want to make\n",
    "# sure that the Spark configuration sees it\n",
    "import pyspark\n",
    "conf = pyspark.SparkConf()"
   ]
  },
  {
   "cell_type": "code",
   "execution_count": 4,
   "metadata": {
    "id": "oSfWvjAvuKPT"
   },
   "outputs": [],
   "source": [
    "# Create the SparkSession using the configuration\n",
    "from pyspark.sql import SparkSession\n",
    "spark = SparkSession.builder.appName(\"graphx-lab\").getOrCreate()"
   ]
  },
  {
   "cell_type": "code",
   "execution_count": 5,
   "metadata": {
    "id": "5euO7xhru08y"
   },
   "outputs": [],
   "source": [
    "# Import the graphframes library\n",
    "from graphframes import *"
   ]
  },
  {
   "cell_type": "markdown",
   "metadata": {
    "id": "cT-pUGEgu4cD"
   },
   "source": [
    "You will be using data from the Bay Area Bike Share Portal (similar service to Capital Bikeshare in DC.)\n",
    "\n",
    "In the following two cells, read in two csv files located in s3:\n",
    "\n",
    "*   s3://bigdatateaching/bike-data/station_data.csv\n",
    "*   s3://bigdatateaching/bike-data/trip_data.csv\n",
    "\n",
    "The station file contains the metadata of the bicycile stations, and the trip data contains all the bike trips.\n",
    "\n",
    "Read in the two files"
   ]
  },
  {
   "cell_type": "code",
   "execution_count": 6,
   "metadata": {
    "id": "heUoDwh9v-zT"
   },
   "outputs": [],
   "source": [
    "station = spark.read.csv(\"s3://bigdatateaching/bike-data/station_data.csv\",header=True)"
   ]
  },
  {
   "cell_type": "code",
   "execution_count": 7,
   "metadata": {
    "id": "-O0oCOjqv_K1"
   },
   "outputs": [],
   "source": [
    "trip_data = spark.read.csv(\"s3://bigdatateaching/bike-data/trip_data.csv\",header=True)"
   ]
  },
  {
   "cell_type": "markdown",
   "metadata": {
    "id": "HvnpSIw3wAbj"
   },
   "source": [
    "Explore the datasets:"
   ]
  },
  {
   "cell_type": "code",
   "execution_count": 8,
   "metadata": {
    "id": "hMY6eyc7wCAf"
   },
   "outputs": [
    {
     "name": "stdout",
     "output_type": "stream",
     "text": [
      "+----------+--------------------+---------+-----------+---------+------------+------------+\n",
      "|station_id|                name|      lat|       long|dockcount|    landmark|installation|\n",
      "+----------+--------------------+---------+-----------+---------+------------+------------+\n",
      "|         2|San Jose Diridon ...|37.329732|-121.901782|       27|    San Jose|    8/6/2013|\n",
      "|         3|San Jose Civic Ce...|37.330698|-121.888979|       15|    San Jose|    8/5/2013|\n",
      "|         4|Santa Clara at Al...|37.333988|-121.894902|       11|    San Jose|    8/6/2013|\n",
      "|         5|    Adobe on Almaden|37.331415|  -121.8932|       19|    San Jose|    8/5/2013|\n",
      "|         6|    San Pedro Square|37.336721|-121.894074|       15|    San Jose|    8/7/2013|\n",
      "|         7|Paseo de San Antonio|37.333798|-121.886943|       15|    San Jose|    8/7/2013|\n",
      "|         8| San Salvador at 1st|37.330165|-121.885831|       15|    San Jose|    8/5/2013|\n",
      "|         9|           Japantown|37.348742|-121.894715|       15|    San Jose|    8/5/2013|\n",
      "|        10|  San Jose City Hall|37.337391|-121.886995|       15|    San Jose|    8/6/2013|\n",
      "|        11|         MLK Library|37.335885| -121.88566|       19|    San Jose|    8/6/2013|\n",
      "|        12|SJSU 4th at San C...|37.332808|-121.883891|       19|    San Jose|    8/7/2013|\n",
      "|        13|       St James Park|37.339301|-121.889937|       15|    San Jose|    8/6/2013|\n",
      "|        14|Arena Green / SAP...|37.332692|-121.900084|       19|    San Jose|    8/5/2013|\n",
      "|        16|SJSU - San Salvad...|37.333955|-121.877349|       15|    San Jose|    8/7/2013|\n",
      "|        21|   Franklin at Maple|37.481758|-122.226904|       15|Redwood City|   8/12/2013|\n",
      "|        22|Redwood City Calt...|37.486078|-122.232089|       25|Redwood City|   8/15/2013|\n",
      "|        23|San Mateo County ...|37.487616|-122.229951|       15|Redwood City|   8/15/2013|\n",
      "|        24|Redwood City Publ...|37.484219|-122.227424|       15|Redwood City|   8/12/2013|\n",
      "|        25|Stanford in Redwo...| 37.48537|-122.203288|       15|Redwood City|   8/12/2013|\n",
      "|        26|Redwood City Medi...|37.487682|-122.223492|       15|Redwood City|   8/12/2013|\n",
      "+----------+--------------------+---------+-----------+---------+------------+------------+\n",
      "only showing top 20 rows\n",
      "\n"
     ]
    }
   ],
   "source": [
    "station.show()"
   ]
  },
  {
   "cell_type": "code",
   "execution_count": 9,
   "metadata": {
    "id": "YWJrWA_jwCOE"
   },
   "outputs": [
    {
     "name": "stdout",
     "output_type": "stream",
     "text": [
      "+-------+--------+---------------+--------------------+--------------+---------------+--------------------+------------+------+---------------+--------+\n",
      "|Trip ID|Duration|     Start Date|       Start Station|Start Terminal|       End Date|         End Station|End Terminal|Bike #|Subscriber Type|Zip Code|\n",
      "+-------+--------+---------------+--------------------+--------------+---------------+--------------------+------------+------+---------------+--------+\n",
      "| 913460|     765|8/31/2015 23:26|Harry Bridges Pla...|            50|8/31/2015 23:39|San Francisco Cal...|          70|   288|     Subscriber|    2139|\n",
      "| 913459|    1036|8/31/2015 23:11|San Antonio Shopp...|            31|8/31/2015 23:28|Mountain View Cit...|          27|    35|     Subscriber|   95032|\n",
      "| 913455|     307|8/31/2015 23:13|      Post at Kearny|            47|8/31/2015 23:18|   2nd at South Park|          64|   468|     Subscriber|   94107|\n",
      "| 913454|     409|8/31/2015 23:10|  San Jose City Hall|            10|8/31/2015 23:17| San Salvador at 1st|           8|    68|     Subscriber|   95113|\n",
      "| 913453|     789|8/31/2015 23:09|Embarcadero at Fo...|            51|8/31/2015 23:22|Embarcadero at Sa...|          60|   487|       Customer|    9069|\n",
      "| 913452|     293|8/31/2015 23:07|Yerba Buena Cente...|            68|8/31/2015 23:12|San Francisco Cal...|          70|   538|     Subscriber|   94118|\n",
      "| 913451|     896|8/31/2015 23:07|Embarcadero at Fo...|            51|8/31/2015 23:22|Embarcadero at Sa...|          60|   363|       Customer|   92562|\n",
      "| 913450|     255|8/31/2015 22:16|Embarcadero at Sa...|            60|8/31/2015 22:20|   Steuart at Market|          74|   470|     Subscriber|   94111|\n",
      "| 913449|     126|8/31/2015 22:12|     Beale at Market|            56|8/31/2015 22:15|Temporary Transba...|          55|   439|     Subscriber|   94130|\n",
      "| 913448|     932|8/31/2015 21:57|      Post at Kearny|            47|8/31/2015 22:12|South Van Ness at...|          66|   472|     Subscriber|   94702|\n",
      "| 913443|     691|8/31/2015 21:49|Embarcadero at Sa...|            60|8/31/2015 22:01|   Market at Sansome|          77|   434|     Subscriber|   94109|\n",
      "| 913442|     633|8/31/2015 21:44|      Market at 10th|            67|8/31/2015 21:54|San Francisco Cal...|          70|   531|     Subscriber|   94107|\n",
      "| 913441|     387|8/31/2015 21:39|       Market at 4th|            76|8/31/2015 21:46|Grant Avenue at C...|          73|   383|     Subscriber|   94104|\n",
      "| 913440|     281|8/31/2015 21:31|   Market at Sansome|            77|8/31/2015 21:36|Broadway St at Ba...|          82|   621|     Subscriber|   94107|\n",
      "| 913435|     424|8/31/2015 21:25|Temporary Transba...|            55|8/31/2015 21:33|San Francisco Cal...|          69|   602|     Subscriber|   94401|\n",
      "| 913434|     283|8/31/2015 21:19|San Francisco Cal...|            69|8/31/2015 21:24|     Townsend at 7th|          65|   521|     Subscriber|   94107|\n",
      "| 913433|     145|8/31/2015 21:17|University and Em...|            35|8/31/2015 21:20|Cowper at University|          37|    75|       Customer|    6907|\n",
      "| 913432|     703|8/31/2015 21:16|     Spear at Folsom|            49|8/31/2015 21:28|San Francisco Cal...|          69|   426|     Subscriber|   95032|\n",
      "| 913431|     605|8/31/2015 21:11|Temporary Transba...|            55|8/31/2015 21:21|Grant Avenue at C...|          73|   572|     Subscriber|   94133|\n",
      "| 913429|     902|8/31/2015 21:07|San Francisco Cal...|            70|8/31/2015 21:22|Broadway St at Ba...|          82|   501|     Subscriber|   94133|\n",
      "+-------+--------+---------------+--------------------+--------------+---------------+--------------------+------------+------+---------------+--------+\n",
      "only showing top 20 rows\n",
      "\n"
     ]
    }
   ],
   "source": [
    "trip_data.show()"
   ]
  },
  {
   "cell_type": "markdown",
   "metadata": {
    "id": "Kf6TignRwEwH"
   },
   "source": [
    "You will now modify the two DataFrames read in above to create a vertix \n",
    "list and an edge list.\n",
    "\n",
    "In the next cell, use the station data and rename the \"name\" column to \"id\" and get distinct records:"
   ]
  },
  {
   "cell_type": "code",
   "execution_count": 10,
   "metadata": {
    "id": "MJoUKES-wEJc"
   },
   "outputs": [],
   "source": [
    "stationVertices = station.withColumnRenamed(\"name\", \"id\").distinct()"
   ]
  },
  {
   "cell_type": "markdown",
   "metadata": {
    "id": "w_XxCKPnwQ-9"
   },
   "source": [
    "In the next cell, use the trip data and rename the \"Start Station\" column to \"src\" and the \"End Station\" column to \"dst\"."
   ]
  },
  {
   "cell_type": "code",
   "execution_count": 11,
   "metadata": {
    "id": "dN9_Q4f5wQQU"
   },
   "outputs": [],
   "source": [
    "tripEdges = trip_data.withColumnRenamed(\"Start Station\", \"src\").withColumnRenamed(\"End Station\", \"dst\")"
   ]
  },
  {
   "cell_type": "markdown",
   "metadata": {
    "id": "7SnVmwubwZRF"
   },
   "source": [
    "In the next cell, you will create a GraphFrame passing in a vertex list and an edge list. Which is which\n",
    "from your original datasets?"
   ]
  },
  {
   "cell_type": "code",
   "execution_count": 12,
   "metadata": {
    "id": "2DzsziEFwaJG"
   },
   "outputs": [],
   "source": [
    "stationGraph = GraphFrame(stationVertices, tripEdges) # tripEdges is from my original dataset"
   ]
  },
  {
   "cell_type": "code",
   "execution_count": 13,
   "metadata": {},
   "outputs": [
    {
     "data": {
      "text/plain": [
       "GraphFrame(v:[id: string, station_id: string ... 5 more fields], e:[src: string, dst: string ... 9 more fields])"
      ]
     },
     "execution_count": 13,
     "metadata": {},
     "output_type": "execute_result"
    }
   ],
   "source": [
    "stationGraph"
   ]
  },
  {
   "cell_type": "markdown",
   "metadata": {
    "id": "shQ3J-T7wkT6"
   },
   "source": [
    "Since you will be using the GraphFrame more than once, it is best to cache it."
   ]
  },
  {
   "cell_type": "code",
   "execution_count": 14,
   "metadata": {
    "id": "6UGmAwyJwjzw"
   },
   "outputs": [
    {
     "data": {
      "text/plain": [
       "GraphFrame(v:[id: string, station_id: string ... 5 more fields], e:[src: string, dst: string ... 9 more fields])"
      ]
     },
     "execution_count": 14,
     "metadata": {},
     "output_type": "execute_result"
    }
   ],
   "source": [
    "stationGraph.cache()"
   ]
  },
  {
   "cell_type": "markdown",
   "metadata": {
    "id": "UfnD2x0_wl60"
   },
   "source": [
    "## Graph metadata\n",
    "\n",
    "Count the number of vertices in the graph:"
   ]
  },
  {
   "cell_type": "code",
   "execution_count": 15,
   "metadata": {},
   "outputs": [
    {
     "name": "stdout",
     "output_type": "stream",
     "text": [
      "+----------+--------------------+---------+-----------+---------+-------------+------------+\n",
      "|station_id|                  id|      lat|       long|dockcount|     landmark|installation|\n",
      "+----------+--------------------+---------+-----------+---------+-------------+------------+\n",
      "|        51|Embarcadero at Fo...|37.791464|-122.391034|       19|San Francisco|   8/20/2013|\n",
      "|        58|San Francisco Cit...| 37.77865|-122.418235|       19|San Francisco|   8/21/2013|\n",
      "|        60|Embarcadero at Sa...| 37.80477|-122.403234|       15|San Francisco|   8/21/2013|\n",
      "|        65|     Townsend at 7th|37.771058|-122.402717|       15|San Francisco|   8/22/2013|\n",
      "|        63|       Howard at 2nd|37.786978|-122.398108|       19|San Francisco|   8/22/2013|\n",
      "|        33|Rengstorff Avenue...|37.400241|-122.099076|       15|Mountain View|   8/16/2013|\n",
      "|        25|Stanford in Redwo...| 37.48537|-122.203288|       15| Redwood City|   8/12/2013|\n",
      "|        71|Powell at Post (U...|37.788446|-122.408499|       19|San Francisco|   8/23/2013|\n",
      "|        77|   Market at Sansome|37.789625|-122.400811|       27|San Francisco|   8/25/2013|\n",
      "|        84|         Ryland Park|37.342725|-121.895617|       15|     San Jose|    4/9/2014|\n",
      "|        72|Civic Center BART...|37.781039|-122.411748|       23|San Francisco|   8/23/2013|\n",
      "|        12|SJSU 4th at San C...|37.332808|-121.883891|       19|     San Jose|    8/7/2013|\n",
      "|        39|  Powell Street BART|37.783871|-122.408433|       19|San Francisco|   8/25/2013|\n",
      "|        16|SJSU - San Salvad...|37.333955|-121.877349|       15|     San Jose|    8/7/2013|\n",
      "|        62|       2nd at Folsom|37.785299|-122.396236|       19|San Francisco|   8/22/2013|\n",
      "|        36|California Ave Ca...|37.429082|-122.142805|       15|    Palo Alto|   8/14/2013|\n",
      "|        74|   Steuart at Market|37.794139|-122.394434|       23|San Francisco|   8/25/2013|\n",
      "|        80|Santa Clara Count...|37.352601|-121.905733|       15|     San Jose|  12/31/2013|\n",
      "|        47|     Post at Kearney|37.788975|-122.403452|       19|San Francisco|   8/19/2013|\n",
      "|        69|San Francisco Cal...|  37.7766| -122.39547|       23|San Francisco|   8/23/2013|\n",
      "+----------+--------------------+---------+-----------+---------+-------------+------------+\n",
      "only showing top 20 rows\n",
      "\n"
     ]
    }
   ],
   "source": [
    "stationGraph.vertices.show()"
   ]
  },
  {
   "cell_type": "code",
   "execution_count": 16,
   "metadata": {},
   "outputs": [
    {
     "data": {
      "text/plain": [
       "70"
      ]
     },
     "execution_count": 16,
     "metadata": {},
     "output_type": "execute_result"
    }
   ],
   "source": [
    "stationGraph.vertices[['station_id']].count()"
   ]
  },
  {
   "cell_type": "code",
   "execution_count": 17,
   "metadata": {},
   "outputs": [
    {
     "data": {
      "text/plain": [
       "70"
      ]
     },
     "execution_count": 17,
     "metadata": {},
     "output_type": "execute_result"
    }
   ],
   "source": [
    "stationGraph.vertices.distinct().count()"
   ]
  },
  {
   "cell_type": "markdown",
   "metadata": {
    "id": "PhUujszdw2Sc"
   },
   "source": [
    "Count the number of edges in the graph:"
   ]
  },
  {
   "cell_type": "code",
   "execution_count": 18,
   "metadata": {
    "id": "s6DPr2gfwnat"
   },
   "outputs": [
    {
     "data": {
      "text/plain": [
       "354152"
      ]
     },
     "execution_count": 18,
     "metadata": {},
     "output_type": "execute_result"
    }
   ],
   "source": [
    "from pyspark.sql.functions import desc\n",
    "stationGraph.edges.distinct().count()"
   ]
  },
  {
   "cell_type": "code",
   "execution_count": 19,
   "metadata": {
    "id": "pbZDdD8xw4sl"
   },
   "outputs": [
    {
     "data": {
      "text/plain": [
       "354152"
      ]
     },
     "execution_count": 19,
     "metadata": {},
     "output_type": "execute_result"
    }
   ],
   "source": [
    "stationGraph.edges.count()"
   ]
  },
  {
   "cell_type": "markdown",
   "metadata": {
    "id": "BNuZtEVNw5Fd"
   },
   "source": [
    "# Querying the Graph\n",
    "The most basic way of interacting with the graph is querying it. Since the GraphFrame is based on DataFrames, you can perform the same type of operations you would on a DataFrame.\n",
    "\n",
    "In the next cell, show the top 10 source and destination combinations, ordered in descending order by count:"
   ]
  },
  {
   "cell_type": "code",
   "execution_count": 20,
   "metadata": {
    "id": "UK4PDvTUxAXN"
   },
   "outputs": [
    {
     "name": "stdout",
     "output_type": "stream",
     "text": [
      "+--------------------+--------------------+-----+\n",
      "|                 src|                 dst|count|\n",
      "+--------------------+--------------------+-----+\n",
      "|San Francisco Cal...|     Townsend at 7th| 3748|\n",
      "|Harry Bridges Pla...|Embarcadero at Sa...| 3145|\n",
      "|     2nd at Townsend|Harry Bridges Pla...| 2973|\n",
      "|     Townsend at 7th|San Francisco Cal...| 2734|\n",
      "|Harry Bridges Pla...|     2nd at Townsend| 2640|\n",
      "|Embarcadero at Fo...|San Francisco Cal...| 2439|\n",
      "|   Steuart at Market|     2nd at Townsend| 2356|\n",
      "|Embarcadero at Sa...|   Steuart at Market| 2330|\n",
      "|     Townsend at 7th|San Francisco Cal...| 2192|\n",
      "|Temporary Transba...|San Francisco Cal...| 2184|\n",
      "+--------------------+--------------------+-----+\n",
      "only showing top 10 rows\n",
      "\n"
     ]
    }
   ],
   "source": [
    "stationGraph.edges.groupBy(\"src\", \"dst\").count().orderBy(desc(\"count\")).show(10)"
   ]
  },
  {
   "cell_type": "markdown",
   "metadata": {
    "id": "T-UKicn-xCfc"
   },
   "source": [
    "In the next cell, show the top 10 source and destination combinations **where the source or destination\n",
    "station is 'Townsend at 7th'**, ordered in descending order by count"
   ]
  },
  {
   "cell_type": "code",
   "execution_count": 21,
   "metadata": {
    "id": "o_gpzjwJxIuJ"
   },
   "outputs": [
    {
     "name": "stdout",
     "output_type": "stream",
     "text": [
      "+--------------------+--------------------+-----+\n",
      "|                 src|                 dst|count|\n",
      "+--------------------+--------------------+-----+\n",
      "|San Francisco Cal...|     Townsend at 7th| 3748|\n",
      "|     Townsend at 7th|San Francisco Cal...| 2734|\n",
      "|     Townsend at 7th|San Francisco Cal...| 2192|\n",
      "|     Townsend at 7th|Civic Center BART...| 1844|\n",
      "|Civic Center BART...|     Townsend at 7th| 1765|\n",
      "|San Francisco Cal...|     Townsend at 7th| 1198|\n",
      "|Temporary Transba...|     Townsend at 7th|  834|\n",
      "|     Townsend at 7th|Harry Bridges Pla...|  827|\n",
      "|   Steuart at Market|     Townsend at 7th|  746|\n",
      "|     Townsend at 7th|Temporary Transba...|  740|\n",
      "+--------------------+--------------------+-----+\n",
      "only showing top 10 rows\n",
      "\n"
     ]
    }
   ],
   "source": [
    "stationGraph.edges.where(\"src = 'Townsend at 7th' OR dst = 'Townsend at 7th'\").groupBy(\"src\", \"dst\").count().orderBy(desc(\"count\")).show(10)"
   ]
  },
  {
   "cell_type": "markdown",
   "metadata": {
    "id": "gPnNVpqsxMfz"
   },
   "source": [
    "# Subsetting a Graph\n",
    "Sometimes you need to work with a subset of a graph. The easiest way to create a subset is create a\n",
    "new graph with the vertices and edges of your your subset.\n",
    "\n",
    "In the next cell, subset the edges where the source or destination station is 'Townsend at 7th', and\n",
    "create a new graph called sg1 using the original vertices and the new edge list:"
   ]
  },
  {
   "cell_type": "code",
   "execution_count": 31,
   "metadata": {
    "id": "0QqohfG5xRSm"
   },
   "outputs": [],
   "source": [
    "subset_edges = stationGraph.edges.where(\"src = 'Townsend at 7th' OR dst = 'Townsend at 7th'\")"
   ]
  },
  {
   "cell_type": "code",
   "execution_count": 32,
   "metadata": {},
   "outputs": [
    {
     "name": "stdout",
     "output_type": "stream",
     "text": [
      "+-------+--------+---------------+--------------------+--------------+---------------+--------------------+------------+------+---------------+--------+\n",
      "|Trip ID|Duration|     Start Date|                 src|Start Terminal|       End Date|                 dst|End Terminal|Bike #|Subscriber Type|Zip Code|\n",
      "+-------+--------+---------------+--------------------+--------------+---------------+--------------------+------------+------+---------------+--------+\n",
      "| 913434|     283|8/31/2015 21:19|San Francisco Cal...|            69|8/31/2015 21:24|     Townsend at 7th|          65|   521|     Subscriber|   94107|\n",
      "| 913404|     273|8/31/2015 20:39|San Francisco Cal...|            69|8/31/2015 20:44|     Townsend at 7th|          65|   287|     Subscriber|   94107|\n",
      "| 913382|     645|8/31/2015 20:20|     Townsend at 7th|            65|8/31/2015 20:31|Harry Bridges Pla...|          50|   270|     Subscriber|   94945|\n",
      "| 913379|     803|8/31/2015 20:15|     Spear at Folsom|            49|8/31/2015 20:28|     Townsend at 7th|          65|   607|     Subscriber|   94107|\n",
      "| 913371|     663|8/31/2015 20:10|     Townsend at 7th|            65|8/31/2015 20:21|     Spear at Folsom|          49|   405|     Subscriber|   94103|\n",
      "| 913361|     236|8/31/2015 20:05|San Francisco Cal...|            69|8/31/2015 20:09|     Townsend at 7th|          65|   270|     Subscriber|   94107|\n",
      "| 913343|     426|8/31/2015 19:51|       5th at Howard|            57|8/31/2015 19:58|     Townsend at 7th|          65|   457|     Subscriber|   94107|\n",
      "| 913316|     300|8/31/2015 19:34|San Francisco Cal...|            69|8/31/2015 19:39|     Townsend at 7th|          65|   368|     Subscriber|   94107|\n",
      "| 913296|     765|8/31/2015 19:20|       Howard at 2nd|            63|8/31/2015 19:33|     Townsend at 7th|          65|   564|     Subscriber|   94116|\n",
      "| 913287|     847|8/31/2015 19:17|     Townsend at 7th|            65|8/31/2015 19:31|   Steuart at Market|          74|   462|     Subscriber|   94107|\n",
      "| 913282|     235|8/31/2015 19:13|San Francisco Cal...|            69|8/31/2015 19:17|     Townsend at 7th|          65|   462|     Subscriber|   94306|\n",
      "| 913281|     455|8/31/2015 19:12|     Townsend at 7th|            65|8/31/2015 19:19|Civic Center BART...|          72|   370|     Subscriber|   94608|\n",
      "| 913265|     658|8/31/2015 19:04|     Townsend at 7th|            65|8/31/2015 19:15|     Spear at Folsom|          49|   606|     Subscriber|   94608|\n",
      "| 913226|     182|8/31/2015 18:46|     Townsend at 7th|            65|8/31/2015 18:49|San Francisco Cal...|          70|   607|     Subscriber|   95051|\n",
      "| 913198|     353|8/31/2015 18:34|     Townsend at 7th|            65|8/31/2015 18:40|     Townsend at 7th|          65|   370|     Subscriber|   94118|\n",
      "| 913189|     220|8/31/2015 18:31|San Francisco Cal...|            69|8/31/2015 18:35|     Townsend at 7th|          65|   606|     Subscriber|   94103|\n",
      "| 913164|     389|8/31/2015 18:24|     Townsend at 7th|            65|8/31/2015 18:30|     2nd at Townsend|          61|   236|     Subscriber|   94107|\n",
      "| 913156|     176|8/31/2015 18:20|     Townsend at 7th|            65|8/31/2015 18:23|San Francisco Cal...|          69|   508|     Subscriber|   94063|\n",
      "| 913122|     419|8/31/2015 18:07|     Townsend at 7th|            65|8/31/2015 18:14|     2nd at Townsend|          61|   418|     Subscriber|   94107|\n",
      "| 913103|    1116|8/31/2015 18:02|Commercial at Mon...|            45|8/31/2015 18:21|     Townsend at 7th|          65|   370|     Subscriber|   94107|\n",
      "+-------+--------+---------------+--------------------+--------------+---------------+--------------------+------------+------+---------------+--------+\n",
      "only showing top 20 rows\n",
      "\n"
     ]
    }
   ],
   "source": [
    "subset_edges.show()"
   ]
  },
  {
   "cell_type": "code",
   "execution_count": 33,
   "metadata": {
    "id": "E9uZ2EoYxSIO"
   },
   "outputs": [],
   "source": [
    "sg1 = GraphFrame(stationVertices, subset_edges) # tripEdges is from my original dataset"
   ]
  },
  {
   "cell_type": "code",
   "execution_count": 34,
   "metadata": {
    "id": "ALWGCB8LxSqc"
   },
   "outputs": [
    {
     "data": {
      "text/plain": [
       "28999"
      ]
     },
     "execution_count": 34,
     "metadata": {},
     "output_type": "execute_result"
    }
   ],
   "source": [
    "sg1.edges.count()"
   ]
  },
  {
   "cell_type": "markdown",
   "metadata": {
    "id": "qdkwoneMxTD1"
   },
   "source": [
    "# Motifs\n",
    "Motifs are ways of expressing structural patterns in a graph. The following cell has a triangle motif: (a)\n",
    "signifies the starting station, and [ab] represents an edge from (a) to our next station (b). We repeat this\n",
    "for stations (b) to (c) and then from (c) to (a):The following cell creates a triangular pattern."
   ]
  },
  {
   "cell_type": "code",
   "execution_count": 35,
   "metadata": {
    "id": "ESbNEd-ZxXjo"
   },
   "outputs": [],
   "source": [
    "motifs = sg1.find(\"(a)-[ab]->(b); (b)-[bc]->(c); (c)-[ca]->(a)\")"
   ]
  },
  {
   "cell_type": "markdown",
   "metadata": {
    "id": "-Ge2qsQUxbwN"
   },
   "source": [
    "The DataFrame we get from running this query contains nested fields for vertices a, b, and c, as well as\n",
    "the respective edges. We can now query this as we would a DataFrame. For example, given a certain\n",
    "bike, what is the shortest trip the bike has taken from station a, to station b, to station c, and back to\n",
    "station a? The following logic will parse our timestamps, into Spark timestamps and then we’ll do\n",
    "comparisons to make sure that it’s the same bike, traveling from station to station, and that the start\n",
    "times for each trip are correct."
   ]
  },
  {
   "cell_type": "code",
   "execution_count": 38,
   "metadata": {
    "id": "o1MXuDBCxbQ8"
   },
   "outputs": [
    {
     "data": {
      "text/plain": [
       "DataFrame[a: struct<station_id:string,id:string,lat:string,long:string,dockcount:string,landmark:string,installation:string>, ab: struct<Trip ID:string,Duration:string,Start Date:string,src:string,Start Terminal:string,End Date:string,dst:string,End Terminal:string,Bike #:string,Subscriber Type:string,Zip Code:string>, b: struct<station_id:string,id:string,lat:string,long:string,dockcount:string,landmark:string,installation:string>, bc: struct<Trip ID:string,Duration:string,Start Date:string,src:string,Start Terminal:string,End Date:string,dst:string,End Terminal:string,Bike #:string,Subscriber Type:string,Zip Code:string>, c: struct<station_id:string,id:string,lat:string,long:string,dockcount:string,landmark:string,installation:string>, ca: struct<Trip ID:string,Duration:string,Start Date:string,src:string,Start Terminal:string,End Date:string,dst:string,End Terminal:string,Bike #:string,Subscriber Type:string,Zip Code:string>]"
      ]
     },
     "metadata": {},
     "output_type": "display_data"
    }
   ],
   "source": [
    "display(motifs)"
   ]
  },
  {
   "cell_type": "code",
   "execution_count": 45,
   "metadata": {},
   "outputs": [],
   "source": [
    "from pyspark.sql.functions import expr"
   ]
  },
  {
   "cell_type": "code",
   "execution_count": null,
   "metadata": {},
   "outputs": [],
   "source": []
  },
  {
   "cell_type": "code",
   "execution_count": null,
   "metadata": {},
   "outputs": [],
   "source": [
    "## On the subgraph "
   ]
  },
  {
   "cell_type": "code",
   "execution_count": 56,
   "metadata": {},
   "outputs": [
    {
     "name": "stdout",
     "output_type": "stream",
     "text": [
      "+---------------+--------------------+---------------+---------------+----------------+\n",
      "|             id|                  id|             id|  ab.Start Date|     ca.End Date|\n",
      "+---------------+--------------------+---------------+---------------+----------------+\n",
      "|Townsend at 7th|      Market at 10th|Townsend at 7th|8/14/2015 13:53| 8/14/2015 17:33|\n",
      "|Townsend at 7th|San Francisco Cal...|Townsend at 7th|11/20/2014 9:32|11/20/2014 14:34|\n",
      "|Townsend at 7th|San Francisco Cal...|Townsend at 7th|10/22/2014 7:05|10/22/2014 12:46|\n",
      "|Townsend at 7th|Civic Center BART...|Townsend at 7th|1/20/2015 18:52| 1/21/2015 10:41|\n",
      "|Townsend at 7th|Civic Center BART...|Townsend at 7th|7/29/2015 17:35| 7/30/2015 11:02|\n",
      "|Townsend at 7th| Golden Gate at Polk|Townsend at 7th| 6/3/2015 17:23|  6/4/2015 12:05|\n",
      "|Townsend at 7th|Civic Center BART...|Townsend at 7th|5/13/2015 17:21| 5/14/2015 13:54|\n",
      "|Townsend at 7th|Civic Center BART...|Townsend at 7th| 9/3/2014 18:54|  9/4/2014 14:34|\n",
      "|Townsend at 7th|Civic Center BART...|Townsend at 7th|9/26/2014 16:53| 9/27/2014 15:39|\n",
      "|Townsend at 7th|  Powell Street BART|Townsend at 7th| 4/2/2015 10:23|  4/3/2015 13:58|\n",
      "|Townsend at 7th|San Francisco Cal...|Townsend at 7th|  6/2/2015 7:54|  6/3/2015 17:59|\n",
      "|Townsend at 7th|San Francisco Cal...|Townsend at 7th|  6/2/2015 7:54|  6/3/2015 17:59|\n",
      "|Townsend at 7th|San Francisco Cal...|Townsend at 7th|3/24/2015 13:34| 3/26/2015 13:01|\n",
      "|Townsend at 7th|  Powell Street BART|Townsend at 7th|11/12/2014 8:38|11/14/2014 10:58|\n",
      "|Townsend at 7th|San Francisco Cal...|Townsend at 7th|  4/1/2015 6:02|  4/3/2015 13:58|\n",
      "|Townsend at 7th|San Francisco Cal...|Townsend at 7th|3/31/2015 19:10|  4/3/2015 13:58|\n",
      "|Townsend at 7th|San Francisco Cal...|Townsend at 7th|3/31/2015 19:10|  4/3/2015 13:58|\n",
      "|Townsend at 7th|Harry Bridges Pla...|Townsend at 7th|3/31/2015 16:42|  4/3/2015 13:58|\n",
      "|Townsend at 7th|      Market at 10th|Townsend at 7th| 3/16/2015 9:40| 3/19/2015 14:23|\n",
      "|Townsend at 7th|Powell at Post (U...|Townsend at 7th|9/10/2014 17:13| 9/14/2014 11:23|\n",
      "+---------------+--------------------+---------------+---------------+----------------+\n",
      "only showing top 20 rows\n",
      "\n"
     ]
    }
   ],
   "source": [
    "motifs.selectExpr(\"*\",\n",
    "                 \"to_timestamp(ab['Start Date'],'MM/dd/yyyy HH:mm') as abStart\",\n",
    "                 \"to_timestamp(bc['Start Date'],'MM/dd/yyyy HH:mm') as bcStart\",\n",
    "                 \"to_timestamp(ca['Start Date'],'MM/dd/yyyy HH:mm') as caStart\")\\\n",
    ".where(\"ca['Bike #'] = bc['Bike #']\").where(\"ab['Bike #'] = bc['Bike #']\")\\\n",
    ".where(\"a.id != b.id\").where(\"b.id != c.id\")\\\n",
    ".where(\"abStart < bcStart\").where(\"bcStart < caStart\")\\\n",
    ".orderBy(expr(\"cast(caStart as long) - cast(abStart as long)\"))\\\n",
    ".selectExpr(\"a.id\",\"b.id\",\"c.id\",\"ab['Start Date']\",\"ca['End Date']\").show() #.limit(1).show(1,False)"
   ]
  },
  {
   "cell_type": "code",
   "execution_count": null,
   "metadata": {},
   "outputs": [],
   "source": [
    "# Entire graph "
   ]
  },
  {
   "cell_type": "code",
   "execution_count": 57,
   "metadata": {},
   "outputs": [],
   "source": [
    "motifs = stationGraph.find(\"(a)-[ab]->(b); (b)-[bc]->(c); (c)-[ca]->(a)\")"
   ]
  },
  {
   "cell_type": "code",
   "execution_count": 58,
   "metadata": {},
   "outputs": [
    {
     "name": "stdout",
     "output_type": "stream",
     "text": [
      "+--------------------+--------------------+--------------------+----------------+----------------+\n",
      "|                  id|                  id|                  id|   ab.Start Date|     ca.End Date|\n",
      "+--------------------+--------------------+--------------------+----------------+----------------+\n",
      "|San Francisco Cal...|     Townsend at 7th|San Francisco Cal...| 5/19/2015 16:09| 5/19/2015 16:33|\n",
      "|Harry Bridges Pla...|     2nd at Townsend|San Francisco Cal...|  6/16/2015 8:03|  6/16/2015 8:31|\n",
      "|     Spear at Folsom|       Market at 4th|San Francisco Cal...|  7/17/2015 8:47|  7/17/2015 9:15|\n",
      "|     2nd at Townsend|San Francisco Cal...|Harry Bridges Pla...|  7/20/2015 8:51|  7/20/2015 9:14|\n",
      "|San Francisco Cal...|     2nd at Townsend|   Steuart at Market| 10/8/2014 17:12| 10/8/2014 17:42|\n",
      "|   Market at Sansome|   2nd at South Park|San Francisco Cal...|  11/3/2014 8:38|  11/3/2014 9:01|\n",
      "|Yerba Buena Cente...|San Francisco Cal...|     Townsend at 7th|  6/16/2015 9:25|  6/16/2015 9:54|\n",
      "|     Townsend at 7th|San Francisco Cal...|Harry Bridges Pla...|  12/1/2014 8:10|  12/1/2014 8:41|\n",
      "|   Market at Sansome|   2nd at South Park|San Francisco Cal...|  3/26/2015 8:51|  3/26/2015 9:17|\n",
      "|San Francisco Cal...|   2nd at South Park|Temporary Transba...| 11/6/2014 18:33| 11/6/2014 18:59|\n",
      "|Harry Bridges Pla...|     2nd at Townsend|San Francisco Cal...|  6/15/2015 9:19|  6/15/2015 9:47|\n",
      "|       Howard at 2nd|     Clay at Battery|   Market at Sansome| 5/27/2015 11:10| 5/27/2015 11:31|\n",
      "|       2nd at Folsom|Temporary Transba...|San Francisco Cal...|  1/15/2015 8:44|  1/15/2015 9:10|\n",
      "|      Market at 10th|     Townsend at 7th|San Francisco Cal...|  8/31/2015 7:33|  8/31/2015 8:03|\n",
      "|   2nd at South Park|San Francisco Cal...|Temporary Transba...|   9/5/2014 8:45|   9/5/2014 9:09|\n",
      "|Mechanics Plaza (...|    Davis at Jackson|Commercial at Mon...|10/27/2014 16:27|10/27/2014 16:48|\n",
      "|     2nd at Townsend|San Francisco Cal...|   Steuart at Market|   2/9/2015 7:16|   2/9/2015 7:42|\n",
      "|Temporary Transba...|Harry Bridges Pla...|     2nd at Townsend|   8/4/2015 8:34|   8/4/2015 9:01|\n",
      "|       2nd at Folsom|Temporary Transba...|     Townsend at 7th|  6/12/2015 8:03|  6/12/2015 8:31|\n",
      "|       2nd at Folsom|   2nd at South Park|Embarcadero at Fo...|  4/7/2015 12:37|  4/7/2015 13:00|\n",
      "+--------------------+--------------------+--------------------+----------------+----------------+\n",
      "only showing top 20 rows\n",
      "\n"
     ]
    }
   ],
   "source": [
    "motifs.selectExpr(\"*\",\n",
    "                 \"to_timestamp(ab['Start Date'],'MM/dd/yyyy HH:mm') as abStart\",\n",
    "                 \"to_timestamp(bc['Start Date'],'MM/dd/yyyy HH:mm') as bcStart\",\n",
    "                 \"to_timestamp(ca['Start Date'],'MM/dd/yyyy HH:mm') as caStart\")\\\n",
    ".where(\"ca['Bike #'] = bc['Bike #']\").where(\"ab['Bike #'] = bc['Bike #']\")\\\n",
    ".where(\"a.id != b.id\").where(\"b.id != c.id\")\\\n",
    ".where(\"abStart < bcStart\").where(\"bcStart < caStart\")\\\n",
    ".orderBy(expr(\"cast(caStart as long) - cast(abStart as long)\"))\\\n",
    ".selectExpr(\"a.id\",\"b.id\",\"c.id\",\"ab['Start Date']\",\"ca['End Date']\").show() #.limit(1).show(1,False)"
   ]
  },
  {
   "cell_type": "markdown",
   "metadata": {
    "id": "Z7nqnguDxetM"
   },
   "source": [
    "# PageRank\n",
    "One of the most prolific graph algorithms is PageRank. Larry Page, cofounder of Google, created PageRank as a research project for how to rank web pages. Unfortu‐ nately, a complete explanation of\n",
    "how PageRank works is outside the scope of this book. However, to quote Wikipedia, the high-level\n",
    "explanation is as follows:\n",
    "\n",
    "PageRank works by counting the number and quality of links to a page to determine a rough estimate of how important the website is. The underlying assumption is that more important websites are likely to\n",
    "receive more links from other websites.\n",
    "\n",
    "PageRank generalizes quite well outside of the web domain. We can apply this right to our own data and\n",
    "get a sense for important bike stations (specifically, those that receive a lot of bike traffic). In this\n",
    "example, important bike stations will be assigned large PageRank values:\n",
    "\n",
    "In the next cells, you will run the PageRank algorith on the stations graph dataset.\n",
    "* Run the pagerank algorithm with a reset probability of 0.15, and 10 maximum iterations\n",
    "* Show the top 10 vertices based on pageranks"
   ]
  },
  {
   "cell_type": "code",
   "execution_count": 60,
   "metadata": {
    "id": "Rc0p6TfuxsdN"
   },
   "outputs": [],
   "source": [
    "results = stationGraph.pageRank(resetProbability=0.15, maxIter=10)"
   ]
  },
  {
   "cell_type": "code",
   "execution_count": 61,
   "metadata": {},
   "outputs": [
    {
     "name": "stdout",
     "output_type": "stream",
     "text": [
      "+--------------------+------------------+\n",
      "|                  id|          pagerank|\n",
      "+--------------------+------------------+\n",
      "|San Jose Diridon ...| 4.051504835990005|\n",
      "|San Francisco Cal...|3.3511832964285957|\n",
      "|Mountain View Cal...|2.5143907710155795|\n",
      "|Redwood City Calt...| 2.326308771371188|\n",
      "|San Francisco Cal...|2.2311442913698603|\n",
      "|Harry Bridges Pla...|1.8251120118882564|\n",
      "|     2nd at Townsend|1.5821217785039046|\n",
      "|Santa Clara at Al...| 1.573007408490773|\n",
      "|     Townsend at 7th|1.5684565805340835|\n",
      "|Embarcadero at Sa...|1.5414242087748842|\n",
      "|   Steuart at Market|1.4659451265543433|\n",
      "|Palo Alto Caltrai...|1.4189051652914388|\n",
      "|   Market at Sansome|1.3854248857994997|\n",
      "|    San Pedro Square|1.3783389774700676|\n",
      "|Temporary Transba...|1.3677942011839377|\n",
      "|University and Em...| 1.336268730496877|\n",
      "|Mountain View Cit...|1.2145886778331223|\n",
      "|Stanford in Redwo...|1.1704516264869986|\n",
      "|San Antonio Shopp...|1.1316004674331852|\n",
      "|      Market at 10th|1.1020452302927384|\n",
      "+--------------------+------------------+\n",
      "only showing top 20 rows\n",
      "\n"
     ]
    }
   ],
   "source": [
    "results.vertices.orderBy(desc(\"pagerank\")).select(\"id\", \"pagerank\").show()"
   ]
  }
 ],
 "metadata": {
  "colab": {
   "name": "Lab_13.ipynb",
   "provenance": []
  },
  "kernelspec": {
   "display_name": "Python 3",
   "language": "python",
   "name": "python3"
  },
  "language_info": {
   "codemirror_mode": {
    "name": "ipython",
    "version": 3
   },
   "file_extension": ".py",
   "mimetype": "text/x-python",
   "name": "python",
   "nbconvert_exporter": "python",
   "pygments_lexer": "ipython3",
   "version": "3.7.10"
  }
 },
 "nbformat": 4,
 "nbformat_minor": 4
}
