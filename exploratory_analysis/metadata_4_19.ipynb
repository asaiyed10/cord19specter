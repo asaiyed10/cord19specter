{
 "cells": [
  {
   "cell_type": "code",
   "execution_count": 3,
   "id": "4faf2c3b",
   "metadata": {},
   "outputs": [
    {
     "data": {
      "text/html": [
       "\n",
       "        <div>\n",
       "            <p><b>SparkContext</b></p>\n",
       "\n",
       "            <p><a href=\"http://ip-172-31-5-8.ec2.internal:4040\">Spark UI</a></p>\n",
       "\n",
       "            <dl>\n",
       "              <dt>Version</dt>\n",
       "                <dd><code>v2.4.4</code></dd>\n",
       "              <dt>Master</dt>\n",
       "                <dd><code>yarn</code></dd>\n",
       "              <dt>AppName</dt>\n",
       "                <dd><code>pyspark-shell</code></dd>\n",
       "            </dl>\n",
       "        </div>\n",
       "        "
      ],
      "text/plain": [
       "<SparkContext master=yarn appName=pyspark-shell>"
      ]
     },
     "execution_count": 3,
     "metadata": {},
     "output_type": "execute_result"
    }
   ],
   "source": [
    "import findspark\n",
    "findspark.init()\n",
    "from pyspark.sql import SparkSession\n",
    "from pyspark import SparkContext\n",
    "\n",
    "import time \n",
    "from time import sleep\n",
    "\n",
    "sc = SparkContext()\n",
    "sc"
   ]
  },
  {
   "cell_type": "code",
   "execution_count": 4,
   "id": "8d193b61",
   "metadata": {},
   "outputs": [],
   "source": [
    "spark = SparkSession \\\n",
    " .builder \\\n",
    " .appName(\"Python Spark SQL basic example\") \\\n",
    " .config(\"spark.some.config.option\", \"some-value\") \\\n",
    " .getOrCreate()"
   ]
  },
  {
   "cell_type": "code",
   "execution_count": 5,
   "id": "2da77bfc",
   "metadata": {},
   "outputs": [],
   "source": [
    "data = spark.read.csv('s3://ai2-semanticscholar-cord-19/2021-04-19/metadata.csv/',header = True)"
   ]
  },
  {
   "cell_type": "code",
   "execution_count": 6,
   "id": "d5c34ca5",
   "metadata": {},
   "outputs": [],
   "source": [
    "from tqdm import tqdm\n",
    "import pandas as pd \n",
    "import io \n",
    "import boto3"
   ]
  },
  {
   "cell_type": "code",
   "execution_count": 8,
   "id": "cd47186d",
   "metadata": {},
   "outputs": [
    {
     "name": "stdout",
     "output_type": "stream",
     "text": [
      "+--------+--------------------+--------+--------------------+--------------------+---------+---------+---------+--------------------+------------+--------------------+--------------------+------+----------------+--------+--------------------+--------------------+--------------------+-----+\n",
      "|cord_uid|                 sha|source_x|               title|                 doi|    pmcid|pubmed_id|  license|            abstract|publish_time|             authors|             journal|mag_id|who_covidence_id|arxiv_id|      pdf_json_files|      pmc_json_files|                 url|s2_id|\n",
      "+--------+--------------------+--------+--------------------+--------------------+---------+---------+---------+--------------------+------------+--------------------+--------------------+------+----------------+--------+--------------------+--------------------+--------------------+-----+\n",
      "|ug7v899j|d1aafb70c066a2068...|     PMC|Clinical features...|10.1186/1471-2334...| PMC35282| 11472636|    no-cc|OBJECTIVE: This r...|  2001-07-04|Madani, Tariq A; ...|      BMC Infect Dis|  null|            null|    null|document_parses/p...|document_parses/p...|https://www.ncbi....| null|\n",
      "|02tnwd4m|6b0567729c2143a66...|     PMC|Nitric oxide: a p...|        10.1186/rr14| PMC59543| 11667967|    no-cc|Inflammatory dise...|  2000-08-15|Vliet, Albert van...|          Respir Res|  null|            null|    null|document_parses/p...|document_parses/p...|https://www.ncbi....| null|\n",
      "|ejv2xln0|06ced00a5fc042159...|     PMC|Surfactant protei...|        10.1186/rr19| PMC59549| 11667972|    no-cc|Surfactant protei...|  2000-08-25|     Crouch, Erika C|          Respir Res|  null|            null|    null|document_parses/p...|document_parses/p...|https://www.ncbi....| null|\n",
      "|2b73a28n|348055649b6b8cf2b...|     PMC|Role of endotheli...|        10.1186/rr44| PMC59574| 11686871|    no-cc|Endothelin-1 (ET-...|  2001-02-22|Fagan, Karen A; M...|          Respir Res|  null|            null|    null|document_parses/p...|document_parses/p...|https://www.ncbi....| null|\n",
      "|9785vg6d|5f48792a5fa08bed9...|     PMC|Gene expression i...|        10.1186/rr61| PMC59580| 11686888|    no-cc|Respiratory syncy...|  2001-05-11|Domachowske, Jose...|          Respir Res|  null|            null|    null|document_parses/p...|document_parses/p...|https://www.ncbi....| null|\n",
      "|zjufx4fo|b2897e1277f566411...|     PMC|Sequence requirem...|10.1093/emboj/20....|PMC125340| 11742998| green-oa|Nidovirus subgeno...|  2001-12-17|Pasternak, Alexan...|    The EMBO Journal|  null|            null|    null|document_parses/p...|document_parses/p...|http://europepmc....| null|\n",
      "|5yhe786e|3bb07ea10432f7738...|     PMC|Debate: Transfusi...|       10.1186/cc987|PMC137267| 11299062|    no-cc|Recent evidence s...|  2001-03-08|Alvarez, Gonzalo;...|           Crit Care|  null|            null|    null|document_parses/p...|document_parses/p...|https://www.ncbi....| null|\n",
      "|8zchiykl|5806726a24dc91de3...|     PMC|The 21st Internat...|      10.1186/cc1013|PMC137274| 11353930|    no-cc|The 21st Internat...|  2001-05-02|Ball, Jonathan; V...|           Crit Care|  null|            null|    null|document_parses/p...|document_parses/p...|https://www.ncbi....| null|\n",
      "|8qnrcgnk|faaf1022ccfe93b03...|     PMC|Heme oxygenase-1 ...|10.1186/1465-9921...|PMC193681| 12964953|    no-cc|Heme oxygenase-1 ...|  2003-08-07|Slebos, Dirk-Jan;...|          Respir Res|  null|            null|    null|document_parses/p...|document_parses/p...|https://www.ncbi....| null|\n",
      "|jg13scgo|5b44feca5d6ffaaeb...|     PMC|Technical Descrip...| 10.1197/jamia.m1345|PMC212776| 12807803|bronze-oa|This report descr...|  2003-09-01|Tsui, Fu-Chiang; ...|Journal of the Am...|  null|            null|    null|document_parses/p...|document_parses/p...|https://academic....| null|\n",
      "|5tkvsudh|9d4e3e8eb092d5ed2...|     PMC|Conservation of p...|10.1093/emboj/19....|PMC302018| 10775274|    no-cc|Regulation of orn...|  2000-04-17|Ivanov, Ivaylo P....|              EMBO J|  null|            null|    null|document_parses/p...|document_parses/p...|https://www.ncbi....| null|\n",
      "|6lvn10f4|14e0cac6e86d62859...|     PMC|Heterogeneous nuc...|10.1093/emboj/19....|PMC302072| 10970862| green-oa|Heterogeneous nuc...|  2000-09-01|Shi, Stephanie T....|    The EMBO Journal|  null|            null|    null|document_parses/p...|document_parses/p...|http://europepmc....| null|\n",
      "|tvxpckxo|d09b79026117ec9fa...|     PMC|A Method to Ident...|       10.1251/bpo66|PMC302190| 14702098|    no-cc|The UBA domain is...|  2003-12-12|Pridgeon, Julia W...|  Biol Proced Online|  null|            null|    null|document_parses/p...|document_parses/p...|https://www.ncbi....| null|\n",
      "|mcuixluu|44102e3e69e70ad2a...|     PMC|Vaccinia virus in...|10.1093/emboj/19....|PMC306617| 10921875| green-oa|We examined the r...|  2000-08-01|Ploubidou, Aspasi...|    The EMBO Journal|  null|            null|    null|document_parses/p...|document_parses/p...|http://europepmc....| null|\n",
      "|6iu1dtyl|6e8517cb25ff228cb...|     PMC|The site of origi...|10.1186/1479-5876...|PMC340389| 14733617|    no-cc|                null|  2004-01-20|       Barry, John M|        J Transl Med|  null|            null|    null|document_parses/p...|document_parses/p...|https://www.ncbi....| null|\n",
      "|t35n7bk9|30a4842a2e257f725...|     PMC|Multi-faceted, mu...|10.1186/1742-4690...|PMC420498| 15169556|    no-cc|There are hundred...|  2004-05-26|Shieh, Biehuoy; L...|       Retrovirology|  null|            null|    null|document_parses/p...|document_parses/p...|https://www.ncbi....| null|\n",
      "|eiqypt0m|6a8ac55ea2a1fbd99...|     PMC|Herpes simplex vi...|      10.1186/cc2850|PMC468896| 15153242|    no-cc|INTRODUCTION: The...|  2004-03-31|Verheij, Joanne; ...|           Crit Care|  null|            null|    null|document_parses/p...|document_parses/p...|https://www.ncbi....| null|\n",
      "|sgmk96vr|367af6bb9a8bbda02...|     PMC|Logistics of comm...|10.1186/1471-2458...|PMC520756| 15298713|    cc-by|BACKGROUND: Previ...|  2004-08-06|Porco, Travis C; ...|   BMC Public Health|  null|            null|    null|document_parses/p...|document_parses/p...|https://www.ncbi....| null|\n",
      "|di0fcy0j|4df2c6eecb985fcb2...|     PMC|Protection of pul...|10.1186/1465-9921...|PMC521691| 15450125|    cc-by|BACKGROUND: Oxyge...|  2004-09-27|Kremer, Ted M; Ri...|          Respir Res|  null|            null|    null|document_parses/p...|document_parses/p...|https://www.ncbi....| null|\n",
      "|4k8f7ou1|83b05e8afa6cbe7a6...|     PMC|Bioinformatic map...|10.1186/1471-2164...|PMC544882| 15627404|    cc-by|BACKGROUND: AlkB-...|  2005-01-03|Bratlie, Marit S;...|        BMC Genomics|  null|            null|    null|document_parses/p...|document_parses/p...|https://www.ncbi....| null|\n",
      "+--------+--------------------+--------+--------------------+--------------------+---------+---------+---------+--------------------+------------+--------------------+--------------------+------+----------------+--------+--------------------+--------------------+--------------------+-----+\n",
      "only showing top 20 rows\n",
      "\n"
     ]
    }
   ],
   "source": [
    "data.show()"
   ]
  },
  {
   "cell_type": "code",
   "execution_count": null,
   "id": "6f0547f9",
   "metadata": {},
   "outputs": [],
   "source": [
    "import urllib \n",
    "urllib.request.urlretrieve(\"https://resources.lendingclub.com/LoanStats3a.csv.zip\", \"/tmp/LoanStats3a.csv.zip\")"
   ]
  },
  {
   "cell_type": "code",
   "execution_count": 13,
   "id": "af8aa74e",
   "metadata": {},
   "outputs": [
    {
     "name": "stdout",
     "output_type": "stream",
     "text": [
      "Filesystem      Size  Used Avail Use% Mounted on\n",
      "devtmpfs        7.7G   84K  7.7G   1% /dev\n",
      "tmpfs           7.7G  4.0K  7.7G   1% /dev/shm\n",
      "/dev/nvme0n1p1  9.8G  9.4G  240M  98% /\n",
      "/dev/nvme1n1p1  5.0G   54M  5.0G   2% /emr\n",
      "/dev/nvme1n1p2   27G  442M   27G   2% /mnt\n",
      "/dev/nvme2n1     32G   67M   32G   1% /mnt1\n"
     ]
    }
   ],
   "source": [
    "!df -h "
   ]
  },
  {
   "cell_type": "code",
   "execution_count": 11,
   "id": "1fdce9e7",
   "metadata": {},
   "outputs": [
    {
     "ename": "OSError",
     "evalue": "[Errno 28] No space left on device",
     "output_type": "error",
     "traceback": [
      "\u001b[0;31m---------------------------------------------------------------------------\u001b[0m",
      "\u001b[0;31mOSError\u001b[0m                                   Traceback (most recent call last)",
      "\u001b[0;32m<ipython-input-11-292d725aa736>\u001b[0m in \u001b[0;36m<module>\u001b[0;34m\u001b[0m\n\u001b[0;32m----> 1\u001b[0;31m \u001b[0ms3\u001b[0m\u001b[0;34m.\u001b[0m\u001b[0mdownload_file\u001b[0m\u001b[0;34m(\u001b[0m\u001b[0;34m'ai2-semanticscholar-cord-19'\u001b[0m\u001b[0;34m,\u001b[0m \u001b[0;34m'2021-04-19/metadata.csv'\u001b[0m\u001b[0;34m,\u001b[0m \u001b[0;34m'FILE_NAME.csv'\u001b[0m\u001b[0;34m)\u001b[0m\u001b[0;34m\u001b[0m\u001b[0;34m\u001b[0m\u001b[0m\n\u001b[0m",
      "\u001b[0;32m~/miniconda/lib/python3.7/site-packages/boto3/s3/inject.py\u001b[0m in \u001b[0;36mdownload_file\u001b[0;34m(self, Bucket, Key, Filename, ExtraArgs, Callback, Config)\u001b[0m\n\u001b[1;32m    170\u001b[0m         return transfer.download_file(\n\u001b[1;32m    171\u001b[0m             \u001b[0mbucket\u001b[0m\u001b[0;34m=\u001b[0m\u001b[0mBucket\u001b[0m\u001b[0;34m,\u001b[0m \u001b[0mkey\u001b[0m\u001b[0;34m=\u001b[0m\u001b[0mKey\u001b[0m\u001b[0;34m,\u001b[0m \u001b[0mfilename\u001b[0m\u001b[0;34m=\u001b[0m\u001b[0mFilename\u001b[0m\u001b[0;34m,\u001b[0m\u001b[0;34m\u001b[0m\u001b[0;34m\u001b[0m\u001b[0m\n\u001b[0;32m--> 172\u001b[0;31m             extra_args=ExtraArgs, callback=Callback)\n\u001b[0m\u001b[1;32m    173\u001b[0m \u001b[0;34m\u001b[0m\u001b[0m\n\u001b[1;32m    174\u001b[0m \u001b[0;34m\u001b[0m\u001b[0m\n",
      "\u001b[0;32m~/miniconda/lib/python3.7/site-packages/boto3/s3/transfer.py\u001b[0m in \u001b[0;36mdownload_file\u001b[0;34m(self, bucket, key, filename, extra_args, callback)\u001b[0m\n\u001b[1;32m    305\u001b[0m             bucket, key, filename, extra_args, subscribers)\n\u001b[1;32m    306\u001b[0m         \u001b[0;32mtry\u001b[0m\u001b[0;34m:\u001b[0m\u001b[0;34m\u001b[0m\u001b[0;34m\u001b[0m\u001b[0m\n\u001b[0;32m--> 307\u001b[0;31m             \u001b[0mfuture\u001b[0m\u001b[0;34m.\u001b[0m\u001b[0mresult\u001b[0m\u001b[0;34m(\u001b[0m\u001b[0;34m)\u001b[0m\u001b[0;34m\u001b[0m\u001b[0;34m\u001b[0m\u001b[0m\n\u001b[0m\u001b[1;32m    308\u001b[0m         \u001b[0;31m# This is for backwards compatibility where when retries are\u001b[0m\u001b[0;34m\u001b[0m\u001b[0;34m\u001b[0m\u001b[0;34m\u001b[0m\u001b[0m\n\u001b[1;32m    309\u001b[0m         \u001b[0;31m# exceeded we need to throw the same error from boto3 instead of\u001b[0m\u001b[0;34m\u001b[0m\u001b[0;34m\u001b[0m\u001b[0;34m\u001b[0m\u001b[0m\n",
      "\u001b[0;32m~/miniconda/lib/python3.7/site-packages/s3transfer/futures.py\u001b[0m in \u001b[0;36mresult\u001b[0;34m(self)\u001b[0m\n\u001b[1;32m    104\u001b[0m             \u001b[0;31m# however if a KeyboardInterrupt is raised we want want to exit\u001b[0m\u001b[0;34m\u001b[0m\u001b[0;34m\u001b[0m\u001b[0;34m\u001b[0m\u001b[0m\n\u001b[1;32m    105\u001b[0m             \u001b[0;31m# out of this and propogate the exception.\u001b[0m\u001b[0;34m\u001b[0m\u001b[0;34m\u001b[0m\u001b[0;34m\u001b[0m\u001b[0m\n\u001b[0;32m--> 106\u001b[0;31m             \u001b[0;32mreturn\u001b[0m \u001b[0mself\u001b[0m\u001b[0;34m.\u001b[0m\u001b[0m_coordinator\u001b[0m\u001b[0;34m.\u001b[0m\u001b[0mresult\u001b[0m\u001b[0;34m(\u001b[0m\u001b[0;34m)\u001b[0m\u001b[0;34m\u001b[0m\u001b[0;34m\u001b[0m\u001b[0m\n\u001b[0m\u001b[1;32m    107\u001b[0m         \u001b[0;32mexcept\u001b[0m \u001b[0mKeyboardInterrupt\u001b[0m \u001b[0;32mas\u001b[0m \u001b[0me\u001b[0m\u001b[0;34m:\u001b[0m\u001b[0;34m\u001b[0m\u001b[0;34m\u001b[0m\u001b[0m\n\u001b[1;32m    108\u001b[0m             \u001b[0mself\u001b[0m\u001b[0;34m.\u001b[0m\u001b[0mcancel\u001b[0m\u001b[0;34m(\u001b[0m\u001b[0;34m)\u001b[0m\u001b[0;34m\u001b[0m\u001b[0;34m\u001b[0m\u001b[0m\n",
      "\u001b[0;32m~/miniconda/lib/python3.7/site-packages/s3transfer/futures.py\u001b[0m in \u001b[0;36mresult\u001b[0;34m(self)\u001b[0m\n\u001b[1;32m    263\u001b[0m         \u001b[0;31m# final result.\u001b[0m\u001b[0;34m\u001b[0m\u001b[0;34m\u001b[0m\u001b[0;34m\u001b[0m\u001b[0m\n\u001b[1;32m    264\u001b[0m         \u001b[0;32mif\u001b[0m \u001b[0mself\u001b[0m\u001b[0;34m.\u001b[0m\u001b[0m_exception\u001b[0m\u001b[0;34m:\u001b[0m\u001b[0;34m\u001b[0m\u001b[0;34m\u001b[0m\u001b[0m\n\u001b[0;32m--> 265\u001b[0;31m             \u001b[0;32mraise\u001b[0m \u001b[0mself\u001b[0m\u001b[0;34m.\u001b[0m\u001b[0m_exception\u001b[0m\u001b[0;34m\u001b[0m\u001b[0;34m\u001b[0m\u001b[0m\n\u001b[0m\u001b[1;32m    266\u001b[0m         \u001b[0;32mreturn\u001b[0m \u001b[0mself\u001b[0m\u001b[0;34m.\u001b[0m\u001b[0m_result\u001b[0m\u001b[0;34m\u001b[0m\u001b[0;34m\u001b[0m\u001b[0m\n\u001b[1;32m    267\u001b[0m \u001b[0;34m\u001b[0m\u001b[0m\n",
      "\u001b[0;32m~/miniconda/lib/python3.7/site-packages/s3transfer/tasks.py\u001b[0m in \u001b[0;36m__call__\u001b[0;34m(self)\u001b[0m\n\u001b[1;32m    124\u001b[0m             \u001b[0;31m# main() method.\u001b[0m\u001b[0;34m\u001b[0m\u001b[0;34m\u001b[0m\u001b[0;34m\u001b[0m\u001b[0m\n\u001b[1;32m    125\u001b[0m             \u001b[0;32mif\u001b[0m \u001b[0;32mnot\u001b[0m \u001b[0mself\u001b[0m\u001b[0;34m.\u001b[0m\u001b[0m_transfer_coordinator\u001b[0m\u001b[0;34m.\u001b[0m\u001b[0mdone\u001b[0m\u001b[0;34m(\u001b[0m\u001b[0;34m)\u001b[0m\u001b[0;34m:\u001b[0m\u001b[0;34m\u001b[0m\u001b[0;34m\u001b[0m\u001b[0m\n\u001b[0;32m--> 126\u001b[0;31m                 \u001b[0;32mreturn\u001b[0m \u001b[0mself\u001b[0m\u001b[0;34m.\u001b[0m\u001b[0m_execute_main\u001b[0m\u001b[0;34m(\u001b[0m\u001b[0mkwargs\u001b[0m\u001b[0;34m)\u001b[0m\u001b[0;34m\u001b[0m\u001b[0;34m\u001b[0m\u001b[0m\n\u001b[0m\u001b[1;32m    127\u001b[0m         \u001b[0;32mexcept\u001b[0m \u001b[0mException\u001b[0m \u001b[0;32mas\u001b[0m \u001b[0me\u001b[0m\u001b[0;34m:\u001b[0m\u001b[0;34m\u001b[0m\u001b[0;34m\u001b[0m\u001b[0m\n\u001b[1;32m    128\u001b[0m             \u001b[0mself\u001b[0m\u001b[0;34m.\u001b[0m\u001b[0m_log_and_set_exception\u001b[0m\u001b[0;34m(\u001b[0m\u001b[0me\u001b[0m\u001b[0;34m)\u001b[0m\u001b[0;34m\u001b[0m\u001b[0;34m\u001b[0m\u001b[0m\n",
      "\u001b[0;32m~/miniconda/lib/python3.7/site-packages/s3transfer/tasks.py\u001b[0m in \u001b[0;36m_execute_main\u001b[0;34m(self, kwargs)\u001b[0m\n\u001b[1;32m    148\u001b[0m         )\n\u001b[1;32m    149\u001b[0m \u001b[0;34m\u001b[0m\u001b[0m\n\u001b[0;32m--> 150\u001b[0;31m         \u001b[0mreturn_value\u001b[0m \u001b[0;34m=\u001b[0m \u001b[0mself\u001b[0m\u001b[0;34m.\u001b[0m\u001b[0m_main\u001b[0m\u001b[0;34m(\u001b[0m\u001b[0;34m**\u001b[0m\u001b[0mkwargs\u001b[0m\u001b[0;34m)\u001b[0m\u001b[0;34m\u001b[0m\u001b[0;34m\u001b[0m\u001b[0m\n\u001b[0m\u001b[1;32m    151\u001b[0m         \u001b[0;31m# If the task is the final task, then set the TransferFuture's\u001b[0m\u001b[0;34m\u001b[0m\u001b[0;34m\u001b[0m\u001b[0;34m\u001b[0m\u001b[0m\n\u001b[1;32m    152\u001b[0m         \u001b[0;31m# value to the return value from main().\u001b[0m\u001b[0;34m\u001b[0m\u001b[0;34m\u001b[0m\u001b[0;34m\u001b[0m\u001b[0m\n",
      "\u001b[0;32m~/miniconda/lib/python3.7/site-packages/s3transfer/download.py\u001b[0m in \u001b[0;36m_main\u001b[0;34m(self, fileobj, data, offset)\u001b[0m\n\u001b[1;32m    570\u001b[0m         \"\"\"\n\u001b[1;32m    571\u001b[0m         \u001b[0mfileobj\u001b[0m\u001b[0;34m.\u001b[0m\u001b[0mseek\u001b[0m\u001b[0;34m(\u001b[0m\u001b[0moffset\u001b[0m\u001b[0;34m)\u001b[0m\u001b[0;34m\u001b[0m\u001b[0;34m\u001b[0m\u001b[0m\n\u001b[0;32m--> 572\u001b[0;31m         \u001b[0mfileobj\u001b[0m\u001b[0;34m.\u001b[0m\u001b[0mwrite\u001b[0m\u001b[0;34m(\u001b[0m\u001b[0mdata\u001b[0m\u001b[0;34m)\u001b[0m\u001b[0;34m\u001b[0m\u001b[0;34m\u001b[0m\u001b[0m\n\u001b[0m\u001b[1;32m    573\u001b[0m \u001b[0;34m\u001b[0m\u001b[0m\n\u001b[1;32m    574\u001b[0m \u001b[0;34m\u001b[0m\u001b[0m\n",
      "\u001b[0;32m~/miniconda/lib/python3.7/site-packages/s3transfer/utils.py\u001b[0m in \u001b[0;36mwrite\u001b[0;34m(self, data)\u001b[0m\n\u001b[1;32m    362\u001b[0m     \u001b[0;32mdef\u001b[0m \u001b[0mwrite\u001b[0m\u001b[0;34m(\u001b[0m\u001b[0mself\u001b[0m\u001b[0;34m,\u001b[0m \u001b[0mdata\u001b[0m\u001b[0;34m)\u001b[0m\u001b[0;34m:\u001b[0m\u001b[0;34m\u001b[0m\u001b[0;34m\u001b[0m\u001b[0m\n\u001b[1;32m    363\u001b[0m         \u001b[0mself\u001b[0m\u001b[0;34m.\u001b[0m\u001b[0m_open_if_needed\u001b[0m\u001b[0;34m(\u001b[0m\u001b[0;34m)\u001b[0m\u001b[0;34m\u001b[0m\u001b[0;34m\u001b[0m\u001b[0m\n\u001b[0;32m--> 364\u001b[0;31m         \u001b[0mself\u001b[0m\u001b[0;34m.\u001b[0m\u001b[0m_fileobj\u001b[0m\u001b[0;34m.\u001b[0m\u001b[0mwrite\u001b[0m\u001b[0;34m(\u001b[0m\u001b[0mdata\u001b[0m\u001b[0;34m)\u001b[0m\u001b[0;34m\u001b[0m\u001b[0;34m\u001b[0m\u001b[0m\n\u001b[0m\u001b[1;32m    365\u001b[0m \u001b[0;34m\u001b[0m\u001b[0m\n\u001b[1;32m    366\u001b[0m     \u001b[0;32mdef\u001b[0m \u001b[0mseek\u001b[0m\u001b[0;34m(\u001b[0m\u001b[0mself\u001b[0m\u001b[0;34m,\u001b[0m \u001b[0mwhere\u001b[0m\u001b[0;34m,\u001b[0m \u001b[0mwhence\u001b[0m\u001b[0;34m=\u001b[0m\u001b[0;36m0\u001b[0m\u001b[0;34m)\u001b[0m\u001b[0;34m:\u001b[0m\u001b[0;34m\u001b[0m\u001b[0;34m\u001b[0m\u001b[0m\n",
      "\u001b[0;31mOSError\u001b[0m: [Errno 28] No space left on device"
     ]
    }
   ],
   "source": [
    "s3.download_file('ai2-semanticscholar-cord-19', '2021-04-19/metadata.csv', 'FILE_NAME.csv')"
   ]
  },
  {
   "cell_type": "code",
   "execution_count": null,
   "id": "a9452050",
   "metadata": {},
   "outputs": [],
   "source": [
    "data = spark.read.csv('s3://ai2-semanticscholar-cord-19/2021-04-19/metadata.csv/',header = True)"
   ]
  },
  {
   "cell_type": "code",
   "execution_count": null,
   "id": "45b8a1d4",
   "metadata": {},
   "outputs": [],
   "source": []
  },
  {
   "cell_type": "code",
   "execution_count": 2,
   "id": "0b8b9486",
   "metadata": {},
   "outputs": [
    {
     "name": "stderr",
     "output_type": "stream",
     "text": [
      "/home/hadoop/miniconda/lib/python3.7/site-packages/IPython/core/interactiveshell.py:3166: DtypeWarning: Columns (1,4,5,6,13,14,15,16) have mixed types.Specify dtype option on import or set low_memory=False.\n",
      "  interactivity=interactivity, compiler=compiler, result=result)\n"
     ]
    }
   ],
   "source": [
    "s3 = boto3.client('s3')\n",
    "\n",
    "obj = s3.get_object(Bucket='ai2-semanticscholar-cord-19', Key='2021-04-19/metadata.csv')\n",
    "\n",
    "metadata = pd.read_csv(io.BytesIO(obj['Body'].read()))\n",
    "\n"
   ]
  },
  {
   "cell_type": "code",
   "execution_count": null,
   "id": "c2db115a",
   "metadata": {},
   "outputs": [],
   "source": []
  }
 ],
 "metadata": {
  "kernelspec": {
   "display_name": "Python 3",
   "language": "python",
   "name": "python3"
  },
  "language_info": {
   "codemirror_mode": {
    "name": "ipython",
    "version": 3
   },
   "file_extension": ".py",
   "mimetype": "text/x-python",
   "name": "python",
   "nbconvert_exporter": "python",
   "pygments_lexer": "ipython3",
   "version": "3.7.10"
  }
 },
 "nbformat": 4,
 "nbformat_minor": 5
}
