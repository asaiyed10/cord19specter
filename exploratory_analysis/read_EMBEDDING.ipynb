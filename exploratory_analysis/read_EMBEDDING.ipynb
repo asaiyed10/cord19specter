{
 "cells": [
  {
   "cell_type": "markdown",
   "id": "a3def7db-e52d-4917-83cc-80b1bb8cc2e6",
   "metadata": {},
   "source": [
    "# Exploratory Analysis -- Metadata\n"
   ]
  },
  {
   "cell_type": "markdown",
   "id": "57a5731e-802f-44a7-8511-afa0efb3f8ce",
   "metadata": {},
   "source": [
    "#### Imports\n"
   ]
  },
  {
   "cell_type": "code",
   "execution_count": 78,
   "id": "e19dd38a-5c35-4956-a799-af2e883c679d",
   "metadata": {},
   "outputs": [
    {
     "name": "stdout",
     "output_type": "stream",
     "text": [
      "Collecting umap-learn\n",
      "  Downloading umap-learn-0.5.1.tar.gz (80 kB)\n",
      "\u001b[K     |████████████████████████████████| 80 kB 11.8 MB/s eta 0:00:01\n",
      "\u001b[?25hRequirement already satisfied: numpy>=1.17 in /home/hadoop/miniconda/lib/python3.7/site-packages (from umap-learn) (1.19.2)\n",
      "Requirement already satisfied: scikit-learn>=0.22 in /home/hadoop/miniconda/lib/python3.7/site-packages (from umap-learn) (0.24.1)\n",
      "Requirement already satisfied: scipy>=1.0 in /home/hadoop/miniconda/lib/python3.7/site-packages (from umap-learn) (1.6.2)\n",
      "Collecting numba>=0.49\n",
      "  Downloading numba-0.53.1-cp37-cp37m-manylinux2014_x86_64.whl (3.4 MB)\n",
      "\u001b[K     |████████████████████████████████| 3.4 MB 55.5 MB/s eta 0:00:01\n",
      "\u001b[?25hCollecting pynndescent>=0.5\n",
      "  Downloading pynndescent-0.5.2.tar.gz (1.1 MB)\n",
      "\u001b[K     |████████████████████████████████| 1.1 MB 94.5 MB/s eta 0:00:01\n",
      "\u001b[?25hRequirement already satisfied: setuptools in /home/hadoop/miniconda/lib/python3.7/site-packages (from numba>=0.49->umap-learn) (52.0.0.post20210125)\n",
      "Collecting llvmlite<0.37,>=0.36.0rc1\n",
      "  Downloading llvmlite-0.36.0-cp37-cp37m-manylinux2010_x86_64.whl (25.3 MB)\n",
      "\u001b[K     |████████████████████████████████| 25.3 MB 78.8 MB/s eta 0:00:01\n",
      "\u001b[?25hRequirement already satisfied: joblib>=0.11 in /home/hadoop/miniconda/lib/python3.7/site-packages (from pynndescent>=0.5->umap-learn) (1.0.1)\n",
      "Requirement already satisfied: threadpoolctl>=2.0.0 in /home/hadoop/miniconda/lib/python3.7/site-packages (from scikit-learn>=0.22->umap-learn) (2.1.0)\n",
      "Building wheels for collected packages: umap-learn, pynndescent\n",
      "  Building wheel for umap-learn (setup.py) ... \u001b[?25ldone\n",
      "\u001b[?25h  Created wheel for umap-learn: filename=umap_learn-0.5.1-py3-none-any.whl size=76566 sha256=ca9ead313617f18dee2695f6a1987c8057b00d47d98e30094d14fd17e9de15bc\n",
      "  Stored in directory: /home/hadoop/.cache/pip/wheels/01/e7/bb/347dc0e510803d7116a13d592b10cc68262da56a8eec4dd72f\n",
      "  Building wheel for pynndescent (setup.py) ... \u001b[?25ldone\n",
      "\u001b[?25h  Created wheel for pynndescent: filename=pynndescent-0.5.2-py3-none-any.whl size=51347 sha256=c7dbc4e226ba2c5be1e519f4afa70ec3027cdae0c3c374e44999e03a35d69023\n",
      "  Stored in directory: /home/hadoop/.cache/pip/wheels/62/0b/55/40d651c5a4106ea9ce68d014335a1c7bf059530722c0107b15\n",
      "Successfully built umap-learn pynndescent\n",
      "Installing collected packages: llvmlite, numba, pynndescent, umap-learn\n",
      "Successfully installed llvmlite-0.36.0 numba-0.53.1 pynndescent-0.5.2 umap-learn-0.5.1\n"
     ]
    }
   ],
   "source": [
    "import sys\n",
    "!{sys.executable} -m pip install umap-learn"
   ]
  },
  {
   "cell_type": "code",
   "execution_count": 79,
   "id": "41d897ec-e268-4dac-878a-93c34f7768cb",
   "metadata": {},
   "outputs": [],
   "source": [
    "import numpy as np\n",
    "import umap"
   ]
  },
  {
   "cell_type": "code",
   "execution_count": null,
   "id": "b8ed197a-86d7-438e-9117-07cd9a614140",
   "metadata": {},
   "outputs": [],
   "source": []
  },
  {
   "cell_type": "code",
   "execution_count": 1,
   "id": "0b4c7dda-c606-4128-8cf9-e278c6a908e7",
   "metadata": {},
   "outputs": [
    {
     "data": {
      "text/html": [
       "\n",
       "        <div>\n",
       "            <p><b>SparkContext</b></p>\n",
       "\n",
       "            <p><a href=\"http://ip-172-31-9-33.ec2.internal:4040\">Spark UI</a></p>\n",
       "\n",
       "            <dl>\n",
       "              <dt>Version</dt>\n",
       "                <dd><code>v2.4.4</code></dd>\n",
       "              <dt>Master</dt>\n",
       "                <dd><code>yarn</code></dd>\n",
       "              <dt>AppName</dt>\n",
       "                <dd><code>pyspark-shell</code></dd>\n",
       "            </dl>\n",
       "        </div>\n",
       "        "
      ],
      "text/plain": [
       "<SparkContext master=yarn appName=pyspark-shell>"
      ]
     },
     "execution_count": 1,
     "metadata": {},
     "output_type": "execute_result"
    }
   ],
   "source": [
    "import findspark\n",
    "findspark.init()\n",
    "from pyspark.sql import SparkSession\n",
    "from pyspark import SparkContext\n",
    "\n",
    "import time \n",
    "from time import sleep\n",
    "\n",
    "sc = SparkContext()\n",
    "sc"
   ]
  },
  {
   "cell_type": "code",
   "execution_count": 2,
   "id": "2afbc966-9b84-4ccc-a906-ed4309252944",
   "metadata": {},
   "outputs": [],
   "source": [
    "spark = SparkSession \\\n",
    " .builder \\\n",
    " .appName(\"Python Spark SQL basic example\") \\\n",
    " .config(\"spark.some.config.option\", \"some-value\") \\\n",
    " .getOrCreate()"
   ]
  },
  {
   "cell_type": "code",
   "execution_count": 3,
   "id": "029bd725-028e-43b8-933f-d8e6e0f520da",
   "metadata": {},
   "outputs": [],
   "source": [
    "from pyspark.sql import functions as F\n",
    "from pyspark.sql.types import StringType,ArrayType"
   ]
  },
  {
   "cell_type": "markdown",
   "id": "d5d21395-6eb9-42ae-a6a6-6254227b789d",
   "metadata": {},
   "source": [
    "### Read in metadata "
   ]
  },
  {
   "cell_type": "code",
   "execution_count": 9,
   "id": "b3f4c002-4307-4a12-8a5c-d539199166a7",
   "metadata": {},
   "outputs": [],
   "source": [
    "data = spark.read.csv('s3://ai2-semanticscholar-cord-19/2021-05-03/metadata.csv/',header = True)"
   ]
  },
  {
   "cell_type": "code",
   "execution_count": 10,
   "id": "76a7ba96-4a1f-4b61-a046-55e20c5816c5",
   "metadata": {},
   "outputs": [
    {
     "data": {
      "text/plain": [
       "DataFrame[cord_uid: string, sha: string, source_x: string, title: string, doi: string, pmcid: string, pubmed_id: string, license: string, abstract: string, publish_time: string, authors: string, journal: string, mag_id: string, who_covidence_id: string, arxiv_id: string, pdf_json_files: string, pmc_json_files: string, url: string, s2_id: string]"
      ]
     },
     "execution_count": 10,
     "metadata": {},
     "output_type": "execute_result"
    }
   ],
   "source": [
    "data.cache()"
   ]
  },
  {
   "cell_type": "code",
   "execution_count": 11,
   "id": "1617663b-e98a-4395-8360-4a2d5fca4eb1",
   "metadata": {},
   "outputs": [
    {
     "data": {
      "text/plain": [
       "['cord_uid',\n",
       " 'sha',\n",
       " 'source_x',\n",
       " 'title',\n",
       " 'doi',\n",
       " 'pmcid',\n",
       " 'pubmed_id',\n",
       " 'license',\n",
       " 'abstract',\n",
       " 'publish_time',\n",
       " 'authors',\n",
       " 'journal',\n",
       " 'mag_id',\n",
       " 'who_covidence_id',\n",
       " 'arxiv_id',\n",
       " 'pdf_json_files',\n",
       " 'pmc_json_files',\n",
       " 'url',\n",
       " 's2_id']"
      ]
     },
     "execution_count": 11,
     "metadata": {},
     "output_type": "execute_result"
    }
   ],
   "source": [
    "data.columns"
   ]
  },
  {
   "cell_type": "code",
   "execution_count": 12,
   "id": "6fabd547-8fb4-4f8b-86c0-a3405b3e709d",
   "metadata": {},
   "outputs": [
    {
     "name": "stdout",
     "output_type": "stream",
     "text": [
      "+--------+--------------------+--------------------+--------------------+--------------------+--------------------+--------------------+\n",
      "|cord_uid|               title|            abstract|             authors|             journal|      pmc_json_files|                 url|\n",
      "+--------+--------------------+--------------------+--------------------+--------------------+--------------------+--------------------+\n",
      "|ug7v899j|Clinical features...|OBJECTIVE: This r...|Madani, Tariq A; ...|      BMC Infect Dis|document_parses/p...|https://www.ncbi....|\n",
      "|02tnwd4m|Nitric oxide: a p...|Inflammatory dise...|Vliet, Albert van...|          Respir Res|document_parses/p...|https://www.ncbi....|\n",
      "|ejv2xln0|Surfactant protei...|Surfactant protei...|     Crouch, Erika C|          Respir Res|document_parses/p...|https://www.ncbi....|\n",
      "|2b73a28n|Role of endotheli...|Endothelin-1 (ET-...|Fagan, Karen A; M...|          Respir Res|document_parses/p...|https://www.ncbi....|\n",
      "|9785vg6d|Gene expression i...|Respiratory syncy...|Domachowske, Jose...|          Respir Res|document_parses/p...|https://www.ncbi....|\n",
      "|zjufx4fo|Sequence requirem...|Nidovirus subgeno...|Pasternak, Alexan...|    The EMBO Journal|document_parses/p...|http://europepmc....|\n",
      "|5yhe786e|Debate: Transfusi...|Recent evidence s...|Alvarez, Gonzalo;...|           Crit Care|document_parses/p...|https://www.ncbi....|\n",
      "|8zchiykl|The 21st Internat...|The 21st Internat...|Ball, Jonathan; V...|           Crit Care|document_parses/p...|https://www.ncbi....|\n",
      "|8qnrcgnk|Heme oxygenase-1 ...|Heme oxygenase-1 ...|Slebos, Dirk-Jan;...|          Respir Res|document_parses/p...|https://www.ncbi....|\n",
      "|jg13scgo|Technical Descrip...|This report descr...|Tsui, Fu-Chiang; ...|Journal of the Am...|document_parses/p...|https://academic....|\n",
      "|5tkvsudh|Conservation of p...|Regulation of orn...|Ivanov, Ivaylo P....|              EMBO J|document_parses/p...|https://www.ncbi....|\n",
      "|6lvn10f4|Heterogeneous nuc...|Heterogeneous nuc...|Shi, Stephanie T....|    The EMBO Journal|document_parses/p...|http://europepmc....|\n",
      "|tvxpckxo|A Method to Ident...|The UBA domain is...|Pridgeon, Julia W...|  Biol Proced Online|document_parses/p...|https://www.ncbi....|\n",
      "|mcuixluu|Vaccinia virus in...|We examined the r...|Ploubidou, Aspasi...|    The EMBO Journal|document_parses/p...|http://europepmc....|\n",
      "|6iu1dtyl|The site of origi...|                null|       Barry, John M|        J Transl Med|document_parses/p...|https://www.ncbi....|\n",
      "|t35n7bk9|Multi-faceted, mu...|There are hundred...|Shieh, Biehuoy; L...|       Retrovirology|document_parses/p...|https://www.ncbi....|\n",
      "|eiqypt0m|Herpes simplex vi...|INTRODUCTION: The...|Verheij, Joanne; ...|           Crit Care|document_parses/p...|https://www.ncbi....|\n",
      "|sgmk96vr|Logistics of comm...|BACKGROUND: Previ...|Porco, Travis C; ...|   BMC Public Health|document_parses/p...|https://www.ncbi....|\n",
      "|di0fcy0j|Protection of pul...|BACKGROUND: Oxyge...|Kremer, Ted M; Ri...|          Respir Res|document_parses/p...|https://www.ncbi....|\n",
      "|4k8f7ou1|Bioinformatic map...|BACKGROUND: AlkB-...|Bratlie, Marit S;...|        BMC Genomics|document_parses/p...|https://www.ncbi....|\n",
      "+--------+--------------------+--------------------+--------------------+--------------------+--------------------+--------------------+\n",
      "only showing top 20 rows\n",
      "\n"
     ]
    }
   ],
   "source": [
    "data[['cord_uid','title','abstract','authors','journal','pmc_json_files','url']].show()"
   ]
  },
  {
   "cell_type": "markdown",
   "id": "fa640460-ad7f-4945-8769-7330866039a9",
   "metadata": {},
   "source": [
    "## Load embeddings from S3 bucket"
   ]
  },
  {
   "cell_type": "code",
   "execution_count": 16,
   "id": "a893380f-169e-43aa-baaa-3b30a9ab0380",
   "metadata": {},
   "outputs": [],
   "source": [
    "embedding = spark.read.csv('s3://hids511final/cord_19_embeddings_2021-05-03.csv',header = False)"
   ]
  },
  {
   "cell_type": "code",
   "execution_count": 23,
   "id": "337e8cbf-7e03-4a96-bf24-f12302e1f598",
   "metadata": {
    "collapsed": true,
    "jupyter": {
     "outputs_hidden": true
    },
    "tags": []
   },
   "outputs": [
    {
     "data": {
      "text/plain": [
       "DataFrame[_c0: string, _c1: string, _c2: string, _c3: string, _c4: string, _c5: string, _c6: string, _c7: string, _c8: string, _c9: string, _c10: string, _c11: string, _c12: string, _c13: string, _c14: string, _c15: string, _c16: string, _c17: string, _c18: string, _c19: string, _c20: string, _c21: string, _c22: string, _c23: string, _c24: string, _c25: string, _c26: string, _c27: string, _c28: string, _c29: string, _c30: string, _c31: string, _c32: string, _c33: string, _c34: string, _c35: string, _c36: string, _c37: string, _c38: string, _c39: string, _c40: string, _c41: string, _c42: string, _c43: string, _c44: string, _c45: string, _c46: string, _c47: string, _c48: string, _c49: string, _c50: string, _c51: string, _c52: string, _c53: string, _c54: string, _c55: string, _c56: string, _c57: string, _c58: string, _c59: string, _c60: string, _c61: string, _c62: string, _c63: string, _c64: string, _c65: string, _c66: string, _c67: string, _c68: string, _c69: string, _c70: string, _c71: string, _c72: string, _c73: string, _c74: string, _c75: string, _c76: string, _c77: string, _c78: string, _c79: string, _c80: string, _c81: string, _c82: string, _c83: string, _c84: string, _c85: string, _c86: string, _c87: string, _c88: string, _c89: string, _c90: string, _c91: string, _c92: string, _c93: string, _c94: string, _c95: string, _c96: string, _c97: string, _c98: string, _c99: string, _c100: string, _c101: string, _c102: string, _c103: string, _c104: string, _c105: string, _c106: string, _c107: string, _c108: string, _c109: string, _c110: string, _c111: string, _c112: string, _c113: string, _c114: string, _c115: string, _c116: string, _c117: string, _c118: string, _c119: string, _c120: string, _c121: string, _c122: string, _c123: string, _c124: string, _c125: string, _c126: string, _c127: string, _c128: string, _c129: string, _c130: string, _c131: string, _c132: string, _c133: string, _c134: string, _c135: string, _c136: string, _c137: string, _c138: string, _c139: string, _c140: string, _c141: string, _c142: string, _c143: string, _c144: string, _c145: string, _c146: string, _c147: string, _c148: string, _c149: string, _c150: string, _c151: string, _c152: string, _c153: string, _c154: string, _c155: string, _c156: string, _c157: string, _c158: string, _c159: string, _c160: string, _c161: string, _c162: string, _c163: string, _c164: string, _c165: string, _c166: string, _c167: string, _c168: string, _c169: string, _c170: string, _c171: string, _c172: string, _c173: string, _c174: string, _c175: string, _c176: string, _c177: string, _c178: string, _c179: string, _c180: string, _c181: string, _c182: string, _c183: string, _c184: string, _c185: string, _c186: string, _c187: string, _c188: string, _c189: string, _c190: string, _c191: string, _c192: string, _c193: string, _c194: string, _c195: string, _c196: string, _c197: string, _c198: string, _c199: string, _c200: string, _c201: string, _c202: string, _c203: string, _c204: string, _c205: string, _c206: string, _c207: string, _c208: string, _c209: string, _c210: string, _c211: string, _c212: string, _c213: string, _c214: string, _c215: string, _c216: string, _c217: string, _c218: string, _c219: string, _c220: string, _c221: string, _c222: string, _c223: string, _c224: string, _c225: string, _c226: string, _c227: string, _c228: string, _c229: string, _c230: string, _c231: string, _c232: string, _c233: string, _c234: string, _c235: string, _c236: string, _c237: string, _c238: string, _c239: string, _c240: string, _c241: string, _c242: string, _c243: string, _c244: string, _c245: string, _c246: string, _c247: string, _c248: string, _c249: string, _c250: string, _c251: string, _c252: string, _c253: string, _c254: string, _c255: string, _c256: string, _c257: string, _c258: string, _c259: string, _c260: string, _c261: string, _c262: string, _c263: string, _c264: string, _c265: string, _c266: string, _c267: string, _c268: string, _c269: string, _c270: string, _c271: string, _c272: string, _c273: string, _c274: string, _c275: string, _c276: string, _c277: string, _c278: string, _c279: string, _c280: string, _c281: string, _c282: string, _c283: string, _c284: string, _c285: string, _c286: string, _c287: string, _c288: string, _c289: string, _c290: string, _c291: string, _c292: string, _c293: string, _c294: string, _c295: string, _c296: string, _c297: string, _c298: string, _c299: string, _c300: string, _c301: string, _c302: string, _c303: string, _c304: string, _c305: string, _c306: string, _c307: string, _c308: string, _c309: string, _c310: string, _c311: string, _c312: string, _c313: string, _c314: string, _c315: string, _c316: string, _c317: string, _c318: string, _c319: string, _c320: string, _c321: string, _c322: string, _c323: string, _c324: string, _c325: string, _c326: string, _c327: string, _c328: string, _c329: string, _c330: string, _c331: string, _c332: string, _c333: string, _c334: string, _c335: string, _c336: string, _c337: string, _c338: string, _c339: string, _c340: string, _c341: string, _c342: string, _c343: string, _c344: string, _c345: string, _c346: string, _c347: string, _c348: string, _c349: string, _c350: string, _c351: string, _c352: string, _c353: string, _c354: string, _c355: string, _c356: string, _c357: string, _c358: string, _c359: string, _c360: string, _c361: string, _c362: string, _c363: string, _c364: string, _c365: string, _c366: string, _c367: string, _c368: string, _c369: string, _c370: string, _c371: string, _c372: string, _c373: string, _c374: string, _c375: string, _c376: string, _c377: string, _c378: string, _c379: string, _c380: string, _c381: string, _c382: string, _c383: string, _c384: string, _c385: string, _c386: string, _c387: string, _c388: string, _c389: string, _c390: string, _c391: string, _c392: string, _c393: string, _c394: string, _c395: string, _c396: string, _c397: string, _c398: string, _c399: string, _c400: string, _c401: string, _c402: string, _c403: string, _c404: string, _c405: string, _c406: string, _c407: string, _c408: string, _c409: string, _c410: string, _c411: string, _c412: string, _c413: string, _c414: string, _c415: string, _c416: string, _c417: string, _c418: string, _c419: string, _c420: string, _c421: string, _c422: string, _c423: string, _c424: string, _c425: string, _c426: string, _c427: string, _c428: string, _c429: string, _c430: string, _c431: string, _c432: string, _c433: string, _c434: string, _c435: string, _c436: string, _c437: string, _c438: string, _c439: string, _c440: string, _c441: string, _c442: string, _c443: string, _c444: string, _c445: string, _c446: string, _c447: string, _c448: string, _c449: string, _c450: string, _c451: string, _c452: string, _c453: string, _c454: string, _c455: string, _c456: string, _c457: string, _c458: string, _c459: string, _c460: string, _c461: string, _c462: string, _c463: string, _c464: string, _c465: string, _c466: string, _c467: string, _c468: string, _c469: string, _c470: string, _c471: string, _c472: string, _c473: string, _c474: string, _c475: string, _c476: string, _c477: string, _c478: string, _c479: string, _c480: string, _c481: string, _c482: string, _c483: string, _c484: string, _c485: string, _c486: string, _c487: string, _c488: string, _c489: string, _c490: string, _c491: string, _c492: string, _c493: string, _c494: string, _c495: string, _c496: string, _c497: string, _c498: string, _c499: string, _c500: string, _c501: string, _c502: string, _c503: string, _c504: string, _c505: string, _c506: string, _c507: string, _c508: string, _c509: string, _c510: string, _c511: string, _c512: string, _c513: string, _c514: string, _c515: string, _c516: string, _c517: string, _c518: string, _c519: string, _c520: string, _c521: string, _c522: string, _c523: string, _c524: string, _c525: string, _c526: string, _c527: string, _c528: string, _c529: string, _c530: string, _c531: string, _c532: string, _c533: string, _c534: string, _c535: string, _c536: string, _c537: string, _c538: string, _c539: string, _c540: string, _c541: string, _c542: string, _c543: string, _c544: string, _c545: string, _c546: string, _c547: string, _c548: string, _c549: string, _c550: string, _c551: string, _c552: string, _c553: string, _c554: string, _c555: string, _c556: string, _c557: string, _c558: string, _c559: string, _c560: string, _c561: string, _c562: string, _c563: string, _c564: string, _c565: string, _c566: string, _c567: string, _c568: string, _c569: string, _c570: string, _c571: string, _c572: string, _c573: string, _c574: string, _c575: string, _c576: string, _c577: string, _c578: string, _c579: string, _c580: string, _c581: string, _c582: string, _c583: string, _c584: string, _c585: string, _c586: string, _c587: string, _c588: string, _c589: string, _c590: string, _c591: string, _c592: string, _c593: string, _c594: string, _c595: string, _c596: string, _c597: string, _c598: string, _c599: string, _c600: string, _c601: string, _c602: string, _c603: string, _c604: string, _c605: string, _c606: string, _c607: string, _c608: string, _c609: string, _c610: string, _c611: string, _c612: string, _c613: string, _c614: string, _c615: string, _c616: string, _c617: string, _c618: string, _c619: string, _c620: string, _c621: string, _c622: string, _c623: string, _c624: string, _c625: string, _c626: string, _c627: string, _c628: string, _c629: string, _c630: string, _c631: string, _c632: string, _c633: string, _c634: string, _c635: string, _c636: string, _c637: string, _c638: string, _c639: string, _c640: string, _c641: string, _c642: string, _c643: string, _c644: string, _c645: string, _c646: string, _c647: string, _c648: string, _c649: string, _c650: string, _c651: string, _c652: string, _c653: string, _c654: string, _c655: string, _c656: string, _c657: string, _c658: string, _c659: string, _c660: string, _c661: string, _c662: string, _c663: string, _c664: string, _c665: string, _c666: string, _c667: string, _c668: string, _c669: string, _c670: string, _c671: string, _c672: string, _c673: string, _c674: string, _c675: string, _c676: string, _c677: string, _c678: string, _c679: string, _c680: string, _c681: string, _c682: string, _c683: string, _c684: string, _c685: string, _c686: string, _c687: string, _c688: string, _c689: string, _c690: string, _c691: string, _c692: string, _c693: string, _c694: string, _c695: string, _c696: string, _c697: string, _c698: string, _c699: string, _c700: string, _c701: string, _c702: string, _c703: string, _c704: string, _c705: string, _c706: string, _c707: string, _c708: string, _c709: string, _c710: string, _c711: string, _c712: string, _c713: string, _c714: string, _c715: string, _c716: string, _c717: string, _c718: string, _c719: string, _c720: string, _c721: string, _c722: string, _c723: string, _c724: string, _c725: string, _c726: string, _c727: string, _c728: string, _c729: string, _c730: string, _c731: string, _c732: string, _c733: string, _c734: string, _c735: string, _c736: string, _c737: string, _c738: string, _c739: string, _c740: string, _c741: string, _c742: string, _c743: string, _c744: string, _c745: string, _c746: string, _c747: string, _c748: string, _c749: string, _c750: string, _c751: string, _c752: string, _c753: string, _c754: string, _c755: string, _c756: string, _c757: string, _c758: string, _c759: string, _c760: string, _c761: string, _c762: string, _c763: string, _c764: string, _c765: string, _c766: string, _c767: string, _c768: string]"
      ]
     },
     "execution_count": 23,
     "metadata": {},
     "output_type": "execute_result"
    }
   ],
   "source": [
    "embedding.cache()"
   ]
  },
  {
   "cell_type": "code",
   "execution_count": 22,
   "id": "722c94ed-b084-49b5-a647-5211c46f2315",
   "metadata": {
    "scrolled": true,
    "tags": []
   },
   "outputs": [
    {
     "data": {
      "text/plain": [
       "['_c0',\n",
       " '_c1',\n",
       " '_c2',\n",
       " '_c3',\n",
       " '_c4',\n",
       " '_c5',\n",
       " '_c6',\n",
       " '_c7',\n",
       " '_c8',\n",
       " '_c9',\n",
       " '_c10',\n",
       " '_c11',\n",
       " '_c12',\n",
       " '_c13',\n",
       " '_c14',\n",
       " '_c15',\n",
       " '_c16',\n",
       " '_c17',\n",
       " '_c18',\n",
       " '_c19',\n",
       " '_c20',\n",
       " '_c21',\n",
       " '_c22',\n",
       " '_c23',\n",
       " '_c24',\n",
       " '_c25',\n",
       " '_c26',\n",
       " '_c27',\n",
       " '_c28',\n",
       " '_c29',\n",
       " '_c30',\n",
       " '_c31',\n",
       " '_c32',\n",
       " '_c33',\n",
       " '_c34',\n",
       " '_c35',\n",
       " '_c36',\n",
       " '_c37',\n",
       " '_c38',\n",
       " '_c39',\n",
       " '_c40',\n",
       " '_c41',\n",
       " '_c42',\n",
       " '_c43',\n",
       " '_c44',\n",
       " '_c45',\n",
       " '_c46',\n",
       " '_c47',\n",
       " '_c48',\n",
       " '_c49',\n",
       " '_c50',\n",
       " '_c51',\n",
       " '_c52',\n",
       " '_c53',\n",
       " '_c54',\n",
       " '_c55',\n",
       " '_c56',\n",
       " '_c57',\n",
       " '_c58',\n",
       " '_c59',\n",
       " '_c60',\n",
       " '_c61',\n",
       " '_c62',\n",
       " '_c63',\n",
       " '_c64',\n",
       " '_c65',\n",
       " '_c66',\n",
       " '_c67',\n",
       " '_c68',\n",
       " '_c69',\n",
       " '_c70',\n",
       " '_c71',\n",
       " '_c72',\n",
       " '_c73',\n",
       " '_c74',\n",
       " '_c75',\n",
       " '_c76',\n",
       " '_c77',\n",
       " '_c78',\n",
       " '_c79',\n",
       " '_c80',\n",
       " '_c81',\n",
       " '_c82',\n",
       " '_c83',\n",
       " '_c84',\n",
       " '_c85',\n",
       " '_c86',\n",
       " '_c87',\n",
       " '_c88',\n",
       " '_c89',\n",
       " '_c90',\n",
       " '_c91',\n",
       " '_c92',\n",
       " '_c93',\n",
       " '_c94',\n",
       " '_c95',\n",
       " '_c96',\n",
       " '_c97',\n",
       " '_c98',\n",
       " '_c99',\n",
       " '_c100',\n",
       " '_c101',\n",
       " '_c102',\n",
       " '_c103',\n",
       " '_c104',\n",
       " '_c105',\n",
       " '_c106',\n",
       " '_c107',\n",
       " '_c108',\n",
       " '_c109',\n",
       " '_c110',\n",
       " '_c111',\n",
       " '_c112',\n",
       " '_c113',\n",
       " '_c114',\n",
       " '_c115',\n",
       " '_c116',\n",
       " '_c117',\n",
       " '_c118',\n",
       " '_c119',\n",
       " '_c120',\n",
       " '_c121',\n",
       " '_c122',\n",
       " '_c123',\n",
       " '_c124',\n",
       " '_c125',\n",
       " '_c126',\n",
       " '_c127',\n",
       " '_c128',\n",
       " '_c129',\n",
       " '_c130',\n",
       " '_c131',\n",
       " '_c132',\n",
       " '_c133',\n",
       " '_c134',\n",
       " '_c135',\n",
       " '_c136',\n",
       " '_c137',\n",
       " '_c138',\n",
       " '_c139',\n",
       " '_c140',\n",
       " '_c141',\n",
       " '_c142',\n",
       " '_c143',\n",
       " '_c144',\n",
       " '_c145',\n",
       " '_c146',\n",
       " '_c147',\n",
       " '_c148',\n",
       " '_c149',\n",
       " '_c150',\n",
       " '_c151',\n",
       " '_c152',\n",
       " '_c153',\n",
       " '_c154',\n",
       " '_c155',\n",
       " '_c156',\n",
       " '_c157',\n",
       " '_c158',\n",
       " '_c159',\n",
       " '_c160',\n",
       " '_c161',\n",
       " '_c162',\n",
       " '_c163',\n",
       " '_c164',\n",
       " '_c165',\n",
       " '_c166',\n",
       " '_c167',\n",
       " '_c168',\n",
       " '_c169',\n",
       " '_c170',\n",
       " '_c171',\n",
       " '_c172',\n",
       " '_c173',\n",
       " '_c174',\n",
       " '_c175',\n",
       " '_c176',\n",
       " '_c177',\n",
       " '_c178',\n",
       " '_c179',\n",
       " '_c180',\n",
       " '_c181',\n",
       " '_c182',\n",
       " '_c183',\n",
       " '_c184',\n",
       " '_c185',\n",
       " '_c186',\n",
       " '_c187',\n",
       " '_c188',\n",
       " '_c189',\n",
       " '_c190',\n",
       " '_c191',\n",
       " '_c192',\n",
       " '_c193',\n",
       " '_c194',\n",
       " '_c195',\n",
       " '_c196',\n",
       " '_c197',\n",
       " '_c198',\n",
       " '_c199',\n",
       " '_c200',\n",
       " '_c201',\n",
       " '_c202',\n",
       " '_c203',\n",
       " '_c204',\n",
       " '_c205',\n",
       " '_c206',\n",
       " '_c207',\n",
       " '_c208',\n",
       " '_c209',\n",
       " '_c210',\n",
       " '_c211',\n",
       " '_c212',\n",
       " '_c213',\n",
       " '_c214',\n",
       " '_c215',\n",
       " '_c216',\n",
       " '_c217',\n",
       " '_c218',\n",
       " '_c219',\n",
       " '_c220',\n",
       " '_c221',\n",
       " '_c222',\n",
       " '_c223',\n",
       " '_c224',\n",
       " '_c225',\n",
       " '_c226',\n",
       " '_c227',\n",
       " '_c228',\n",
       " '_c229',\n",
       " '_c230',\n",
       " '_c231',\n",
       " '_c232',\n",
       " '_c233',\n",
       " '_c234',\n",
       " '_c235',\n",
       " '_c236',\n",
       " '_c237',\n",
       " '_c238',\n",
       " '_c239',\n",
       " '_c240',\n",
       " '_c241',\n",
       " '_c242',\n",
       " '_c243',\n",
       " '_c244',\n",
       " '_c245',\n",
       " '_c246',\n",
       " '_c247',\n",
       " '_c248',\n",
       " '_c249',\n",
       " '_c250',\n",
       " '_c251',\n",
       " '_c252',\n",
       " '_c253',\n",
       " '_c254',\n",
       " '_c255',\n",
       " '_c256',\n",
       " '_c257',\n",
       " '_c258',\n",
       " '_c259',\n",
       " '_c260',\n",
       " '_c261',\n",
       " '_c262',\n",
       " '_c263',\n",
       " '_c264',\n",
       " '_c265',\n",
       " '_c266',\n",
       " '_c267',\n",
       " '_c268',\n",
       " '_c269',\n",
       " '_c270',\n",
       " '_c271',\n",
       " '_c272',\n",
       " '_c273',\n",
       " '_c274',\n",
       " '_c275',\n",
       " '_c276',\n",
       " '_c277',\n",
       " '_c278',\n",
       " '_c279',\n",
       " '_c280',\n",
       " '_c281',\n",
       " '_c282',\n",
       " '_c283',\n",
       " '_c284',\n",
       " '_c285',\n",
       " '_c286',\n",
       " '_c287',\n",
       " '_c288',\n",
       " '_c289',\n",
       " '_c290',\n",
       " '_c291',\n",
       " '_c292',\n",
       " '_c293',\n",
       " '_c294',\n",
       " '_c295',\n",
       " '_c296',\n",
       " '_c297',\n",
       " '_c298',\n",
       " '_c299',\n",
       " '_c300',\n",
       " '_c301',\n",
       " '_c302',\n",
       " '_c303',\n",
       " '_c304',\n",
       " '_c305',\n",
       " '_c306',\n",
       " '_c307',\n",
       " '_c308',\n",
       " '_c309',\n",
       " '_c310',\n",
       " '_c311',\n",
       " '_c312',\n",
       " '_c313',\n",
       " '_c314',\n",
       " '_c315',\n",
       " '_c316',\n",
       " '_c317',\n",
       " '_c318',\n",
       " '_c319',\n",
       " '_c320',\n",
       " '_c321',\n",
       " '_c322',\n",
       " '_c323',\n",
       " '_c324',\n",
       " '_c325',\n",
       " '_c326',\n",
       " '_c327',\n",
       " '_c328',\n",
       " '_c329',\n",
       " '_c330',\n",
       " '_c331',\n",
       " '_c332',\n",
       " '_c333',\n",
       " '_c334',\n",
       " '_c335',\n",
       " '_c336',\n",
       " '_c337',\n",
       " '_c338',\n",
       " '_c339',\n",
       " '_c340',\n",
       " '_c341',\n",
       " '_c342',\n",
       " '_c343',\n",
       " '_c344',\n",
       " '_c345',\n",
       " '_c346',\n",
       " '_c347',\n",
       " '_c348',\n",
       " '_c349',\n",
       " '_c350',\n",
       " '_c351',\n",
       " '_c352',\n",
       " '_c353',\n",
       " '_c354',\n",
       " '_c355',\n",
       " '_c356',\n",
       " '_c357',\n",
       " '_c358',\n",
       " '_c359',\n",
       " '_c360',\n",
       " '_c361',\n",
       " '_c362',\n",
       " '_c363',\n",
       " '_c364',\n",
       " '_c365',\n",
       " '_c366',\n",
       " '_c367',\n",
       " '_c368',\n",
       " '_c369',\n",
       " '_c370',\n",
       " '_c371',\n",
       " '_c372',\n",
       " '_c373',\n",
       " '_c374',\n",
       " '_c375',\n",
       " '_c376',\n",
       " '_c377',\n",
       " '_c378',\n",
       " '_c379',\n",
       " '_c380',\n",
       " '_c381',\n",
       " '_c382',\n",
       " '_c383',\n",
       " '_c384',\n",
       " '_c385',\n",
       " '_c386',\n",
       " '_c387',\n",
       " '_c388',\n",
       " '_c389',\n",
       " '_c390',\n",
       " '_c391',\n",
       " '_c392',\n",
       " '_c393',\n",
       " '_c394',\n",
       " '_c395',\n",
       " '_c396',\n",
       " '_c397',\n",
       " '_c398',\n",
       " '_c399',\n",
       " '_c400',\n",
       " '_c401',\n",
       " '_c402',\n",
       " '_c403',\n",
       " '_c404',\n",
       " '_c405',\n",
       " '_c406',\n",
       " '_c407',\n",
       " '_c408',\n",
       " '_c409',\n",
       " '_c410',\n",
       " '_c411',\n",
       " '_c412',\n",
       " '_c413',\n",
       " '_c414',\n",
       " '_c415',\n",
       " '_c416',\n",
       " '_c417',\n",
       " '_c418',\n",
       " '_c419',\n",
       " '_c420',\n",
       " '_c421',\n",
       " '_c422',\n",
       " '_c423',\n",
       " '_c424',\n",
       " '_c425',\n",
       " '_c426',\n",
       " '_c427',\n",
       " '_c428',\n",
       " '_c429',\n",
       " '_c430',\n",
       " '_c431',\n",
       " '_c432',\n",
       " '_c433',\n",
       " '_c434',\n",
       " '_c435',\n",
       " '_c436',\n",
       " '_c437',\n",
       " '_c438',\n",
       " '_c439',\n",
       " '_c440',\n",
       " '_c441',\n",
       " '_c442',\n",
       " '_c443',\n",
       " '_c444',\n",
       " '_c445',\n",
       " '_c446',\n",
       " '_c447',\n",
       " '_c448',\n",
       " '_c449',\n",
       " '_c450',\n",
       " '_c451',\n",
       " '_c452',\n",
       " '_c453',\n",
       " '_c454',\n",
       " '_c455',\n",
       " '_c456',\n",
       " '_c457',\n",
       " '_c458',\n",
       " '_c459',\n",
       " '_c460',\n",
       " '_c461',\n",
       " '_c462',\n",
       " '_c463',\n",
       " '_c464',\n",
       " '_c465',\n",
       " '_c466',\n",
       " '_c467',\n",
       " '_c468',\n",
       " '_c469',\n",
       " '_c470',\n",
       " '_c471',\n",
       " '_c472',\n",
       " '_c473',\n",
       " '_c474',\n",
       " '_c475',\n",
       " '_c476',\n",
       " '_c477',\n",
       " '_c478',\n",
       " '_c479',\n",
       " '_c480',\n",
       " '_c481',\n",
       " '_c482',\n",
       " '_c483',\n",
       " '_c484',\n",
       " '_c485',\n",
       " '_c486',\n",
       " '_c487',\n",
       " '_c488',\n",
       " '_c489',\n",
       " '_c490',\n",
       " '_c491',\n",
       " '_c492',\n",
       " '_c493',\n",
       " '_c494',\n",
       " '_c495',\n",
       " '_c496',\n",
       " '_c497',\n",
       " '_c498',\n",
       " '_c499',\n",
       " '_c500',\n",
       " '_c501',\n",
       " '_c502',\n",
       " '_c503',\n",
       " '_c504',\n",
       " '_c505',\n",
       " '_c506',\n",
       " '_c507',\n",
       " '_c508',\n",
       " '_c509',\n",
       " '_c510',\n",
       " '_c511',\n",
       " '_c512',\n",
       " '_c513',\n",
       " '_c514',\n",
       " '_c515',\n",
       " '_c516',\n",
       " '_c517',\n",
       " '_c518',\n",
       " '_c519',\n",
       " '_c520',\n",
       " '_c521',\n",
       " '_c522',\n",
       " '_c523',\n",
       " '_c524',\n",
       " '_c525',\n",
       " '_c526',\n",
       " '_c527',\n",
       " '_c528',\n",
       " '_c529',\n",
       " '_c530',\n",
       " '_c531',\n",
       " '_c532',\n",
       " '_c533',\n",
       " '_c534',\n",
       " '_c535',\n",
       " '_c536',\n",
       " '_c537',\n",
       " '_c538',\n",
       " '_c539',\n",
       " '_c540',\n",
       " '_c541',\n",
       " '_c542',\n",
       " '_c543',\n",
       " '_c544',\n",
       " '_c545',\n",
       " '_c546',\n",
       " '_c547',\n",
       " '_c548',\n",
       " '_c549',\n",
       " '_c550',\n",
       " '_c551',\n",
       " '_c552',\n",
       " '_c553',\n",
       " '_c554',\n",
       " '_c555',\n",
       " '_c556',\n",
       " '_c557',\n",
       " '_c558',\n",
       " '_c559',\n",
       " '_c560',\n",
       " '_c561',\n",
       " '_c562',\n",
       " '_c563',\n",
       " '_c564',\n",
       " '_c565',\n",
       " '_c566',\n",
       " '_c567',\n",
       " '_c568',\n",
       " '_c569',\n",
       " '_c570',\n",
       " '_c571',\n",
       " '_c572',\n",
       " '_c573',\n",
       " '_c574',\n",
       " '_c575',\n",
       " '_c576',\n",
       " '_c577',\n",
       " '_c578',\n",
       " '_c579',\n",
       " '_c580',\n",
       " '_c581',\n",
       " '_c582',\n",
       " '_c583',\n",
       " '_c584',\n",
       " '_c585',\n",
       " '_c586',\n",
       " '_c587',\n",
       " '_c588',\n",
       " '_c589',\n",
       " '_c590',\n",
       " '_c591',\n",
       " '_c592',\n",
       " '_c593',\n",
       " '_c594',\n",
       " '_c595',\n",
       " '_c596',\n",
       " '_c597',\n",
       " '_c598',\n",
       " '_c599',\n",
       " '_c600',\n",
       " '_c601',\n",
       " '_c602',\n",
       " '_c603',\n",
       " '_c604',\n",
       " '_c605',\n",
       " '_c606',\n",
       " '_c607',\n",
       " '_c608',\n",
       " '_c609',\n",
       " '_c610',\n",
       " '_c611',\n",
       " '_c612',\n",
       " '_c613',\n",
       " '_c614',\n",
       " '_c615',\n",
       " '_c616',\n",
       " '_c617',\n",
       " '_c618',\n",
       " '_c619',\n",
       " '_c620',\n",
       " '_c621',\n",
       " '_c622',\n",
       " '_c623',\n",
       " '_c624',\n",
       " '_c625',\n",
       " '_c626',\n",
       " '_c627',\n",
       " '_c628',\n",
       " '_c629',\n",
       " '_c630',\n",
       " '_c631',\n",
       " '_c632',\n",
       " '_c633',\n",
       " '_c634',\n",
       " '_c635',\n",
       " '_c636',\n",
       " '_c637',\n",
       " '_c638',\n",
       " '_c639',\n",
       " '_c640',\n",
       " '_c641',\n",
       " '_c642',\n",
       " '_c643',\n",
       " '_c644',\n",
       " '_c645',\n",
       " '_c646',\n",
       " '_c647',\n",
       " '_c648',\n",
       " '_c649',\n",
       " '_c650',\n",
       " '_c651',\n",
       " '_c652',\n",
       " '_c653',\n",
       " '_c654',\n",
       " '_c655',\n",
       " '_c656',\n",
       " '_c657',\n",
       " '_c658',\n",
       " '_c659',\n",
       " '_c660',\n",
       " '_c661',\n",
       " '_c662',\n",
       " '_c663',\n",
       " '_c664',\n",
       " '_c665',\n",
       " '_c666',\n",
       " '_c667',\n",
       " '_c668',\n",
       " '_c669',\n",
       " '_c670',\n",
       " '_c671',\n",
       " '_c672',\n",
       " '_c673',\n",
       " '_c674',\n",
       " '_c675',\n",
       " '_c676',\n",
       " '_c677',\n",
       " '_c678',\n",
       " '_c679',\n",
       " '_c680',\n",
       " '_c681',\n",
       " '_c682',\n",
       " '_c683',\n",
       " '_c684',\n",
       " '_c685',\n",
       " '_c686',\n",
       " '_c687',\n",
       " '_c688',\n",
       " '_c689',\n",
       " '_c690',\n",
       " '_c691',\n",
       " '_c692',\n",
       " '_c693',\n",
       " '_c694',\n",
       " '_c695',\n",
       " '_c696',\n",
       " '_c697',\n",
       " '_c698',\n",
       " '_c699',\n",
       " '_c700',\n",
       " '_c701',\n",
       " '_c702',\n",
       " '_c703',\n",
       " '_c704',\n",
       " '_c705',\n",
       " '_c706',\n",
       " '_c707',\n",
       " '_c708',\n",
       " '_c709',\n",
       " '_c710',\n",
       " '_c711',\n",
       " '_c712',\n",
       " '_c713',\n",
       " '_c714',\n",
       " '_c715',\n",
       " '_c716',\n",
       " '_c717',\n",
       " '_c718',\n",
       " '_c719',\n",
       " '_c720',\n",
       " '_c721',\n",
       " '_c722',\n",
       " '_c723',\n",
       " '_c724',\n",
       " '_c725',\n",
       " '_c726',\n",
       " '_c727',\n",
       " '_c728',\n",
       " '_c729',\n",
       " '_c730',\n",
       " '_c731',\n",
       " '_c732',\n",
       " '_c733',\n",
       " '_c734',\n",
       " '_c735',\n",
       " '_c736',\n",
       " '_c737',\n",
       " '_c738',\n",
       " '_c739',\n",
       " '_c740',\n",
       " '_c741',\n",
       " '_c742',\n",
       " '_c743',\n",
       " '_c744',\n",
       " '_c745',\n",
       " '_c746',\n",
       " '_c747',\n",
       " '_c748',\n",
       " '_c749',\n",
       " '_c750',\n",
       " '_c751',\n",
       " '_c752',\n",
       " '_c753',\n",
       " '_c754',\n",
       " '_c755',\n",
       " '_c756',\n",
       " '_c757',\n",
       " '_c758',\n",
       " '_c759',\n",
       " '_c760',\n",
       " '_c761',\n",
       " '_c762',\n",
       " '_c763',\n",
       " '_c764',\n",
       " '_c765',\n",
       " '_c766',\n",
       " '_c767',\n",
       " '_c768']"
      ]
     },
     "execution_count": 22,
     "metadata": {},
     "output_type": "execute_result"
    }
   ],
   "source": [
    "embedding.columns"
   ]
  },
  {
   "cell_type": "code",
   "execution_count": 24,
   "id": "8a328b6d-912c-4520-850f-fd09a5c6f423",
   "metadata": {
    "tags": []
   },
   "outputs": [
    {
     "data": {
      "text/plain": [
       "552928"
      ]
     },
     "execution_count": 24,
     "metadata": {},
     "output_type": "execute_result"
    }
   ],
   "source": [
    "embedding.count()"
   ]
  },
  {
   "cell_type": "code",
   "execution_count": 25,
   "id": "da53a8eb-dd94-46d9-bd96-77550d9b06ab",
   "metadata": {},
   "outputs": [],
   "source": [
    "## Vectorize data \n",
    "from pyspark.ml.feature import OneHotEncoder, StringIndexer, IndexToString, VectorAssembler\n",
    "from pyspark.ml.classification import RandomForestClassifier\n",
    "from pyspark.ml.evaluation import MulticlassClassificationEvaluator\n",
    "from pyspark.ml import Pipeline, Model"
   ]
  },
  {
   "cell_type": "code",
   "execution_count": 31,
   "id": "ed3b27e5-4fb6-413f-93f9-844faee01cbe",
   "metadata": {},
   "outputs": [],
   "source": [
    "embed_cols = [i for i in embedding.columns if i != \"_c0\"]"
   ]
  },
  {
   "cell_type": "code",
   "execution_count": 53,
   "id": "bc63c950-d24e-4a97-97be-4d432d64cae3",
   "metadata": {
    "tags": []
   },
   "outputs": [],
   "source": [
    "from pyspark.sql.functions import col\n",
    "\n",
    "embedding_float = embedding.select(*(c if c ==\"_c0\" else col(c).cast(\"float\").alias(c) for c in embedding.columns))"
   ]
  },
  {
   "cell_type": "code",
   "execution_count": 58,
   "id": "d8fa3263-ae9a-4a2d-85d3-dea1fb605a01",
   "metadata": {},
   "outputs": [
    {
     "name": "stdout",
     "output_type": "stream",
     "text": [
      "+--------+-----------+\n",
      "|     _c0|        _c1|\n",
      "+--------+-----------+\n",
      "|ug7v899j| -2.9399836|\n",
      "|02tnwd4m|  4.6884656|\n",
      "|ejv2xln0|  0.5599198|\n",
      "|2b73a28n|  2.3525403|\n",
      "|9785vg6d| -1.2909216|\n",
      "|zjufx4fo|  2.7210763|\n",
      "|5yhe786e|  -3.562534|\n",
      "|8zchiykl|-0.00439921|\n",
      "|8qnrcgnk|   2.569323|\n",
      "|jg13scgo|  -4.686873|\n",
      "|5tkvsudh| -0.0718144|\n",
      "|6lvn10f4|  -5.229452|\n",
      "|tvxpckxo| -3.9141045|\n",
      "|mcuixluu|  -2.864266|\n",
      "|6iu1dtyl|  2.9879527|\n",
      "|t35n7bk9| -3.9089847|\n",
      "|eiqypt0m| -2.7213426|\n",
      "|sgmk96vr| -5.2066107|\n",
      "|di0fcy0j|  1.9947275|\n",
      "|4k8f7ou1| -0.0629611|\n",
      "+--------+-----------+\n",
      "only showing top 20 rows\n",
      "\n"
     ]
    }
   ],
   "source": [
    "embedding_float[['_c0','_c1']].show()"
   ]
  },
  {
   "cell_type": "code",
   "execution_count": 59,
   "id": "731c48de-27d8-4cce-874f-8d3293bcae5e",
   "metadata": {},
   "outputs": [],
   "source": [
    "assembler = VectorAssembler(\n",
    "    inputCols= embed_cols,\n",
    "    outputCol=\"EMBEDDING\")\n",
    "\n",
    "output = assembler.transform(embedding_float)"
   ]
  },
  {
   "cell_type": "code",
   "execution_count": 63,
   "id": "69124f67-fc05-4dfe-a181-1d48f68ea2d4",
   "metadata": {},
   "outputs": [
    {
     "name": "stdout",
     "output_type": "stream",
     "text": [
      "+--------+--------------------+\n",
      "|     _c0|           EMBEDDING|\n",
      "+--------+--------------------+\n",
      "|ug7v899j|[-2.9399836063385...|\n",
      "|02tnwd4m|[4.68846559524536...|\n",
      "|ejv2xln0|[0.55991977453231...|\n",
      "|2b73a28n|[2.35254025459289...|\n",
      "|9785vg6d|[-1.2909215688705...|\n",
      "|zjufx4fo|[2.72107625007629...|\n",
      "|5yhe786e|[-3.5625340938568...|\n",
      "|8zchiykl|[-0.0043992102146...|\n",
      "|8qnrcgnk|[2.56932306289672...|\n",
      "|jg13scgo|[-4.6868729591369...|\n",
      "|5tkvsudh|[-0.0718144029378...|\n",
      "|6lvn10f4|[-5.2294521331787...|\n",
      "|tvxpckxo|[-3.9141044616699...|\n",
      "|mcuixluu|[-2.8642659187316...|\n",
      "|6iu1dtyl|[2.98795270919799...|\n",
      "|t35n7bk9|[-3.9089846611022...|\n",
      "|eiqypt0m|[-2.7213425636291...|\n",
      "|sgmk96vr|[-5.2066106796264...|\n",
      "|di0fcy0j|[1.99472749233245...|\n",
      "|4k8f7ou1|[-0.0629611015319...|\n",
      "+--------+--------------------+\n",
      "only showing top 20 rows\n",
      "\n"
     ]
    }
   ],
   "source": [
    "output[['_c0','EMBEDDING']].show()"
   ]
  },
  {
   "cell_type": "code",
   "execution_count": 77,
   "id": "020907ea-2d8f-4248-948a-ed711c1d5c82",
   "metadata": {},
   "outputs": [
    {
     "data": {
      "text/plain": [
       "(768,)"
      ]
     },
     "execution_count": 77,
     "metadata": {},
     "output_type": "execute_result"
    }
   ],
   "source": [
    "output.take(1)[0]['EMBEDDING'].shape"
   ]
  },
  {
   "cell_type": "code",
   "execution_count": null,
   "id": "60fbf370-019a-4ff2-a772-7fcb66edfeab",
   "metadata": {},
   "outputs": [],
   "source": []
  },
  {
   "cell_type": "code",
   "execution_count": null,
   "id": "6cbb8f08-d859-4079-8998-986b1856d9a4",
   "metadata": {},
   "outputs": [],
   "source": []
  },
  {
   "cell_type": "markdown",
   "id": "ec0061fd-8b74-4837-91ea-1ad28dea0f3e",
   "metadata": {},
   "source": [
    "### Explore Metadata"
   ]
  },
  {
   "cell_type": "markdown",
   "id": "3cb545ac-baae-4a72-891a-9f7c0fc588f9",
   "metadata": {},
   "source": [
    "##### Number of documents"
   ]
  },
  {
   "cell_type": "code",
   "execution_count": 181,
   "id": "28bf3463-b3af-4aac-ba43-7b74fa5e19da",
   "metadata": {},
   "outputs": [
    {
     "data": {
      "text/plain": [
       "536817"
      ]
     },
     "execution_count": 181,
     "metadata": {},
     "output_type": "execute_result"
    }
   ],
   "source": [
    "data.count()"
   ]
  },
  {
   "cell_type": "markdown",
   "id": "85be4e97-8508-4a18-ad46-31c713c37b2d",
   "metadata": {},
   "source": [
    "##### Number of unique cord_uids"
   ]
  },
  {
   "cell_type": "code",
   "execution_count": 182,
   "id": "df731373-61d3-4216-84e1-efb0d4a2b74c",
   "metadata": {},
   "outputs": [
    {
     "data": {
      "text/plain": [
       "508313"
      ]
     },
     "execution_count": 182,
     "metadata": {},
     "output_type": "execute_result"
    }
   ],
   "source": [
    "data[['cord_uid']].distinct().count()"
   ]
  },
  {
   "cell_type": "markdown",
   "id": "0b5e8dda-cf3c-4c36-b3e5-7dda7941f55f",
   "metadata": {},
   "source": [
    "#### Number of unique Journals \n"
   ]
  },
  {
   "cell_type": "code",
   "execution_count": 183,
   "id": "cd215c6b-2c07-4dd6-9e00-bb4520836069",
   "metadata": {},
   "outputs": [
    {
     "data": {
      "text/plain": [
       "45848"
      ]
     },
     "execution_count": 183,
     "metadata": {},
     "output_type": "execute_result"
    }
   ],
   "source": [
    "data[['journal']].distinct().count()"
   ]
  },
  {
   "cell_type": "markdown",
   "id": "3aff159c-a6fe-4727-89e9-f517eb9d40af",
   "metadata": {},
   "source": [
    "#### Number of Abtracts per Journal"
   ]
  },
  {
   "cell_type": "code",
   "execution_count": 184,
   "id": "53ad4b62-2281-4d20-a821-a17357e4ceba",
   "metadata": {},
   "outputs": [
    {
     "name": "stdout",
     "output_type": "stream",
     "text": [
      "+--------------------+-----+\n",
      "|             journal|count|\n",
      "+--------------------+-----+\n",
      "|                null|33977|\n",
      "|             bioRxiv| 5070|\n",
      "|            PLoS One| 4854|\n",
      "|                 BMJ| 4583|\n",
      "|             Sci Rep| 2457|\n",
      "|Int J Environ Res...| 2290|\n",
      "|              Nature| 2205|\n",
      "|              Lancet| 2187|\n",
      "| Journal of virology| 1869|\n",
      "|                JAMA| 1744|\n",
      "|    Int J Infect Dis| 1611|\n",
      "|              Cureus| 1590|\n",
      "|             Viruses| 1518|\n",
      "|             Science| 1517|\n",
      "|         J Med Virol| 1295|\n",
      "|    Emerg Infect Dis| 1286|\n",
      "|       Front Immunol| 1278|\n",
      "|     Clin Infect Dis| 1245|\n",
      "|Int. j. environ. ...| 1239|\n",
      "|               Chest| 1120|\n",
      "+--------------------+-----+\n",
      "only showing top 20 rows\n",
      "\n"
     ]
    }
   ],
   "source": [
    "data[['journal']].groupBy(\"journal\").count().orderBy(F.col(\"count\").desc()).show()"
   ]
  },
  {
   "cell_type": "markdown",
   "id": "2a1a0fc9-4c9a-4162-8575-317b325dd9a7",
   "metadata": {},
   "source": [
    "##### Number of unique authors "
   ]
  },
  {
   "cell_type": "code",
   "execution_count": 185,
   "id": "4d2e5846-5b69-49a0-bd5e-3a33ed127712",
   "metadata": {},
   "outputs": [
    {
     "data": {
      "text/plain": [
       "(536817, 522012)"
      ]
     },
     "execution_count": 185,
     "metadata": {},
     "output_type": "execute_result"
    }
   ],
   "source": [
    "## Total rows vs dropping rows with missing authors\n",
    "data.count(),data.na.drop(subset='authors').count()"
   ]
  },
  {
   "cell_type": "code",
   "execution_count": 189,
   "id": "33e3901f-ddb5-4bc4-8404-2c337f177716",
   "metadata": {},
   "outputs": [],
   "source": [
    "counter = (data.na.drop(subset='authors')\n",
    "           .select(\"authors\")\n",
    "           .rdd\n",
    "           # join all strings in the list and then split to get each word\n",
    "           .map(lambda x: \" \".join(x).split(\";\")) \n",
    "           #.map(lambda x: x.split(\";\")) \n",
    "           .flatMap(lambda x: x)\n",
    "           # make a tuple for each word so later it can be grouped by to get its frequency count\n",
    "           .map(lambda x: (x, 1))\n",
    "           .reduceByKey(lambda a,b: a+b)\n",
    "           \n",
    "           #collectAsMap()\n",
    "          )"
   ]
  },
  {
   "cell_type": "code",
   "execution_count": 190,
   "id": "709a7a27-380c-4701-8123-e88e8f7caeeb",
   "metadata": {},
   "outputs": [
    {
     "name": "stdout",
     "output_type": "stream",
     "text": [
      "+-------------------+-----+\n",
      "|            authors|count|\n",
      "+-------------------+-----+\n",
      "|         Anonymous,| 1621|\n",
      "|              O039,| 1232|\n",
      "|              D039,|  918|\n",
      "|               2020|  832|\n",
      "|          Wang, Wei|  458|\n",
      "|  Mahase, Elisabeth|  415|\n",
      "|    Yuen, Kwok-Yung|  371|\n",
      "|         Zhang, Wei|  359|\n",
      "|            Li, Yan|  343|\n",
      "|              O039,|  336|\n",
      "|  Wiwanitkit, Viroj|  314|\n",
      "|  Iacobucci, Gareth|  309|\n",
      "| Drosten, Christian|  296|\n",
      "|            Li, Wei|  275|\n",
      "|         Wang, Jing|  264|\n",
      "|        Rimmer, Abi|  258|\n",
      "|          Liu, Yang|  249|\n",
      "|           Liu, Wei|  245|\n",
      "|         Wang, Ying|  239|\n",
      "|             Li, Li|  237|\n",
      "+-------------------+-----+\n",
      "only showing top 20 rows\n",
      "\n"
     ]
    }
   ],
   "source": [
    "spark.createDataFrame(counter).toDF(\"authors\", \"count\").orderBy(F.col('count').desc()).show()"
   ]
  },
  {
   "cell_type": "code",
   "execution_count": 191,
   "id": "b41b6063-7320-469d-9b38-73d2cf05b256",
   "metadata": {},
   "outputs": [
    {
     "data": {
      "text/plain": [
       "239"
      ]
     },
     "execution_count": 191,
     "metadata": {},
     "output_type": "execute_result"
    }
   ],
   "source": [
    "data.filter(data.authors.contains(\"Li, Li;\"))[['authors']].count()"
   ]
  },
  {
   "cell_type": "code",
   "execution_count": 192,
   "id": "07196161-bff3-4c38-8a21-16b2d0ba03a2",
   "metadata": {},
   "outputs": [
    {
     "data": {
      "text/plain": [
       "258"
      ]
     },
     "execution_count": 192,
     "metadata": {},
     "output_type": "execute_result"
    }
   ],
   "source": [
    "data.filter(data.authors.contains(\"Wang, Ying;\"))[['authors']].count()"
   ]
  },
  {
   "cell_type": "code",
   "execution_count": 193,
   "id": "fdb2f879-e212-43c7-a367-41ee5e94e2e6",
   "metadata": {},
   "outputs": [
    {
     "name": "stdout",
     "output_type": "stream",
     "text": [
      "+--------------------+\n",
      "|             authors|\n",
      "+--------------------+\n",
      "|          2020-02-20|\n",
      "|          2020-05-15|\n",
      "|          2020-06-10|\n",
      "|          2020-06-19|\n",
      "|          2020-06-30|\n",
      "|          2020-07-21|\n",
      "|          2020-09-10|\n",
      "|          2020-09-24|\n",
      "| 2020: e1-e3. doi...|\n",
      "|          2020-11-13|\n",
      "|          2020-04-06|\n",
      "|          2020-06-09|\n",
      "|          2020-12-23|\n",
      "|              2020.\"|\n",
      "|          2020-09-25|\n",
      "|          2020-07-03|\n",
      "|          2020-10-02|\n",
      "|          2020-07-01|\n",
      "|          2020-09-22|\n",
      "|          2020-07-01|\n",
      "+--------------------+\n",
      "only showing top 20 rows\n",
      "\n"
     ]
    }
   ],
   "source": [
    "data.filter(data.authors.contains(\"2020\"))[['authors']].show()"
   ]
  },
  {
   "cell_type": "code",
   "execution_count": null,
   "id": "5a458bae-a797-480e-a13b-27885405c4d2",
   "metadata": {},
   "outputs": [],
   "source": [
    "#### create edgelist form authors \n",
    "# ['Source','Target','cord_id','year','journal']\n"
   ]
  },
  {
   "cell_type": "code",
   "execution_count": 220,
   "id": "6711a2b4-634c-4c6c-a8e0-6e1d969430fc",
   "metadata": {},
   "outputs": [],
   "source": [
    "def split_authors(df_authors):\n",
    "    split_authors_lambda = lambda x: x.split(';')\n",
    "    try:\n",
    "        if df_authors== None:\n",
    "            print('here')\n",
    "            return None\n",
    "        res = split_authors_lambda(df_authors)\n",
    "        return res\n",
    "    except:\n",
    "        return None\n",
    "    #df_authors.apply(lambda x: x.split(';'))"
   ]
  },
  {
   "cell_type": "code",
   "execution_count": 221,
   "id": "e1972a5a-0e94-4303-b406-2ea8d605879b",
   "metadata": {},
   "outputs": [],
   "source": [
    "split_authors_udf = F.udf(split_authors, ArrayType(StringType(),False))\n"
   ]
  },
  {
   "cell_type": "code",
   "execution_count": null,
   "id": "b645fcb6-717d-443c-ad11-ac7e857317a8",
   "metadata": {},
   "outputs": [],
   "source": []
  },
  {
   "cell_type": "code",
   "execution_count": 222,
   "id": "483550f4-f4ef-4082-a10d-79a0c6214199",
   "metadata": {},
   "outputs": [
    {
     "name": "stdout",
     "output_type": "stream",
     "text": [
      "+--------------------+--------------------+\n",
      "|             authors|       authors_split|\n",
      "+--------------------+--------------------+\n",
      "|Madani, Tariq A; ...|[Madani, Tariq A,...|\n",
      "|Vliet, Albert van...|[Vliet, Albert va...|\n",
      "|     Crouch, Erika C|   [Crouch, Erika C]|\n",
      "|Fagan, Karen A; M...|[Fagan, Karen A, ...|\n",
      "|Domachowske, Jose...|[Domachowske, Jos...|\n",
      "|Pasternak, Alexan...|[Pasternak, Alexa...|\n",
      "|Alvarez, Gonzalo;...|[Alvarez, Gonzalo...|\n",
      "|Ball, Jonathan; V...|[Ball, Jonathan, ...|\n",
      "|Slebos, Dirk-Jan;...|[Slebos, Dirk-Jan...|\n",
      "|Tsui, Fu-Chiang; ...|[Tsui, Fu-Chiang,...|\n",
      "|Ivanov, Ivaylo P....|[Ivanov, Ivaylo P...|\n",
      "|Shi, Stephanie T....|[Shi, Stephanie T...|\n",
      "|Pridgeon, Julia W...|[Pridgeon, Julia ...|\n",
      "|Ploubidou, Aspasi...|[Ploubidou, Aspas...|\n",
      "|       Barry, John M|     [Barry, John M]|\n",
      "|Shieh, Biehuoy; L...|[Shieh, Biehuoy, ...|\n",
      "|Verheij, Joanne; ...|[Verheij, Joanne,...|\n",
      "|Porco, Travis C; ...|[Porco, Travis C,...|\n",
      "|Kremer, Ted M; Ri...|[Kremer, Ted M,  ...|\n",
      "|Bratlie, Marit S;...|[Bratlie, Marit S...|\n",
      "+--------------------+--------------------+\n",
      "only showing top 20 rows\n",
      "\n"
     ]
    }
   ],
   "source": [
    "data.na.drop(subset='authors').withColumn(\"authors_split\", split_authors_udf(data['authors']))[\n",
    "    ['authors','authors_split']].show()"
   ]
  },
  {
   "cell_type": "code",
   "execution_count": 232,
   "id": "f4e2ad9d-4f39-4f1f-be84-fd3c88001c1c",
   "metadata": {},
   "outputs": [],
   "source": [
    "data_dropna_split = data.na.drop(subset='authors').withColumn(\"authors_split\", split_authors_udf(data['authors']))"
   ]
  },
  {
   "cell_type": "code",
   "execution_count": 233,
   "id": "6aa1096f-0f31-49c0-a70a-3dd5fd49601b",
   "metadata": {},
   "outputs": [
    {
     "data": {
      "text/plain": [
       "[Row(authors_split=['Madani, Tariq A', ' Al-Ghamdi, Aisha A']),\n",
       " Row(authors_split=['Vliet, Albert van der', ' Eiserich, Jason P', ' Cross, Carroll E']),\n",
       " Row(authors_split=['Crouch, Erika C']),\n",
       " Row(authors_split=['Fagan, Karen A', ' McMurtry, Ivan F', ' Rodman, David M']),\n",
       " Row(authors_split=['Domachowske, Joseph B', ' Bonville, Cynthia A', ' Rosenberg, Helene F']),\n",
       " Row(authors_split=['Pasternak, Alexander O.', ' van den Born, Erwin', ' Spaan, Willy J.M.', ' Snijder, Eric J.']),\n",
       " Row(authors_split=['Alvarez, Gonzalo', ' Hébert, Paul C', ' Szick, Sharyn']),\n",
       " Row(authors_split=['Ball, Jonathan', ' Venn, Richard']),\n",
       " Row(authors_split=['Slebos, Dirk-Jan', ' Ryter, Stefan W', ' Choi, Augustine MK']),\n",
       " Row(authors_split=['Tsui, Fu-Chiang', ' Espino, Jeremy U.', ' Dato, Virginia M.', ' Gesteland, Per H.', ' Hutman, Judith', ' Wagner, Michael M.'])]"
      ]
     },
     "execution_count": 233,
     "metadata": {},
     "output_type": "execute_result"
    }
   ],
   "source": [
    "data_dropna_split[['authors_split']].take(10)"
   ]
  },
  {
   "cell_type": "code",
   "execution_count": 234,
   "id": "82502084-c482-495b-adca-0fd0817dbb43",
   "metadata": {},
   "outputs": [
    {
     "data": {
      "text/plain": [
       "DataFrame[cord_uid: string, sha: string, source_x: string, title: string, doi: string, pmcid: string, pubmed_id: string, license: string, abstract: string, publish_time: string, authors: string, journal: string, mag_id: string, who_covidence_id: string, arxiv_id: string, pdf_json_files: string, pmc_json_files: string, url: string, s2_id: string, authors_split: array<string>]"
      ]
     },
     "execution_count": 234,
     "metadata": {},
     "output_type": "execute_result"
    }
   ],
   "source": [
    "data_dropna_split.cache()"
   ]
  },
  {
   "cell_type": "code",
   "execution_count": 261,
   "id": "9c828880-dd12-4d92-ad9d-173cccc18bb0",
   "metadata": {
    "tags": []
   },
   "outputs": [
    {
     "name": "stdout",
     "output_type": "stream",
     "text": [
      "+--------------------+--------------------+--------+----------------+\n",
      "|               item1|               item2|cord_uid|         journal|\n",
      "+--------------------+--------------------+--------+----------------+\n",
      "|     Madani, Tariq A|  Al-Ghamdi, Aisha A|ug7v899j|  BMC Infect Dis|\n",
      "|Vliet, Albert van...|   Eiserich, Jason P|02tnwd4m|      Respir Res|\n",
      "|Vliet, Albert van...|    Cross, Carroll E|02tnwd4m|      Respir Res|\n",
      "|   Eiserich, Jason P|    Cross, Carroll E|02tnwd4m|      Respir Res|\n",
      "|      Fagan, Karen A|    McMurtry, Ivan F|2b73a28n|      Respir Res|\n",
      "|      Fagan, Karen A|     Rodman, David M|2b73a28n|      Respir Res|\n",
      "|    McMurtry, Ivan F|     Rodman, David M|2b73a28n|      Respir Res|\n",
      "|Domachowske, Jose...| Bonville, Cynthia A|9785vg6d|      Respir Res|\n",
      "|Domachowske, Jose...| Rosenberg, Helene F|9785vg6d|      Respir Res|\n",
      "| Bonville, Cynthia A| Rosenberg, Helene F|9785vg6d|      Respir Res|\n",
      "|Pasternak, Alexan...| van den Born, Erwin|zjufx4fo|The EMBO Journal|\n",
      "|Pasternak, Alexan...|   Spaan, Willy J.M.|zjufx4fo|The EMBO Journal|\n",
      "|Pasternak, Alexan...|    Snijder, Eric J.|zjufx4fo|The EMBO Journal|\n",
      "| van den Born, Erwin|   Spaan, Willy J.M.|zjufx4fo|The EMBO Journal|\n",
      "| van den Born, Erwin|    Snijder, Eric J.|zjufx4fo|The EMBO Journal|\n",
      "|   Spaan, Willy J.M.|    Snijder, Eric J.|zjufx4fo|The EMBO Journal|\n",
      "|    Alvarez, Gonzalo|      Hébert, Paul C|5yhe786e|       Crit Care|\n",
      "|    Alvarez, Gonzalo|       Szick, Sharyn|5yhe786e|       Crit Care|\n",
      "|      Hébert, Paul C|       Szick, Sharyn|5yhe786e|       Crit Care|\n",
      "|      Ball, Jonathan|       Venn, Richard|8zchiykl|       Crit Care|\n",
      "+--------------------+--------------------+--------+----------------+\n",
      "only showing top 20 rows\n",
      "\n"
     ]
    }
   ],
   "source": [
    "import itertools\n",
    "\n",
    "combinations_udf = F.udf(\n",
    "    lambda x: list(itertools.combinations(x, 2)),\n",
    "    \"array<struct<item1:string,item2:string>>\"\n",
    ")\n",
    "\n",
    "edgelist = data_dropna_split.withColumn(\"edgelist\", \n",
    "                                        F.explode(combinations_udf(F.col(\"authors_split\")))) \\\n",
    "    .selectExpr(\"*\") #.selectExpr('edgelist.*') \n",
    "\n",
    "edgelist[['edgelist.*','cord_uid','journal']].show()"
   ]
  },
  {
   "cell_type": "code",
   "execution_count": 247,
   "id": "8f650a2c-10d9-4e9c-8a52-8fd2bb5b14c1",
   "metadata": {},
   "outputs": [
    {
     "data": {
      "text/plain": [
       "[Row(authors_split=['Madani, Tariq A', ' Al-Ghamdi, Aisha A'], edgelist=Row(item1='Madani, Tariq A', item2=' Al-Ghamdi, Aisha A'), cord_uid='ug7v899j'),\n",
       " Row(authors_split=['Vliet, Albert van der', ' Eiserich, Jason P', ' Cross, Carroll E'], edgelist=Row(item1='Vliet, Albert van der', item2=' Eiserich, Jason P'), cord_uid='02tnwd4m'),\n",
       " Row(authors_split=['Vliet, Albert van der', ' Eiserich, Jason P', ' Cross, Carroll E'], edgelist=Row(item1='Vliet, Albert van der', item2=' Cross, Carroll E'), cord_uid='02tnwd4m'),\n",
       " Row(authors_split=['Vliet, Albert van der', ' Eiserich, Jason P', ' Cross, Carroll E'], edgelist=Row(item1=' Eiserich, Jason P', item2=' Cross, Carroll E'), cord_uid='02tnwd4m'),\n",
       " Row(authors_split=['Fagan, Karen A', ' McMurtry, Ivan F', ' Rodman, David M'], edgelist=Row(item1='Fagan, Karen A', item2=' McMurtry, Ivan F'), cord_uid='2b73a28n'),\n",
       " Row(authors_split=['Fagan, Karen A', ' McMurtry, Ivan F', ' Rodman, David M'], edgelist=Row(item1='Fagan, Karen A', item2=' Rodman, David M'), cord_uid='2b73a28n'),\n",
       " Row(authors_split=['Fagan, Karen A', ' McMurtry, Ivan F', ' Rodman, David M'], edgelist=Row(item1=' McMurtry, Ivan F', item2=' Rodman, David M'), cord_uid='2b73a28n'),\n",
       " Row(authors_split=['Domachowske, Joseph B', ' Bonville, Cynthia A', ' Rosenberg, Helene F'], edgelist=Row(item1='Domachowske, Joseph B', item2=' Bonville, Cynthia A'), cord_uid='9785vg6d'),\n",
       " Row(authors_split=['Domachowske, Joseph B', ' Bonville, Cynthia A', ' Rosenberg, Helene F'], edgelist=Row(item1='Domachowske, Joseph B', item2=' Rosenberg, Helene F'), cord_uid='9785vg6d'),\n",
       " Row(authors_split=['Domachowske, Joseph B', ' Bonville, Cynthia A', ' Rosenberg, Helene F'], edgelist=Row(item1=' Bonville, Cynthia A', item2=' Rosenberg, Helene F'), cord_uid='9785vg6d')]"
      ]
     },
     "execution_count": 247,
     "metadata": {},
     "output_type": "execute_result"
    }
   ],
   "source": [
    "edgelist[['authors_split','edgelist','cord_uid']].take(10)"
   ]
  },
  {
   "cell_type": "code",
   "execution_count": null,
   "id": "81b6b4ef-5204-43b1-9737-deeab7568509",
   "metadata": {},
   "outputs": [],
   "source": []
  },
  {
   "cell_type": "code",
   "execution_count": null,
   "id": "4570056d-25aa-4b79-a57b-a2e2e9c5027c",
   "metadata": {},
   "outputs": [],
   "source": []
  },
  {
   "cell_type": "code",
   "execution_count": null,
   "id": "681f2249-4c2d-462c-84c0-2a155a465f46",
   "metadata": {},
   "outputs": [],
   "source": []
  },
  {
   "cell_type": "code",
   "execution_count": 172,
   "id": "c82ecdec-d4f2-412d-aaf6-2c5d4b425377",
   "metadata": {},
   "outputs": [],
   "source": [
    "sc.stop()"
   ]
  },
  {
   "cell_type": "code",
   "execution_count": 173,
   "id": "1755e48a-5ff5-437f-866f-1e2cf6815717",
   "metadata": {},
   "outputs": [],
   "source": [
    "spark.stop()"
   ]
  },
  {
   "cell_type": "code",
   "execution_count": null,
   "id": "9cd71acd-7c14-41d7-beea-3420bc66fc33",
   "metadata": {},
   "outputs": [],
   "source": []
  }
 ],
 "metadata": {
  "kernelspec": {
   "display_name": "Python 3",
   "language": "python",
   "name": "python3"
  },
  "language_info": {
   "codemirror_mode": {
    "name": "ipython",
    "version": 3
   },
   "file_extension": ".py",
   "mimetype": "text/x-python",
   "name": "python",
   "nbconvert_exporter": "python",
   "pygments_lexer": "ipython3",
   "version": "3.7.10"
  }
 },
 "nbformat": 4,
 "nbformat_minor": 5
}
