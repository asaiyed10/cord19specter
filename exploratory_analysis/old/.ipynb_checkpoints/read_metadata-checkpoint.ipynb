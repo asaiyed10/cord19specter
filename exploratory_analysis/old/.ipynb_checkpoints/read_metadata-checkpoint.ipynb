{
 "cells": [
  {
   "cell_type": "markdown",
   "id": "a3def7db-e52d-4917-83cc-80b1bb8cc2e6",
   "metadata": {},
   "source": [
    "# Exploratory Analysis -- Metadata\n"
   ]
  },
  {
   "cell_type": "markdown",
   "id": "57a5731e-802f-44a7-8511-afa0efb3f8ce",
   "metadata": {},
   "source": [
    "#### Imports\n"
   ]
  },
  {
   "cell_type": "code",
   "execution_count": 174,
   "id": "0b4c7dda-c606-4128-8cf9-e278c6a908e7",
   "metadata": {},
   "outputs": [
    {
     "data": {
      "text/html": [
       "\n",
       "        <div>\n",
       "            <p><b>SparkContext</b></p>\n",
       "\n",
       "            <p><a href=\"http://ip-172-31-4-45.ec2.internal:4040\">Spark UI</a></p>\n",
       "\n",
       "            <dl>\n",
       "              <dt>Version</dt>\n",
       "                <dd><code>v2.4.4</code></dd>\n",
       "              <dt>Master</dt>\n",
       "                <dd><code>yarn</code></dd>\n",
       "              <dt>AppName</dt>\n",
       "                <dd><code>pyspark-shell</code></dd>\n",
       "            </dl>\n",
       "        </div>\n",
       "        "
      ],
      "text/plain": [
       "<SparkContext master=yarn appName=pyspark-shell>"
      ]
     },
     "execution_count": 174,
     "metadata": {},
     "output_type": "execute_result"
    }
   ],
   "source": [
    "import findspark\n",
    "findspark.init()\n",
    "from pyspark.sql import SparkSession\n",
    "from pyspark import SparkContext\n",
    "\n",
    "import time \n",
    "from time import sleep\n",
    "\n",
    "sc = SparkContext()\n",
    "sc"
   ]
  },
  {
   "cell_type": "code",
   "execution_count": 175,
   "id": "2afbc966-9b84-4ccc-a906-ed4309252944",
   "metadata": {},
   "outputs": [],
   "source": [
    "spark = SparkSession \\\n",
    " .builder \\\n",
    " .appName(\"Python Spark SQL basic example\") \\\n",
    " .config(\"spark.some.config.option\", \"some-value\") \\\n",
    " .getOrCreate()"
   ]
  },
  {
   "cell_type": "code",
   "execution_count": 212,
   "id": "029bd725-028e-43b8-933f-d8e6e0f520da",
   "metadata": {},
   "outputs": [],
   "source": [
    "from pyspark.sql import functions as F\n",
    "from pyspark.sql.types import StringType,ArrayType"
   ]
  },
  {
   "cell_type": "markdown",
   "id": "d5d21395-6eb9-42ae-a6a6-6254227b789d",
   "metadata": {},
   "source": [
    "### Read in metadata "
   ]
  },
  {
   "cell_type": "code",
   "execution_count": 177,
   "id": "b3f4c002-4307-4a12-8a5c-d539199166a7",
   "metadata": {},
   "outputs": [],
   "source": [
    "data = spark.read.csv('s3://ai2-semanticscholar-cord-19/2021-04-19/metadata.csv/',header = True)"
   ]
  },
  {
   "cell_type": "code",
   "execution_count": 178,
   "id": "76a7ba96-4a1f-4b61-a046-55e20c5816c5",
   "metadata": {},
   "outputs": [
    {
     "data": {
      "text/plain": [
       "DataFrame[cord_uid: string, sha: string, source_x: string, title: string, doi: string, pmcid: string, pubmed_id: string, license: string, abstract: string, publish_time: string, authors: string, journal: string, mag_id: string, who_covidence_id: string, arxiv_id: string, pdf_json_files: string, pmc_json_files: string, url: string, s2_id: string]"
      ]
     },
     "execution_count": 178,
     "metadata": {},
     "output_type": "execute_result"
    }
   ],
   "source": [
    "data.cache()"
   ]
  },
  {
   "cell_type": "code",
   "execution_count": 179,
   "id": "1617663b-e98a-4395-8360-4a2d5fca4eb1",
   "metadata": {},
   "outputs": [
    {
     "data": {
      "text/plain": [
       "['cord_uid',\n",
       " 'sha',\n",
       " 'source_x',\n",
       " 'title',\n",
       " 'doi',\n",
       " 'pmcid',\n",
       " 'pubmed_id',\n",
       " 'license',\n",
       " 'abstract',\n",
       " 'publish_time',\n",
       " 'authors',\n",
       " 'journal',\n",
       " 'mag_id',\n",
       " 'who_covidence_id',\n",
       " 'arxiv_id',\n",
       " 'pdf_json_files',\n",
       " 'pmc_json_files',\n",
       " 'url',\n",
       " 's2_id']"
      ]
     },
     "execution_count": 179,
     "metadata": {},
     "output_type": "execute_result"
    }
   ],
   "source": [
    "data.columns"
   ]
  },
  {
   "cell_type": "code",
   "execution_count": 180,
   "id": "6fabd547-8fb4-4f8b-86c0-a3405b3e709d",
   "metadata": {},
   "outputs": [
    {
     "name": "stdout",
     "output_type": "stream",
     "text": [
      "+--------+--------------------+--------------------+--------------------+--------------------+\n",
      "|cord_uid|               title|            abstract|             authors|             journal|\n",
      "+--------+--------------------+--------------------+--------------------+--------------------+\n",
      "|ug7v899j|Clinical features...|OBJECTIVE: This r...|Madani, Tariq A; ...|      BMC Infect Dis|\n",
      "|02tnwd4m|Nitric oxide: a p...|Inflammatory dise...|Vliet, Albert van...|          Respir Res|\n",
      "|ejv2xln0|Surfactant protei...|Surfactant protei...|     Crouch, Erika C|          Respir Res|\n",
      "|2b73a28n|Role of endotheli...|Endothelin-1 (ET-...|Fagan, Karen A; M...|          Respir Res|\n",
      "|9785vg6d|Gene expression i...|Respiratory syncy...|Domachowske, Jose...|          Respir Res|\n",
      "|zjufx4fo|Sequence requirem...|Nidovirus subgeno...|Pasternak, Alexan...|    The EMBO Journal|\n",
      "|5yhe786e|Debate: Transfusi...|Recent evidence s...|Alvarez, Gonzalo;...|           Crit Care|\n",
      "|8zchiykl|The 21st Internat...|The 21st Internat...|Ball, Jonathan; V...|           Crit Care|\n",
      "|8qnrcgnk|Heme oxygenase-1 ...|Heme oxygenase-1 ...|Slebos, Dirk-Jan;...|          Respir Res|\n",
      "|jg13scgo|Technical Descrip...|This report descr...|Tsui, Fu-Chiang; ...|Journal of the Am...|\n",
      "|5tkvsudh|Conservation of p...|Regulation of orn...|Ivanov, Ivaylo P....|              EMBO J|\n",
      "|6lvn10f4|Heterogeneous nuc...|Heterogeneous nuc...|Shi, Stephanie T....|    The EMBO Journal|\n",
      "|tvxpckxo|A Method to Ident...|The UBA domain is...|Pridgeon, Julia W...|  Biol Proced Online|\n",
      "|mcuixluu|Vaccinia virus in...|We examined the r...|Ploubidou, Aspasi...|    The EMBO Journal|\n",
      "|6iu1dtyl|The site of origi...|                null|       Barry, John M|        J Transl Med|\n",
      "|t35n7bk9|Multi-faceted, mu...|There are hundred...|Shieh, Biehuoy; L...|       Retrovirology|\n",
      "|eiqypt0m|Herpes simplex vi...|INTRODUCTION: The...|Verheij, Joanne; ...|           Crit Care|\n",
      "|sgmk96vr|Logistics of comm...|BACKGROUND: Previ...|Porco, Travis C; ...|   BMC Public Health|\n",
      "|di0fcy0j|Protection of pul...|BACKGROUND: Oxyge...|Kremer, Ted M; Ri...|          Respir Res|\n",
      "|4k8f7ou1|Bioinformatic map...|BACKGROUND: AlkB-...|Bratlie, Marit S;...|        BMC Genomics|\n",
      "+--------+--------------------+--------------------+--------------------+--------------------+\n",
      "only showing top 20 rows\n",
      "\n"
     ]
    }
   ],
   "source": [
    "data[['cord_uid','title','abstract','authors','journal']].show()"
   ]
  },
  {
   "cell_type": "markdown",
   "id": "ec0061fd-8b74-4837-91ea-1ad28dea0f3e",
   "metadata": {},
   "source": [
    "### Explore Metadata"
   ]
  },
  {
   "cell_type": "markdown",
   "id": "3cb545ac-baae-4a72-891a-9f7c0fc588f9",
   "metadata": {},
   "source": [
    "##### Number of documents"
   ]
  },
  {
   "cell_type": "code",
   "execution_count": 181,
   "id": "28bf3463-b3af-4aac-ba43-7b74fa5e19da",
   "metadata": {},
   "outputs": [
    {
     "data": {
      "text/plain": [
       "536817"
      ]
     },
     "execution_count": 181,
     "metadata": {},
     "output_type": "execute_result"
    }
   ],
   "source": [
    "data.count()"
   ]
  },
  {
   "cell_type": "markdown",
   "id": "85be4e97-8508-4a18-ad46-31c713c37b2d",
   "metadata": {},
   "source": [
    "##### Number of unique cord_uids"
   ]
  },
  {
   "cell_type": "code",
   "execution_count": 182,
   "id": "df731373-61d3-4216-84e1-efb0d4a2b74c",
   "metadata": {},
   "outputs": [
    {
     "data": {
      "text/plain": [
       "508313"
      ]
     },
     "execution_count": 182,
     "metadata": {},
     "output_type": "execute_result"
    }
   ],
   "source": [
    "data[['cord_uid']].distinct().count()"
   ]
  },
  {
   "cell_type": "markdown",
   "id": "0b5e8dda-cf3c-4c36-b3e5-7dda7941f55f",
   "metadata": {},
   "source": [
    "#### Number of unique Journals \n"
   ]
  },
  {
   "cell_type": "code",
   "execution_count": 183,
   "id": "cd215c6b-2c07-4dd6-9e00-bb4520836069",
   "metadata": {},
   "outputs": [
    {
     "data": {
      "text/plain": [
       "45848"
      ]
     },
     "execution_count": 183,
     "metadata": {},
     "output_type": "execute_result"
    }
   ],
   "source": [
    "data[['journal']].distinct().count()"
   ]
  },
  {
   "cell_type": "markdown",
   "id": "3aff159c-a6fe-4727-89e9-f517eb9d40af",
   "metadata": {},
   "source": [
    "#### Number of Abtracts per Journal"
   ]
  },
  {
   "cell_type": "code",
   "execution_count": 184,
   "id": "53ad4b62-2281-4d20-a821-a17357e4ceba",
   "metadata": {},
   "outputs": [
    {
     "name": "stdout",
     "output_type": "stream",
     "text": [
      "+--------------------+-----+\n",
      "|             journal|count|\n",
      "+--------------------+-----+\n",
      "|                null|33977|\n",
      "|             bioRxiv| 5070|\n",
      "|            PLoS One| 4854|\n",
      "|                 BMJ| 4583|\n",
      "|             Sci Rep| 2457|\n",
      "|Int J Environ Res...| 2290|\n",
      "|              Nature| 2205|\n",
      "|              Lancet| 2187|\n",
      "| Journal of virology| 1869|\n",
      "|                JAMA| 1744|\n",
      "|    Int J Infect Dis| 1611|\n",
      "|              Cureus| 1590|\n",
      "|             Viruses| 1518|\n",
      "|             Science| 1517|\n",
      "|         J Med Virol| 1295|\n",
      "|    Emerg Infect Dis| 1286|\n",
      "|       Front Immunol| 1278|\n",
      "|     Clin Infect Dis| 1245|\n",
      "|Int. j. environ. ...| 1239|\n",
      "|               Chest| 1120|\n",
      "+--------------------+-----+\n",
      "only showing top 20 rows\n",
      "\n"
     ]
    }
   ],
   "source": [
    "data[['journal']].groupBy(\"journal\").count().orderBy(F.col(\"count\").desc()).show()"
   ]
  },
  {
   "cell_type": "markdown",
   "id": "2a1a0fc9-4c9a-4162-8575-317b325dd9a7",
   "metadata": {},
   "source": [
    "##### Number of unique authors "
   ]
  },
  {
   "cell_type": "code",
   "execution_count": 185,
   "id": "4d2e5846-5b69-49a0-bd5e-3a33ed127712",
   "metadata": {},
   "outputs": [
    {
     "data": {
      "text/plain": [
       "(536817, 522012)"
      ]
     },
     "execution_count": 185,
     "metadata": {},
     "output_type": "execute_result"
    }
   ],
   "source": [
    "## Total rows vs dropping rows with missing authors\n",
    "data.count(),data.na.drop(subset='authors').count()"
   ]
  },
  {
   "cell_type": "code",
   "execution_count": 189,
   "id": "33e3901f-ddb5-4bc4-8404-2c337f177716",
   "metadata": {},
   "outputs": [],
   "source": [
    "counter = (data.na.drop(subset='authors')\n",
    "           .select(\"authors\")\n",
    "           .rdd\n",
    "           # join all strings in the list and then split to get each word\n",
    "           .map(lambda x: \" \".join(x).split(\";\")) \n",
    "           #.map(lambda x: x.split(\";\")) \n",
    "           .flatMap(lambda x: x)\n",
    "           # make a tuple for each word so later it can be grouped by to get its frequency count\n",
    "           .map(lambda x: (x, 1))\n",
    "           .reduceByKey(lambda a,b: a+b)\n",
    "           \n",
    "           #collectAsMap()\n",
    "          )"
   ]
  },
  {
   "cell_type": "code",
   "execution_count": 190,
   "id": "709a7a27-380c-4701-8123-e88e8f7caeeb",
   "metadata": {},
   "outputs": [
    {
     "name": "stdout",
     "output_type": "stream",
     "text": [
      "+-------------------+-----+\n",
      "|            authors|count|\n",
      "+-------------------+-----+\n",
      "|         Anonymous,| 1621|\n",
      "|              O039,| 1232|\n",
      "|              D039,|  918|\n",
      "|               2020|  832|\n",
      "|          Wang, Wei|  458|\n",
      "|  Mahase, Elisabeth|  415|\n",
      "|    Yuen, Kwok-Yung|  371|\n",
      "|         Zhang, Wei|  359|\n",
      "|            Li, Yan|  343|\n",
      "|              O039,|  336|\n",
      "|  Wiwanitkit, Viroj|  314|\n",
      "|  Iacobucci, Gareth|  309|\n",
      "| Drosten, Christian|  296|\n",
      "|            Li, Wei|  275|\n",
      "|         Wang, Jing|  264|\n",
      "|        Rimmer, Abi|  258|\n",
      "|          Liu, Yang|  249|\n",
      "|           Liu, Wei|  245|\n",
      "|         Wang, Ying|  239|\n",
      "|             Li, Li|  237|\n",
      "+-------------------+-----+\n",
      "only showing top 20 rows\n",
      "\n"
     ]
    }
   ],
   "source": [
    "spark.createDataFrame(counter).toDF(\"authors\", \"count\").orderBy(F.col('count').desc()).show()"
   ]
  },
  {
   "cell_type": "code",
   "execution_count": 191,
   "id": "b41b6063-7320-469d-9b38-73d2cf05b256",
   "metadata": {},
   "outputs": [
    {
     "data": {
      "text/plain": [
       "239"
      ]
     },
     "execution_count": 191,
     "metadata": {},
     "output_type": "execute_result"
    }
   ],
   "source": [
    "data.filter(data.authors.contains(\"Li, Li;\"))[['authors']].count()"
   ]
  },
  {
   "cell_type": "code",
   "execution_count": 192,
   "id": "07196161-bff3-4c38-8a21-16b2d0ba03a2",
   "metadata": {},
   "outputs": [
    {
     "data": {
      "text/plain": [
       "258"
      ]
     },
     "execution_count": 192,
     "metadata": {},
     "output_type": "execute_result"
    }
   ],
   "source": [
    "data.filter(data.authors.contains(\"Wang, Ying;\"))[['authors']].count()"
   ]
  },
  {
   "cell_type": "code",
   "execution_count": 193,
   "id": "fdb2f879-e212-43c7-a367-41ee5e94e2e6",
   "metadata": {},
   "outputs": [
    {
     "name": "stdout",
     "output_type": "stream",
     "text": [
      "+--------------------+\n",
      "|             authors|\n",
      "+--------------------+\n",
      "|          2020-02-20|\n",
      "|          2020-05-15|\n",
      "|          2020-06-10|\n",
      "|          2020-06-19|\n",
      "|          2020-06-30|\n",
      "|          2020-07-21|\n",
      "|          2020-09-10|\n",
      "|          2020-09-24|\n",
      "| 2020: e1-e3. doi...|\n",
      "|          2020-11-13|\n",
      "|          2020-04-06|\n",
      "|          2020-06-09|\n",
      "|          2020-12-23|\n",
      "|              2020.\"|\n",
      "|          2020-09-25|\n",
      "|          2020-07-03|\n",
      "|          2020-10-02|\n",
      "|          2020-07-01|\n",
      "|          2020-09-22|\n",
      "|          2020-07-01|\n",
      "+--------------------+\n",
      "only showing top 20 rows\n",
      "\n"
     ]
    }
   ],
   "source": [
    "data.filter(data.authors.contains(\"2020\"))[['authors']].show()"
   ]
  },
  {
   "cell_type": "code",
   "execution_count": null,
   "id": "5a458bae-a797-480e-a13b-27885405c4d2",
   "metadata": {},
   "outputs": [],
   "source": [
    "#### create edgelist form authors \n",
    "# ['Source','Target','cord_id','year','journal']\n"
   ]
  },
  {
   "cell_type": "code",
   "execution_count": 220,
   "id": "6711a2b4-634c-4c6c-a8e0-6e1d969430fc",
   "metadata": {},
   "outputs": [],
   "source": [
    "def split_authors(df_authors):\n",
    "    split_authors_lambda = lambda x: x.split(';')\n",
    "    try:\n",
    "        if df_authors== None:\n",
    "            print('here')\n",
    "            return None\n",
    "        res = split_authors_lambda(df_authors)\n",
    "        return res\n",
    "    except:\n",
    "        return None\n",
    "    #df_authors.apply(lambda x: x.split(';'))"
   ]
  },
  {
   "cell_type": "code",
   "execution_count": 221,
   "id": "e1972a5a-0e94-4303-b406-2ea8d605879b",
   "metadata": {},
   "outputs": [],
   "source": [
    "split_authors_udf = F.udf(split_authors, ArrayType(StringType(),False))\n"
   ]
  },
  {
   "cell_type": "code",
   "execution_count": null,
   "id": "b645fcb6-717d-443c-ad11-ac7e857317a8",
   "metadata": {},
   "outputs": [],
   "source": []
  },
  {
   "cell_type": "code",
   "execution_count": 222,
   "id": "483550f4-f4ef-4082-a10d-79a0c6214199",
   "metadata": {},
   "outputs": [
    {
     "name": "stdout",
     "output_type": "stream",
     "text": [
      "+--------------------+--------------------+\n",
      "|             authors|       authors_split|\n",
      "+--------------------+--------------------+\n",
      "|Madani, Tariq A; ...|[Madani, Tariq A,...|\n",
      "|Vliet, Albert van...|[Vliet, Albert va...|\n",
      "|     Crouch, Erika C|   [Crouch, Erika C]|\n",
      "|Fagan, Karen A; M...|[Fagan, Karen A, ...|\n",
      "|Domachowske, Jose...|[Domachowske, Jos...|\n",
      "|Pasternak, Alexan...|[Pasternak, Alexa...|\n",
      "|Alvarez, Gonzalo;...|[Alvarez, Gonzalo...|\n",
      "|Ball, Jonathan; V...|[Ball, Jonathan, ...|\n",
      "|Slebos, Dirk-Jan;...|[Slebos, Dirk-Jan...|\n",
      "|Tsui, Fu-Chiang; ...|[Tsui, Fu-Chiang,...|\n",
      "|Ivanov, Ivaylo P....|[Ivanov, Ivaylo P...|\n",
      "|Shi, Stephanie T....|[Shi, Stephanie T...|\n",
      "|Pridgeon, Julia W...|[Pridgeon, Julia ...|\n",
      "|Ploubidou, Aspasi...|[Ploubidou, Aspas...|\n",
      "|       Barry, John M|     [Barry, John M]|\n",
      "|Shieh, Biehuoy; L...|[Shieh, Biehuoy, ...|\n",
      "|Verheij, Joanne; ...|[Verheij, Joanne,...|\n",
      "|Porco, Travis C; ...|[Porco, Travis C,...|\n",
      "|Kremer, Ted M; Ri...|[Kremer, Ted M,  ...|\n",
      "|Bratlie, Marit S;...|[Bratlie, Marit S...|\n",
      "+--------------------+--------------------+\n",
      "only showing top 20 rows\n",
      "\n"
     ]
    }
   ],
   "source": [
    "data.na.drop(subset='authors').withColumn(\"authors_split\", split_authors_udf(data['authors']))[\n",
    "    ['authors','authors_split']].show()"
   ]
  },
  {
   "cell_type": "code",
   "execution_count": 232,
   "id": "f4e2ad9d-4f39-4f1f-be84-fd3c88001c1c",
   "metadata": {},
   "outputs": [],
   "source": [
    "data_dropna_split = data.na.drop(subset='authors').withColumn(\"authors_split\", split_authors_udf(data['authors']))"
   ]
  },
  {
   "cell_type": "code",
   "execution_count": 233,
   "id": "6aa1096f-0f31-49c0-a70a-3dd5fd49601b",
   "metadata": {},
   "outputs": [
    {
     "data": {
      "text/plain": [
       "[Row(authors_split=['Madani, Tariq A', ' Al-Ghamdi, Aisha A']),\n",
       " Row(authors_split=['Vliet, Albert van der', ' Eiserich, Jason P', ' Cross, Carroll E']),\n",
       " Row(authors_split=['Crouch, Erika C']),\n",
       " Row(authors_split=['Fagan, Karen A', ' McMurtry, Ivan F', ' Rodman, David M']),\n",
       " Row(authors_split=['Domachowske, Joseph B', ' Bonville, Cynthia A', ' Rosenberg, Helene F']),\n",
       " Row(authors_split=['Pasternak, Alexander O.', ' van den Born, Erwin', ' Spaan, Willy J.M.', ' Snijder, Eric J.']),\n",
       " Row(authors_split=['Alvarez, Gonzalo', ' Hébert, Paul C', ' Szick, Sharyn']),\n",
       " Row(authors_split=['Ball, Jonathan', ' Venn, Richard']),\n",
       " Row(authors_split=['Slebos, Dirk-Jan', ' Ryter, Stefan W', ' Choi, Augustine MK']),\n",
       " Row(authors_split=['Tsui, Fu-Chiang', ' Espino, Jeremy U.', ' Dato, Virginia M.', ' Gesteland, Per H.', ' Hutman, Judith', ' Wagner, Michael M.'])]"
      ]
     },
     "execution_count": 233,
     "metadata": {},
     "output_type": "execute_result"
    }
   ],
   "source": [
    "data_dropna_split[['authors_split']].take(10)"
   ]
  },
  {
   "cell_type": "code",
   "execution_count": 234,
   "id": "82502084-c482-495b-adca-0fd0817dbb43",
   "metadata": {},
   "outputs": [
    {
     "data": {
      "text/plain": [
       "DataFrame[cord_uid: string, sha: string, source_x: string, title: string, doi: string, pmcid: string, pubmed_id: string, license: string, abstract: string, publish_time: string, authors: string, journal: string, mag_id: string, who_covidence_id: string, arxiv_id: string, pdf_json_files: string, pmc_json_files: string, url: string, s2_id: string, authors_split: array<string>]"
      ]
     },
     "execution_count": 234,
     "metadata": {},
     "output_type": "execute_result"
    }
   ],
   "source": [
    "data_dropna_split.cache()"
   ]
  },
  {
   "cell_type": "code",
   "execution_count": 261,
   "id": "9c828880-dd12-4d92-ad9d-173cccc18bb0",
   "metadata": {
    "tags": []
   },
   "outputs": [
    {
     "name": "stdout",
     "output_type": "stream",
     "text": [
      "+--------------------+--------------------+--------+----------------+\n",
      "|               item1|               item2|cord_uid|         journal|\n",
      "+--------------------+--------------------+--------+----------------+\n",
      "|     Madani, Tariq A|  Al-Ghamdi, Aisha A|ug7v899j|  BMC Infect Dis|\n",
      "|Vliet, Albert van...|   Eiserich, Jason P|02tnwd4m|      Respir Res|\n",
      "|Vliet, Albert van...|    Cross, Carroll E|02tnwd4m|      Respir Res|\n",
      "|   Eiserich, Jason P|    Cross, Carroll E|02tnwd4m|      Respir Res|\n",
      "|      Fagan, Karen A|    McMurtry, Ivan F|2b73a28n|      Respir Res|\n",
      "|      Fagan, Karen A|     Rodman, David M|2b73a28n|      Respir Res|\n",
      "|    McMurtry, Ivan F|     Rodman, David M|2b73a28n|      Respir Res|\n",
      "|Domachowske, Jose...| Bonville, Cynthia A|9785vg6d|      Respir Res|\n",
      "|Domachowske, Jose...| Rosenberg, Helene F|9785vg6d|      Respir Res|\n",
      "| Bonville, Cynthia A| Rosenberg, Helene F|9785vg6d|      Respir Res|\n",
      "|Pasternak, Alexan...| van den Born, Erwin|zjufx4fo|The EMBO Journal|\n",
      "|Pasternak, Alexan...|   Spaan, Willy J.M.|zjufx4fo|The EMBO Journal|\n",
      "|Pasternak, Alexan...|    Snijder, Eric J.|zjufx4fo|The EMBO Journal|\n",
      "| van den Born, Erwin|   Spaan, Willy J.M.|zjufx4fo|The EMBO Journal|\n",
      "| van den Born, Erwin|    Snijder, Eric J.|zjufx4fo|The EMBO Journal|\n",
      "|   Spaan, Willy J.M.|    Snijder, Eric J.|zjufx4fo|The EMBO Journal|\n",
      "|    Alvarez, Gonzalo|      Hébert, Paul C|5yhe786e|       Crit Care|\n",
      "|    Alvarez, Gonzalo|       Szick, Sharyn|5yhe786e|       Crit Care|\n",
      "|      Hébert, Paul C|       Szick, Sharyn|5yhe786e|       Crit Care|\n",
      "|      Ball, Jonathan|       Venn, Richard|8zchiykl|       Crit Care|\n",
      "+--------------------+--------------------+--------+----------------+\n",
      "only showing top 20 rows\n",
      "\n"
     ]
    }
   ],
   "source": [
    "import itertools\n",
    "\n",
    "combinations_udf = F.udf(\n",
    "    lambda x: list(itertools.combinations(x, 2)),\n",
    "    \"array<struct<item1:string,item2:string>>\"\n",
    ")\n",
    "\n",
    "edgelist = data_dropna_split.withColumn(\"edgelist\", \n",
    "                                        F.explode(combinations_udf(F.col(\"authors_split\")))) \\\n",
    "    .selectExpr(\"*\") #.selectExpr('edgelist.*') \n",
    "\n",
    "edgelist[['edgelist.*','cord_uid','journal']].show()"
   ]
  },
  {
   "cell_type": "code",
   "execution_count": 247,
   "id": "8f650a2c-10d9-4e9c-8a52-8fd2bb5b14c1",
   "metadata": {},
   "outputs": [
    {
     "data": {
      "text/plain": [
       "[Row(authors_split=['Madani, Tariq A', ' Al-Ghamdi, Aisha A'], edgelist=Row(item1='Madani, Tariq A', item2=' Al-Ghamdi, Aisha A'), cord_uid='ug7v899j'),\n",
       " Row(authors_split=['Vliet, Albert van der', ' Eiserich, Jason P', ' Cross, Carroll E'], edgelist=Row(item1='Vliet, Albert van der', item2=' Eiserich, Jason P'), cord_uid='02tnwd4m'),\n",
       " Row(authors_split=['Vliet, Albert van der', ' Eiserich, Jason P', ' Cross, Carroll E'], edgelist=Row(item1='Vliet, Albert van der', item2=' Cross, Carroll E'), cord_uid='02tnwd4m'),\n",
       " Row(authors_split=['Vliet, Albert van der', ' Eiserich, Jason P', ' Cross, Carroll E'], edgelist=Row(item1=' Eiserich, Jason P', item2=' Cross, Carroll E'), cord_uid='02tnwd4m'),\n",
       " Row(authors_split=['Fagan, Karen A', ' McMurtry, Ivan F', ' Rodman, David M'], edgelist=Row(item1='Fagan, Karen A', item2=' McMurtry, Ivan F'), cord_uid='2b73a28n'),\n",
       " Row(authors_split=['Fagan, Karen A', ' McMurtry, Ivan F', ' Rodman, David M'], edgelist=Row(item1='Fagan, Karen A', item2=' Rodman, David M'), cord_uid='2b73a28n'),\n",
       " Row(authors_split=['Fagan, Karen A', ' McMurtry, Ivan F', ' Rodman, David M'], edgelist=Row(item1=' McMurtry, Ivan F', item2=' Rodman, David M'), cord_uid='2b73a28n'),\n",
       " Row(authors_split=['Domachowske, Joseph B', ' Bonville, Cynthia A', ' Rosenberg, Helene F'], edgelist=Row(item1='Domachowske, Joseph B', item2=' Bonville, Cynthia A'), cord_uid='9785vg6d'),\n",
       " Row(authors_split=['Domachowske, Joseph B', ' Bonville, Cynthia A', ' Rosenberg, Helene F'], edgelist=Row(item1='Domachowske, Joseph B', item2=' Rosenberg, Helene F'), cord_uid='9785vg6d'),\n",
       " Row(authors_split=['Domachowske, Joseph B', ' Bonville, Cynthia A', ' Rosenberg, Helene F'], edgelist=Row(item1=' Bonville, Cynthia A', item2=' Rosenberg, Helene F'), cord_uid='9785vg6d')]"
      ]
     },
     "execution_count": 247,
     "metadata": {},
     "output_type": "execute_result"
    }
   ],
   "source": [
    "edgelist[['authors_split','edgelist','cord_uid']].take(10)"
   ]
  },
  {
   "cell_type": "code",
   "execution_count": null,
   "id": "81b6b4ef-5204-43b1-9737-deeab7568509",
   "metadata": {},
   "outputs": [],
   "source": []
  },
  {
   "cell_type": "code",
   "execution_count": null,
   "id": "4570056d-25aa-4b79-a57b-a2e2e9c5027c",
   "metadata": {},
   "outputs": [],
   "source": []
  },
  {
   "cell_type": "code",
   "execution_count": null,
   "id": "681f2249-4c2d-462c-84c0-2a155a465f46",
   "metadata": {},
   "outputs": [],
   "source": []
  },
  {
   "cell_type": "code",
   "execution_count": 172,
   "id": "c82ecdec-d4f2-412d-aaf6-2c5d4b425377",
   "metadata": {},
   "outputs": [],
   "source": [
    "sc.stop()"
   ]
  },
  {
   "cell_type": "code",
   "execution_count": 173,
   "id": "1755e48a-5ff5-437f-866f-1e2cf6815717",
   "metadata": {},
   "outputs": [],
   "source": [
    "spark.stop()"
   ]
  },
  {
   "cell_type": "code",
   "execution_count": null,
   "id": "9cd71acd-7c14-41d7-beea-3420bc66fc33",
   "metadata": {},
   "outputs": [],
   "source": []
  }
 ],
 "metadata": {
  "kernelspec": {
   "display_name": "Python 3",
   "language": "python",
   "name": "python3"
  },
  "language_info": {
   "codemirror_mode": {
    "name": "ipython",
    "version": 3
   },
   "file_extension": ".py",
   "mimetype": "text/x-python",
   "name": "python",
   "nbconvert_exporter": "python",
   "pygments_lexer": "ipython3",
   "version": "3.7.10"
  }
 },
 "nbformat": 4,
 "nbformat_minor": 5
}
