{
 "cells": [
  {
   "cell_type": "code",
   "execution_count": null,
   "id": "0936ae63-6761-4e55-8d09-001d7cb40f16",
   "metadata": {},
   "outputs": [],
   "source": [
    "import sys\n",
    "!{sys.executable} -m pip install plotly"
   ]
  },
  {
   "cell_type": "code",
   "execution_count": null,
   "id": "f6293dc9-cb5f-479f-acc7-10b0db7815de",
   "metadata": {},
   "outputs": [],
   "source": [
    "import pandas as pd\n",
    "import numpy as np\n",
    "import matplotlib.pyplot as plt\n",
    "import umap"
   ]
  },
  {
   "cell_type": "code",
   "execution_count": null,
   "id": "3473b873-e873-48dc-b748-6e1b1488a845",
   "metadata": {},
   "outputs": [],
   "source": [
    "from sklearn.manifold import TSNE"
   ]
  },
  {
   "cell_type": "code",
   "execution_count": null,
   "id": "019c9751-ae1d-411d-9b3e-528f3d4cac38",
   "metadata": {},
   "outputs": [],
   "source": [
    "import findspark\n",
    "findspark.init()\n",
    "from pyspark.sql import SparkSession\n",
    "from pyspark import SparkContext\n",
    "\n",
    "import time \n",
    "from time import sleep\n",
    "\n",
    "sc = SparkContext()\n",
    "sc"
   ]
  },
  {
   "cell_type": "code",
   "execution_count": null,
   "id": "487ed1c1-41aa-4d44-9dcb-182de6924ce5",
   "metadata": {},
   "outputs": [],
   "source": [
    "spark = SparkSession \\\n",
    " .builder \\\n",
    " .appName(\"Python Spark SQL basic example\") \\\n",
    " .config(\"spark.some.config.option\", \"some-value\") \\\n",
    " .getOrCreate()"
   ]
  },
  {
   "cell_type": "code",
   "execution_count": null,
   "id": "8f73cbb3-a652-44e2-82f1-cbe926c01d50",
   "metadata": {},
   "outputs": [],
   "source": [
    "from pyspark.sql import functions as F\n",
    "from pyspark.sql.types import StringType,ArrayType"
   ]
  },
  {
   "cell_type": "markdown",
   "id": "83d575bb-8aa6-4d81-879f-9a2e70ebef3a",
   "metadata": {},
   "source": [
    "#### Read in Embedding "
   ]
  },
  {
   "cell_type": "code",
   "execution_count": null,
   "id": "c3a7005c-2835-4994-8942-054bfdcebd6a",
   "metadata": {},
   "outputs": [],
   "source": [
    "result = spark.read.csv('s3://s3://hids511final/corid_embedding_pca_200.parquet',header = True)"
   ]
  },
  {
   "cell_type": "code",
   "execution_count": null,
   "id": "f5350221-b4ad-4fc9-b2f3-90d12caa37a4",
   "metadata": {},
   "outputs": [],
   "source": [
    "sample_seed_1 = result[['_c0','EMBEDDING','pca_features']].sample(.01,1)"
   ]
  },
  {
   "cell_type": "code",
   "execution_count": null,
   "id": "c8cffa0c-7937-46e3-97ac-fd36c95d9471",
   "metadata": {},
   "outputs": [],
   "source": [
    "df = pd.DataFrame(sample_seed_1[['_c0','EMBEDDING']].collect())"
   ]
  },
  {
   "cell_type": "code",
   "execution_count": null,
   "id": "5124fcd2-6439-468e-9dd3-500affbfeaec",
   "metadata": {},
   "outputs": [],
   "source": [
    "X = df['EMBEDDING'].values"
   ]
  },
  {
   "cell_type": "markdown",
   "id": "b9a9e7bc-7064-422a-a8e2-f3d270ca938e",
   "metadata": {},
   "source": [
    "#### Umap"
   ]
  },
  {
   "cell_type": "code",
   "execution_count": null,
   "id": "27b1f65f-3d32-4bca-95cd-9c3b028f75aa",
   "metadata": {},
   "outputs": [],
   "source": [
    "\n",
    "umap_embeddings = umap.UMAP(n_neighbors=15, \n",
    "                            n_components=5, \n",
    "                            metric='cosine').fit_transform(embeddings)"
   ]
  },
  {
   "cell_type": "code",
   "execution_count": null,
   "id": "5370cdac-21b3-43ff-b919-ccedba3806f7",
   "metadata": {},
   "outputs": [],
   "source": [
    "import hdbscan\n",
    "cluster = hdbscan.HDBSCAN(min_cluster_size=20,\n",
    "                          metric='euclidean',                      \n",
    "                          cluster_selection_method='eom').fit(umap_embeddings)"
   ]
  },
  {
   "cell_type": "code",
   "execution_count": null,
   "id": "75de66e3-9451-4710-9463-7aaec26fec69",
   "metadata": {},
   "outputs": [],
   "source": [
    "import matplotlib.pyplot as plt\n",
    "\n",
    "# Prepare data\n",
    "umap_data = umap.UMAP(n_neighbors=15, n_components=2, min_dist=0.0, metric='cosine').fit_transform(embeddings)\n",
    "result = pd.DataFrame(umap_data, columns=['x', 'y'])\n",
    "result['labels'] = cluster.labels_\n",
    "\n",
    "# Visualize clusters\n",
    "fig, ax = plt.subplots(figsize=(20, 10))\n",
    "outliers = result.loc[result.labels == -1, :]\n",
    "clustered = result.loc[result.labels != -1, :]\n",
    "plt.scatter(outliers.x, outliers.y, color='#BDBDBD', s=0.05)\n",
    "plt.scatter(clustered.x, clustered.y, c=clustered.labels, s=0.05, cmap='hsv_r')\n",
    "plt.colorbar()"
   ]
  }
 ],
 "metadata": {
  "kernelspec": {
   "display_name": "Python 3",
   "language": "python",
   "name": "python3"
  },
  "language_info": {
   "codemirror_mode": {
    "name": "ipython",
    "version": 3
   },
   "file_extension": ".py",
   "mimetype": "text/x-python",
   "name": "python",
   "nbconvert_exporter": "python",
   "pygments_lexer": "ipython3",
   "version": "3.7.10"
  }
 },
 "nbformat": 4,
 "nbformat_minor": 5
}
