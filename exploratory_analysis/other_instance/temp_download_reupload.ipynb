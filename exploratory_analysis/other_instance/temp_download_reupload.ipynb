{
 "cells": [
  {
   "cell_type": "code",
   "execution_count": 4,
   "id": "olympic-valley",
   "metadata": {},
   "outputs": [],
   "source": [
    "import boto3\n"
   ]
  },
  {
   "cell_type": "code",
   "execution_count": 2,
   "id": "demanding-officer",
   "metadata": {},
   "outputs": [],
   "source": [
    "\n",
    "s3 = boto3.client('s3')\n",
    "s3.download_file('ai2-semanticscholar-cord-19', '2021-05-03/document_parses.tar.gz', 'document_parses.tar.gz')\n"
   ]
  },
  {
   "cell_type": "code",
   "execution_count": 4,
   "id": "ceramic-concrete",
   "metadata": {},
   "outputs": [
    {
     "name": "stdout",
     "output_type": "stream",
     "text": [
      "/home/ubuntu/hids511final_data\n"
     ]
    }
   ],
   "source": [
    "!pwd"
   ]
  },
  {
   "cell_type": "code",
   "execution_count": null,
   "id": "natural-powell",
   "metadata": {},
   "outputs": [],
   "source": []
  },
  {
   "cell_type": "code",
   "execution_count": 7,
   "id": "informative-gross",
   "metadata": {},
   "outputs": [
    {
     "data": {
      "text/plain": [
       "151593"
      ]
     },
     "execution_count": 7,
     "metadata": {},
     "output_type": "execute_result"
    }
   ],
   "source": [
    "len(os.listdir('document_parses/pmc_json'))"
   ]
  },
  {
   "cell_type": "code",
   "execution_count": 9,
   "id": "supposed-acquisition",
   "metadata": {},
   "outputs": [
    {
     "data": {
      "text/plain": [
       "['pdf_json', 'pmc_json']"
      ]
     },
     "execution_count": 9,
     "metadata": {},
     "output_type": "execute_result"
    }
   ],
   "source": [
    "os.listdir('document_parses/')"
   ]
  },
  {
   "cell_type": "code",
   "execution_count": 2,
   "id": "fallen-squad",
   "metadata": {},
   "outputs": [],
   "source": [
    "from tqdm import tqdm"
   ]
  },
  {
   "cell_type": "code",
   "execution_count": 13,
   "id": "ordinary-number",
   "metadata": {},
   "outputs": [],
   "source": [
    "files = os.listdir('document_parses/pmc_json')"
   ]
  },
  {
   "cell_type": "code",
   "execution_count": null,
   "id": "encouraging-monitoring",
   "metadata": {
    "tags": []
   },
   "outputs": [],
   "source": [
    "s3 = boto3.resource('s3')    \n",
    "files = os.listdir('document_parses/pmc_json')\n",
    "\n",
    "for i in tqdm(files):\n",
    "    file_path = 'document_parses/pmc_json/{}'.format(i)\n",
    "    s3.Bucket('hids511final').upload_file(file_path,file_path)"
   ]
  },
  {
   "cell_type": "code",
   "execution_count": 5,
   "id": "olympic-ready",
   "metadata": {},
   "outputs": [
    {
     "name": "stderr",
     "output_type": "stream",
     "text": [
      "100%|██████████| 198347/198347 [3:24:06<00:00, 16.20it/s]   \n"
     ]
    }
   ],
   "source": [
    "s3 = boto3.resource('s3')    \n",
    "files = os.listdir('document_parses/pdf_json')\n",
    "\n",
    "for i in tqdm(files):\n",
    "    file_path = 'document_parses/pdf_json/{}'.format(i)\n",
    "    s3.Bucket('hids511final').upload_file(file_path,file_path)"
   ]
  }
 ],
 "metadata": {
  "kernelspec": {
   "display_name": "Python 3",
   "language": "python",
   "name": "python3"
  },
  "language_info": {
   "codemirror_mode": {
    "name": "ipython",
    "version": 3
   },
   "file_extension": ".py",
   "mimetype": "text/x-python",
   "name": "python",
   "nbconvert_exporter": "python",
   "pygments_lexer": "ipython3",
   "version": "3.7.10"
  }
 },
 "nbformat": 4,
 "nbformat_minor": 5
}
