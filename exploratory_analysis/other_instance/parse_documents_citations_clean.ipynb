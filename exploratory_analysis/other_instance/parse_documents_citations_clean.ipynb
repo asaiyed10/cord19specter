{
 "cells": [
  {
   "cell_type": "markdown",
   "id": "2be79c53-0cb0-4a5e-a568-3cdcb64952ad",
   "metadata": {},
   "source": [
    "#### Parse PMC JSON documents and create edge list between Authors and Citations \n",
    "#### Upload edgelist in parts to S3\n",
    "#### PMC JSON DOCUMENTS read from local dir"
   ]
  },
  {
   "cell_type": "code",
   "execution_count": 12,
   "id": "sitting-peripheral",
   "metadata": {},
   "outputs": [],
   "source": [
    "import os \n",
    "import pandas as pd "
   ]
  },
  {
   "cell_type": "code",
   "execution_count": 13,
   "id": "detailed-gossip",
   "metadata": {},
   "outputs": [],
   "source": [
    "import json"
   ]
  },
  {
   "cell_type": "code",
   "execution_count": 25,
   "id": "humanitarian-gravity",
   "metadata": {},
   "outputs": [],
   "source": [
    "from tqdm import tqdm\n"
   ]
  },
  {
   "cell_type": "code",
   "execution_count": 34,
   "id": "unavailable-tsunami",
   "metadata": {},
   "outputs": [
    {
     "name": "stderr",
     "output_type": "stream",
     "text": [
      "  7%|▋         | 10056/151593 [01:55<12:20:13,  3.19it/s]"
     ]
    },
    {
     "name": "stdout",
     "output_type": "stream",
     "text": [
      "Part pushed to s3: 0\n"
     ]
    },
    {
     "name": "stderr",
     "output_type": "stream",
     "text": [
      " 13%|█▎        | 20045/151593 [04:22<23:15:06,  1.57it/s]"
     ]
    },
    {
     "name": "stdout",
     "output_type": "stream",
     "text": [
      "Part pushed to s3: 0\n"
     ]
    },
    {
     "name": "stderr",
     "output_type": "stream",
     "text": [
      " 20%|█▉        | 30034/151593 [06:35<23:38:58,  1.43it/s]"
     ]
    },
    {
     "name": "stdout",
     "output_type": "stream",
     "text": [
      "Part pushed to s3: 0\n"
     ]
    },
    {
     "name": "stderr",
     "output_type": "stream",
     "text": [
      " 26%|██▋       | 40037/151593 [08:44<17:22:40,  1.78it/s]"
     ]
    },
    {
     "name": "stdout",
     "output_type": "stream",
     "text": [
      "Part pushed to s3: 0\n"
     ]
    },
    {
     "name": "stderr",
     "output_type": "stream",
     "text": [
      " 33%|███▎      | 50045/151593 [11:06<18:16:49,  1.54it/s]"
     ]
    },
    {
     "name": "stdout",
     "output_type": "stream",
     "text": [
      "Part pushed to s3: 0\n"
     ]
    },
    {
     "name": "stderr",
     "output_type": "stream",
     "text": [
      " 40%|███▉      | 60040/151593 [13:36<17:20:07,  1.47it/s]"
     ]
    },
    {
     "name": "stdout",
     "output_type": "stream",
     "text": [
      "Part pushed to s3: 0\n"
     ]
    },
    {
     "name": "stderr",
     "output_type": "stream",
     "text": [
      " 46%|████▌     | 70034/151593 [16:11<19:51:25,  1.14it/s]"
     ]
    },
    {
     "name": "stdout",
     "output_type": "stream",
     "text": [
      "Part pushed to s3: 0\n"
     ]
    },
    {
     "name": "stderr",
     "output_type": "stream",
     "text": [
      " 53%|█████▎    | 80047/151593 [18:37<13:19:17,  1.49it/s]"
     ]
    },
    {
     "name": "stdout",
     "output_type": "stream",
     "text": [
      "Part pushed to s3: 0\n"
     ]
    },
    {
     "name": "stderr",
     "output_type": "stream",
     "text": [
      " 59%|█████▉    | 90024/151593 [20:44<11:23:31,  1.50it/s]"
     ]
    },
    {
     "name": "stdout",
     "output_type": "stream",
     "text": [
      "Part pushed to s3: 0\n"
     ]
    },
    {
     "name": "stderr",
     "output_type": "stream",
     "text": [
      " 66%|██████▌   | 100043/151593 [23:10<8:42:24,  1.64it/s] "
     ]
    },
    {
     "name": "stdout",
     "output_type": "stream",
     "text": [
      "Part pushed to s3: 0\n"
     ]
    },
    {
     "name": "stderr",
     "output_type": "stream",
     "text": [
      " 73%|███████▎  | 110031/151593 [25:49<9:23:56,  1.23it/s] "
     ]
    },
    {
     "name": "stdout",
     "output_type": "stream",
     "text": [
      "Part pushed to s3: 0\n"
     ]
    },
    {
     "name": "stderr",
     "output_type": "stream",
     "text": [
      " 79%|███████▉  | 120039/151593 [28:10<4:58:58,  1.76it/s]"
     ]
    },
    {
     "name": "stdout",
     "output_type": "stream",
     "text": [
      "Part pushed to s3: 0\n"
     ]
    },
    {
     "name": "stderr",
     "output_type": "stream",
     "text": [
      " 86%|████████▌ | 130032/151593 [30:24<3:35:50,  1.66it/s]"
     ]
    },
    {
     "name": "stdout",
     "output_type": "stream",
     "text": [
      "Part pushed to s3: 0\n"
     ]
    },
    {
     "name": "stderr",
     "output_type": "stream",
     "text": [
      " 92%|█████████▏| 140039/151593 [32:48<2:12:36,  1.45it/s]"
     ]
    },
    {
     "name": "stdout",
     "output_type": "stream",
     "text": [
      "Part pushed to s3: 0\n"
     ]
    },
    {
     "name": "stderr",
     "output_type": "stream",
     "text": [
      " 99%|█████████▉| 150038/151593 [35:02<17:01,  1.52it/s]  "
     ]
    },
    {
     "name": "stdout",
     "output_type": "stream",
     "text": [
      "Part pushed to s3: 0\n"
     ]
    },
    {
     "name": "stderr",
     "output_type": "stream",
     "text": [
      "100%|██████████| 151593/151593 [35:22<00:00, 71.43it/s] "
     ]
    },
    {
     "name": "stdout",
     "output_type": "stream",
     "text": [
      "Part pushed to s3: 0\n"
     ]
    },
    {
     "name": "stderr",
     "output_type": "stream",
     "text": [
      "\n"
     ]
    }
   ],
   "source": [
    "import boto3\n",
    "from io import StringIO\n",
    "\n",
    "bucket = 'hids511final' \n",
    "s3_resource = boto3.resource('s3')\n",
    "\n",
    "\n",
    "edges = []\n",
    "count = 0\n",
    "parts = 0\n",
    "\n",
    "\n",
    "for pmc_file in tqdm(files):\n",
    "    with open('document_parses/pmc_json/{}'.format(pmc_file)) as json_file:\n",
    "        data = json.load(json_file)\n",
    "        \n",
    "    source_title = data['metadata']['title']\n",
    "    source_authors = [\"{}, {}\".format(i['last'],i['first']) for i in data['metadata']['authors']]\n",
    "    cited_authors_title = [(\"{}, {}\".format(cited_paper['last'],cited_paper['first']),data['bib_entries'][bib_entry]['title'],\n",
    "                            data['bib_entries'][bib_entry]['year'],data['bib_entries'][bib_entry]['venue']) \n",
    "                           for bib_entry in data['bib_entries'].keys() for cited_paper in data['bib_entries'][bib_entry]['authors']] \n",
    "    for source_author in source_authors:\n",
    "        for citation_entry in cited_authors_title:\n",
    "            edges.append([pmc_file,source_author,citation_entry[0],source_title,citation_entry[1]])\n",
    "    \n",
    "    \n",
    "    count = count+1\n",
    "    \n",
    "    if count%10000 ==0 or count == 151592:\n",
    "        csv_buffer = StringIO()\n",
    "        \n",
    "        edges_df = pd.DataFrame(edges).rename(columns={0:'pmc_file',1:'source_author',2:'cited_author',\n",
    "                                                       3:'source_title',4:'cited_title',5:'cited_year',6:'cited_venue'})\n",
    "        \n",
    "        edges_df.to_csv(csv_buffer)\n",
    "        \n",
    "        s3_resource.Object(bucket, 'citation_graph_parts/cit_edgelist_part_{}.csv'.format(parts)).put(Body=csv_buffer.getvalue())\n",
    "        parts = parts +1 \n",
    "        \n",
    "        \n",
    "        edges = []\n",
    "        del(edges_df)\n",
    "        del(csv_buffer)\n",
    "        \n",
    "        print('Part pushed to s3:',part)\n",
    "        \n",
    "        \n",
    "        \n",
    "        \n",
    "        \n",
    "    #    break\n",
    "    \n",
    "    \n",
    "        \n",
    "    \n"
   ]
  }
 ],
 "metadata": {
  "kernelspec": {
   "display_name": "Python 3",
   "language": "python",
   "name": "python3"
  },
  "language_info": {
   "codemirror_mode": {
    "name": "ipython",
    "version": 3
   },
   "file_extension": ".py",
   "mimetype": "text/x-python",
   "name": "python",
   "nbconvert_exporter": "python",
   "pygments_lexer": "ipython3",
   "version": "3.7.10"
  }
 },
 "nbformat": 4,
 "nbformat_minor": 5
}
