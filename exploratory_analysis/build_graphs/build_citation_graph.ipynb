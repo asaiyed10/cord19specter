{
 "cells": [
  {
   "cell_type": "code",
   "execution_count": 1,
   "id": "bd5300c8-83e3-49ce-b759-1ba1ac57fb26",
   "metadata": {},
   "outputs": [
    {
     "data": {
      "text/html": [
       "\n",
       "        <div>\n",
       "            <p><b>SparkContext</b></p>\n",
       "\n",
       "            <p><a href=\"http://ip-172-31-1-243.ec2.internal:4043\">Spark UI</a></p>\n",
       "\n",
       "            <dl>\n",
       "              <dt>Version</dt>\n",
       "                <dd><code>v2.4.4</code></dd>\n",
       "              <dt>Master</dt>\n",
       "                <dd><code>yarn</code></dd>\n",
       "              <dt>AppName</dt>\n",
       "                <dd><code>pyspark-shell</code></dd>\n",
       "            </dl>\n",
       "        </div>\n",
       "        "
      ],
      "text/plain": [
       "<SparkContext master=yarn appName=pyspark-shell>"
      ]
     },
     "execution_count": 1,
     "metadata": {},
     "output_type": "execute_result"
    }
   ],
   "source": [
    "import findspark\n",
    "findspark.init()\n",
    "from pyspark.sql import SparkSession\n",
    "from pyspark import SparkContext\n",
    "\n",
    "import time \n",
    "from time import sleep\n",
    "\n",
    "sc = SparkContext()\n",
    "sc"
   ]
  },
  {
   "cell_type": "code",
   "execution_count": 2,
   "id": "c92bb9f3-5af2-4a24-bd6c-2f54d48ca724",
   "metadata": {},
   "outputs": [],
   "source": [
    "spark = SparkSession \\\n",
    " .builder \\\n",
    " .appName(\"Python Spark SQL basic example\") \\\n",
    " .config(\"spark.some.config.option\", \"some-value\") \\\n",
    " .getOrCreate()"
   ]
  },
  {
   "cell_type": "code",
   "execution_count": 3,
   "id": "dc6385e4-e198-4c27-8145-2dfa4d104db4",
   "metadata": {},
   "outputs": [],
   "source": [
    "from pyspark.sql import functions as F\n",
    "from pyspark.sql.types import StringType,ArrayType"
   ]
  },
  {
   "cell_type": "code",
   "execution_count": 4,
   "id": "199897e3-7ad0-4e33-89c8-51a918754756",
   "metadata": {},
   "outputs": [],
   "source": [
    "data = spark.read.csv('s3://hids511final/citation_graph_parts/*',header = True)"
   ]
  },
  {
   "cell_type": "code",
   "execution_count": 7,
   "id": "5c8481b4-a1c2-4209-808e-dbad12b10ce2",
   "metadata": {},
   "outputs": [
    {
     "name": "stdout",
     "output_type": "stream",
     "text": [
      "+---+-------------------+------------------+--------------------+--------------------+--------------------+\n",
      "|_c0|           pmc_file|     source_author|        cited_author|        source_title|         cited_title|\n",
      "+---+-------------------+------------------+--------------------+--------------------+--------------------+\n",
      "|  0|PMC7100180.xml.json|Makhzoum, Abdullah|              Ma, JK|Recent advances o...|Molecular farming...|\n",
      "|  1|PMC7100180.xml.json|Makhzoum, Abdullah|           Barros, E|Recent advances o...|Molecular farming...|\n",
      "|  2|PMC7100180.xml.json|Makhzoum, Abdullah|             Bock, R|Recent advances o...|Molecular farming...|\n",
      "|  3|PMC7100180.xml.json|Makhzoum, Abdullah|         Christou, P|Recent advances o...|Molecular farming...|\n",
      "|  4|PMC7100180.xml.json|Makhzoum, Abdullah|            Dale, PJ|Recent advances o...|Molecular farming...|\n",
      "|  5|PMC7100180.xml.json|Makhzoum, Abdullah|             Dix, PJ|Recent advances o...|Molecular farming...|\n",
      "|  6|PMC7100180.xml.json|Makhzoum, Abdullah|            Muntz, K|Recent advances o...|Protein dynamics ...|\n",
      "|  7|PMC7100180.xml.json|Makhzoum, Abdullah|          Avesani, L|Recent advances o...|Recombinant human...|\n",
      "|  8|PMC7100180.xml.json|Makhzoum, Abdullah|           Vitale, A|Recent advances o...|Recombinant human...|\n",
      "|  9|PMC7100180.xml.json|Makhzoum, Abdullah|       Pedrazzini, E|Recent advances o...|Recombinant human...|\n",
      "| 10|PMC7100180.xml.json|Makhzoum, Abdullah|       DeVirgilio, M|Recent advances o...|Recombinant human...|\n",
      "| 11|PMC7100180.xml.json|Makhzoum, Abdullah|            Pompa, A|Recent advances o...|Recombinant human...|\n",
      "| 12|PMC7100180.xml.json|Makhzoum, Abdullah|         Barbante, A|Recent advances o...|Recombinant human...|\n",
      "| 13|PMC7100180.xml.json|Makhzoum, Abdullah|        Morandini, F|Recent advances o...|Non-food/feed see...|\n",
      "| 14|PMC7100180.xml.json|Makhzoum, Abdullah|          Avesani, L|Recent advances o...|Non-food/feed see...|\n",
      "| 15|PMC7100180.xml.json|Makhzoum, Abdullah|          Bortesi, L|Recent advances o...|Non-food/feed see...|\n",
      "| 16|PMC7100180.xml.json|Makhzoum, Abdullah|Van Droogenbroeck, B|Recent advances o...|Non-food/feed see...|\n",
      "| 17|PMC7100180.xml.json|Makhzoum, Abdullah|         De Wilde, K|Recent advances o...|Non-food/feed see...|\n",
      "| 18|PMC7100180.xml.json|Makhzoum, Abdullah|          Arcalis, E|Recent advances o...|Non-food/feed see...|\n",
      "| 19|PMC7100180.xml.json|Makhzoum, Abdullah|          Earley, KW|Recent advances o...|Gateway-compatibl...|\n",
      "+---+-------------------+------------------+--------------------+--------------------+--------------------+\n",
      "only showing top 20 rows\n",
      "\n"
     ]
    }
   ],
   "source": [
    "data.show()"
   ]
  }
 ],
 "metadata": {
  "kernelspec": {
   "display_name": "Python 3",
   "language": "python",
   "name": "python3"
  },
  "language_info": {
   "codemirror_mode": {
    "name": "ipython",
    "version": 3
   },
   "file_extension": ".py",
   "mimetype": "text/x-python",
   "name": "python",
   "nbconvert_exporter": "python",
   "pygments_lexer": "ipython3",
   "version": "3.7.10"
  }
 },
 "nbformat": 4,
 "nbformat_minor": 5
}
