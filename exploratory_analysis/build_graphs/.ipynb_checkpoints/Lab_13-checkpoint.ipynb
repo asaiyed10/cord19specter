{
  "nbformat": 4,
  "nbformat_minor": 0,
  "metadata": {
    "colab": {
      "name": "Lab_13.ipynb",
      "provenance": []
    },
    "kernelspec": {
      "name": "python3",
      "display_name": "Python 3"
    },
    "language_info": {
      "name": "python"
    }
  },
  "cells": [
    {
      "cell_type": "markdown",
      "metadata": {
        "id": "Uld-UQkuthpf"
      },
      "source": [
        "#Working with Graphs in Spark\n",
        "In this lab, you will learn some of the functionality of Spark GraphFrames. GraphFrames is the next generation library for working with graphs on Spark.\n",
        "\n",
        "First of all, you need to import the graphframes library. However, this is not installed by default. The post-startup script downloaded the library (which is in a jar format), it extracts it, and makes it available for you to use.\n",
        " \n",
        "There are still a couple of things you need to do to get this to work in this setup"
      ]
    },
    {
      "cell_type": "code",
      "metadata": {
        "id": "AsdMqNTctziG"
      },
      "source": [
        "# import findspark and os and let findspark find all the environment variables\n",
        "import findspark\n",
        "import os\n",
        "findspark.init()"
      ],
      "execution_count": null,
      "outputs": []
    },
    {
      "cell_type": "code",
      "metadata": {
        "id": "CZucioF6t1Nk"
      },
      "source": [
        "# Before you create the SparkSession, you need to add a new environment variable \n",
        "# to tell pyspark where the graphframes library is\n",
        "SUBMIT_ARGS = \"--packages graphframes:graphframes:0.7.0-spark2.4-s_2.11 pyspark-shell\"\n",
        "os.environ[\"PYSPARK_SUBMIT_ARGS\"] = SUBMIT_ARGS"
      ],
      "execution_count": null,
      "outputs": []
    },
    {
      "cell_type": "code",
      "metadata": {
        "id": "RA7xNl13uHMA"
      },
      "source": [
        "# Since you added some new environment variables, you want to make\n",
        "# sure that the Spark configuration sees it\n",
        "import pyspark\n",
        "conf = pyspark.SparkConf()"
      ],
      "execution_count": null,
      "outputs": []
    },
    {
      "cell_type": "code",
      "metadata": {
        "id": "oSfWvjAvuKPT"
      },
      "source": [
        "# Create the SparkSession using the configuration\n",
        "from pyspark.sql import SparkSession\n",
        "spark = SparkSession.builder.appName(\"graphx-lab\").getOrCreate()"
      ],
      "execution_count": null,
      "outputs": []
    },
    {
      "cell_type": "code",
      "metadata": {
        "id": "5euO7xhru08y"
      },
      "source": [
        "# Import the graphframes library\n",
        "from graphframes import *"
      ],
      "execution_count": null,
      "outputs": []
    },
    {
      "cell_type": "markdown",
      "metadata": {
        "id": "cT-pUGEgu4cD"
      },
      "source": [
        "You will be using data from the Bay Area Bike Share Portal (similar service to Capital Bikeshare in DC.)\n",
        "\n",
        "In the following two cells, read in two csv files located in s3:\n",
        "\n",
        "*   s3://bigdatateaching/bike-data/station_data.csv\n",
        "*   s3://bigdatateaching/bike-data/trip_data.csv\n",
        "\n",
        "The station file contains the metadata of the bicycile stations, and the trip data contains all the bike trips.\n",
        "\n",
        "Read in the two files"
      ]
    },
    {
      "cell_type": "code",
      "metadata": {
        "id": "heUoDwh9v-zT"
      },
      "source": [
        ""
      ],
      "execution_count": null,
      "outputs": []
    },
    {
      "cell_type": "code",
      "metadata": {
        "id": "-O0oCOjqv_K1"
      },
      "source": [
        ""
      ],
      "execution_count": null,
      "outputs": []
    },
    {
      "cell_type": "markdown",
      "metadata": {
        "id": "HvnpSIw3wAbj"
      },
      "source": [
        "Explore the datasets:"
      ]
    },
    {
      "cell_type": "code",
      "metadata": {
        "id": "hMY6eyc7wCAf"
      },
      "source": [
        ""
      ],
      "execution_count": null,
      "outputs": []
    },
    {
      "cell_type": "code",
      "metadata": {
        "id": "YWJrWA_jwCOE"
      },
      "source": [
        ""
      ],
      "execution_count": null,
      "outputs": []
    },
    {
      "cell_type": "markdown",
      "metadata": {
        "id": "Kf6TignRwEwH"
      },
      "source": [
        "You will now modify the two DataFrames read in above to create a vertix \n",
        "list and an edge list.\n",
        "\n",
        "In the next cell, use the station data and rename the \"name\" column to \"id\" and get distinct records:"
      ]
    },
    {
      "cell_type": "code",
      "metadata": {
        "id": "MJoUKES-wEJc"
      },
      "source": [
        ""
      ],
      "execution_count": null,
      "outputs": []
    },
    {
      "cell_type": "markdown",
      "metadata": {
        "id": "w_XxCKPnwQ-9"
      },
      "source": [
        "In the next cell, use the trip data and rename the \"Start Station\" column to \"src\" and the \"End Station\" column to \"dst\"."
      ]
    },
    {
      "cell_type": "code",
      "metadata": {
        "id": "dN9_Q4f5wQQU"
      },
      "source": [
        ""
      ],
      "execution_count": null,
      "outputs": []
    },
    {
      "cell_type": "markdown",
      "metadata": {
        "id": "7SnVmwubwZRF"
      },
      "source": [
        "In the next cell, you will create a GraphFrame passing in a vertex list and an edge list. Which is which\n",
        "from your original datasets?"
      ]
    },
    {
      "cell_type": "code",
      "metadata": {
        "id": "2DzsziEFwaJG"
      },
      "source": [
        ""
      ],
      "execution_count": null,
      "outputs": []
    },
    {
      "cell_type": "markdown",
      "metadata": {
        "id": "shQ3J-T7wkT6"
      },
      "source": [
        "Since you will be using the GraphFrame more than once, it is best to cache it."
      ]
    },
    {
      "cell_type": "code",
      "metadata": {
        "id": "6UGmAwyJwjzw"
      },
      "source": [
        ""
      ],
      "execution_count": null,
      "outputs": []
    },
    {
      "cell_type": "markdown",
      "metadata": {
        "id": "UfnD2x0_wl60"
      },
      "source": [
        "## Graph metadata\n",
        "\n",
        "Count the number of vertices in the graph:"
      ]
    },
    {
      "cell_type": "code",
      "metadata": {
        "id": "s6DPr2gfwnat"
      },
      "source": [
        ""
      ],
      "execution_count": null,
      "outputs": []
    },
    {
      "cell_type": "markdown",
      "metadata": {
        "id": "PhUujszdw2Sc"
      },
      "source": [
        "Count the number of edges in the graph:"
      ]
    },
    {
      "cell_type": "code",
      "metadata": {
        "id": "pbZDdD8xw4sl"
      },
      "source": [
        ""
      ],
      "execution_count": null,
      "outputs": []
    },
    {
      "cell_type": "markdown",
      "metadata": {
        "id": "BNuZtEVNw5Fd"
      },
      "source": [
        "# Querying the Graph\n",
        "The most basic way of interacting with the graph is querying it. Since the GraphFrame is based on DataFrames, you can perform the same type of operations you would on a DataFrame.\n",
        "\n",
        "In the next cell, show the top 10 source and destination combinations, ordered in descending order by count:"
      ]
    },
    {
      "cell_type": "code",
      "metadata": {
        "id": "UK4PDvTUxAXN"
      },
      "source": [
        ""
      ],
      "execution_count": null,
      "outputs": []
    },
    {
      "cell_type": "markdown",
      "metadata": {
        "id": "T-UKicn-xCfc"
      },
      "source": [
        "In the next cell, show the top 10 source and destination combinations **where the source or destination\n",
        "station is 'Townsend at 7th'**, ordered in descending order by count"
      ]
    },
    {
      "cell_type": "code",
      "metadata": {
        "id": "o_gpzjwJxIuJ"
      },
      "source": [
        ""
      ],
      "execution_count": null,
      "outputs": []
    },
    {
      "cell_type": "markdown",
      "metadata": {
        "id": "gPnNVpqsxMfz"
      },
      "source": [
        "# Subsetting a Graph\n",
        "Sometimes you need to work with a subset of a graph. The easiest way to create a subset is create a\n",
        "new graph with the vertices and edges of your your subset.\n",
        "\n",
        "In the next cell, subset the edges where the source or destination station is 'Townsend at 7th', and\n",
        "create a new graph called sg1 using the original vertices and the new edge list:"
      ]
    },
    {
      "cell_type": "code",
      "metadata": {
        "id": "0QqohfG5xRSm"
      },
      "source": [
        ""
      ],
      "execution_count": null,
      "outputs": []
    },
    {
      "cell_type": "code",
      "metadata": {
        "id": "E9uZ2EoYxSIO"
      },
      "source": [
        ""
      ],
      "execution_count": null,
      "outputs": []
    },
    {
      "cell_type": "code",
      "metadata": {
        "id": "ALWGCB8LxSqc"
      },
      "source": [
        ""
      ],
      "execution_count": null,
      "outputs": []
    },
    {
      "cell_type": "markdown",
      "metadata": {
        "id": "qdkwoneMxTD1"
      },
      "source": [
        "# Motifs\n",
        "Motifs are ways of expressing structural patterns in a graph. The following cell has a triangle motif: (a)\n",
        "signifies the starting station, and [ab] represents an edge from (a) to our next station (b). We repeat this\n",
        "for stations (b) to (c) and then from (c) to (a):The following cell creates a triangular pattern."
      ]
    },
    {
      "cell_type": "code",
      "metadata": {
        "id": "ESbNEd-ZxXjo"
      },
      "source": [
        "motifs = station_graph.find(\"(a)-[ab]->(b); (b)-[bc]->(c); (c)-[ca]->(a)\")"
      ],
      "execution_count": null,
      "outputs": []
    },
    {
      "cell_type": "markdown",
      "metadata": {
        "id": "-Ge2qsQUxbwN"
      },
      "source": [
        "The DataFrame we get from running this query contains nested fields for vertices a, b, and c, as well as\n",
        "the respective edges. We can now query this as we would a DataFrame. For example, given a certain\n",
        "bike, what is the shortest trip the bike has taken from station a, to station b, to station c, and back to\n",
        "station a? The following logic will parse our timestamps, into Spark timestamps and then we’ll do\n",
        "comparisons to make sure that it’s the same bike, traveling from station to station, and that the start\n",
        "times for each trip are correct."
      ]
    },
    {
      "cell_type": "code",
      "metadata": {
        "id": "o1MXuDBCxbQ8"
      },
      "source": [
        ""
      ],
      "execution_count": null,
      "outputs": []
    },
    {
      "cell_type": "markdown",
      "metadata": {
        "id": "Z7nqnguDxetM"
      },
      "source": [
        "# PageRank\n",
        "One of the most prolific graph algorithms is PageRank. Larry Page, cofounder of Google, created PageRank as a research project for how to rank web pages. Unfortu‐ nately, a complete explanation of\n",
        "how PageRank works is outside the scope of this book. However, to quote Wikipedia, the high-level\n",
        "explanation is as follows:\n",
        "\n",
        "PageRank works by counting the number and quality of links to a page to determine a rough estimate of how important the website is. The underlying assumption is that more important websites are likely to\n",
        "receive more links from other websites.\n",
        "\n",
        "PageRank generalizes quite well outside of the web domain. We can apply this right to our own data and\n",
        "get a sense for important bike stations (specifically, those that receive a lot of bike traffic). In this\n",
        "example, important bike stations will be assigned large PageRank values:\n",
        "\n",
        "In the next cells, you will run the PageRank algorith on the stations graph dataset.\n",
        "* Run the pagerank algorithm with a reset probability of 0.15, and 10 maximum iterations\n",
        "* Show the top 10 vertices based on pageranks"
      ]
    },
    {
      "cell_type": "code",
      "metadata": {
        "id": "Rc0p6TfuxsdN"
      },
      "source": [
        ""
      ],
      "execution_count": null,
      "outputs": []
    }
  ]
}