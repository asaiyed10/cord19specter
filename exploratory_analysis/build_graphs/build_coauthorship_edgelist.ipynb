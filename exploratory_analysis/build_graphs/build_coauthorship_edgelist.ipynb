{
 "cells": [
  {
   "cell_type": "markdown",
   "id": "103a50b9-b00b-4420-9c0d-98f4f3a3c2db",
   "metadata": {},
   "source": [
    "## Build Coauthorship Graph of papers in CORD-19"
   ]
  },
  {
   "cell_type": "code",
   "execution_count": 1,
   "id": "f46768e3-e471-4335-8b48-928174a9cfd4",
   "metadata": {},
   "outputs": [
    {
     "data": {
      "text/html": [
       "\n",
       "        <div>\n",
       "            <p><b>SparkContext</b></p>\n",
       "\n",
       "            <p><a href=\"http://ip-172-31-1-243.ec2.internal:4040\">Spark UI</a></p>\n",
       "\n",
       "            <dl>\n",
       "              <dt>Version</dt>\n",
       "                <dd><code>v2.4.4</code></dd>\n",
       "              <dt>Master</dt>\n",
       "                <dd><code>yarn</code></dd>\n",
       "              <dt>AppName</dt>\n",
       "                <dd><code>pyspark-shell</code></dd>\n",
       "            </dl>\n",
       "        </div>\n",
       "        "
      ],
      "text/plain": [
       "<SparkContext master=yarn appName=pyspark-shell>"
      ]
     },
     "execution_count": 1,
     "metadata": {},
     "output_type": "execute_result"
    }
   ],
   "source": [
    "import findspark\n",
    "findspark.init()\n",
    "from pyspark.sql import SparkSession\n",
    "from pyspark import SparkContext\n",
    "\n",
    "import time \n",
    "from time import sleep\n",
    "\n",
    "sc = SparkContext()\n",
    "sc"
   ]
  },
  {
   "cell_type": "code",
   "execution_count": 5,
   "id": "3a293aed-97c5-40be-b7a3-7a9f94a0cd95",
   "metadata": {},
   "outputs": [],
   "source": [
    "spark = SparkSession \\\n",
    " .builder \\\n",
    " .appName(\"Python Spark SQL basic example\") \\\n",
    " .config(\"spark.some.config.option\", \"some-value\") \\\n",
    " .getOrCreate()"
   ]
  },
  {
   "cell_type": "code",
   "execution_count": 3,
   "id": "bcba3dde-2d87-4a73-8c40-acbae785484f",
   "metadata": {},
   "outputs": [],
   "source": [
    "from pyspark.sql import functions as F\n",
    "from pyspark.sql.types import StringType,ArrayType"
   ]
  },
  {
   "cell_type": "markdown",
   "id": "0c5d0913-9bf5-4c20-b669-514963b47689",
   "metadata": {},
   "source": [
    "### Read in metadata "
   ]
  },
  {
   "cell_type": "code",
   "execution_count": 4,
   "id": "c886debe-a92b-425d-bad5-7253202ae9fb",
   "metadata": {},
   "outputs": [],
   "source": [
    "data = spark.read.csv('s3://ai2-semanticscholar-cord-19/2021-04-19/metadata.csv/',header = True)"
   ]
  },
  {
   "cell_type": "code",
   "execution_count": 5,
   "id": "4c3fd4dc-e7c4-495b-91c7-e3f6b054eedf",
   "metadata": {},
   "outputs": [
    {
     "data": {
      "text/plain": [
       "DataFrame[cord_uid: string, sha: string, source_x: string, title: string, doi: string, pmcid: string, pubmed_id: string, license: string, abstract: string, publish_time: string, authors: string, journal: string, mag_id: string, who_covidence_id: string, arxiv_id: string, pdf_json_files: string, pmc_json_files: string, url: string, s2_id: string]"
      ]
     },
     "execution_count": 5,
     "metadata": {},
     "output_type": "execute_result"
    }
   ],
   "source": [
    "data.cache()"
   ]
  },
  {
   "cell_type": "code",
   "execution_count": 6,
   "id": "3407c33f-f152-4a46-88a8-3a3c5d6d7469",
   "metadata": {},
   "outputs": [
    {
     "data": {
      "text/plain": [
       "['cord_uid',\n",
       " 'sha',\n",
       " 'source_x',\n",
       " 'title',\n",
       " 'doi',\n",
       " 'pmcid',\n",
       " 'pubmed_id',\n",
       " 'license',\n",
       " 'abstract',\n",
       " 'publish_time',\n",
       " 'authors',\n",
       " 'journal',\n",
       " 'mag_id',\n",
       " 'who_covidence_id',\n",
       " 'arxiv_id',\n",
       " 'pdf_json_files',\n",
       " 'pmc_json_files',\n",
       " 'url',\n",
       " 's2_id']"
      ]
     },
     "execution_count": 6,
     "metadata": {},
     "output_type": "execute_result"
    }
   ],
   "source": [
    "data.columns"
   ]
  },
  {
   "cell_type": "code",
   "execution_count": null,
   "id": "0a53b440-542a-4a8c-9243-c0d8facaaee7",
   "metadata": {},
   "outputs": [],
   "source": []
  },
  {
   "cell_type": "code",
   "execution_count": 7,
   "id": "c44e5a18-5a28-4e81-88f4-4538860e5afe",
   "metadata": {},
   "outputs": [
    {
     "name": "stdout",
     "output_type": "stream",
     "text": [
      "+--------+--------------------+--------------------+--------------------+--------------------+--------------------+--------------------+\n",
      "|cord_uid|               title|            abstract|             authors|             journal|      pmc_json_files|                 url|\n",
      "+--------+--------------------+--------------------+--------------------+--------------------+--------------------+--------------------+\n",
      "|ug7v899j|Clinical features...|OBJECTIVE: This r...|Madani, Tariq A; ...|      BMC Infect Dis|document_parses/p...|https://www.ncbi....|\n",
      "|02tnwd4m|Nitric oxide: a p...|Inflammatory dise...|Vliet, Albert van...|          Respir Res|document_parses/p...|https://www.ncbi....|\n",
      "|ejv2xln0|Surfactant protei...|Surfactant protei...|     Crouch, Erika C|          Respir Res|document_parses/p...|https://www.ncbi....|\n",
      "|2b73a28n|Role of endotheli...|Endothelin-1 (ET-...|Fagan, Karen A; M...|          Respir Res|document_parses/p...|https://www.ncbi....|\n",
      "|9785vg6d|Gene expression i...|Respiratory syncy...|Domachowske, Jose...|          Respir Res|document_parses/p...|https://www.ncbi....|\n",
      "|zjufx4fo|Sequence requirem...|Nidovirus subgeno...|Pasternak, Alexan...|    The EMBO Journal|document_parses/p...|http://europepmc....|\n",
      "|5yhe786e|Debate: Transfusi...|Recent evidence s...|Alvarez, Gonzalo;...|           Crit Care|document_parses/p...|https://www.ncbi....|\n",
      "|8zchiykl|The 21st Internat...|The 21st Internat...|Ball, Jonathan; V...|           Crit Care|document_parses/p...|https://www.ncbi....|\n",
      "|8qnrcgnk|Heme oxygenase-1 ...|Heme oxygenase-1 ...|Slebos, Dirk-Jan;...|          Respir Res|document_parses/p...|https://www.ncbi....|\n",
      "|jg13scgo|Technical Descrip...|This report descr...|Tsui, Fu-Chiang; ...|Journal of the Am...|document_parses/p...|https://academic....|\n",
      "|5tkvsudh|Conservation of p...|Regulation of orn...|Ivanov, Ivaylo P....|              EMBO J|document_parses/p...|https://www.ncbi....|\n",
      "|6lvn10f4|Heterogeneous nuc...|Heterogeneous nuc...|Shi, Stephanie T....|    The EMBO Journal|document_parses/p...|http://europepmc....|\n",
      "|tvxpckxo|A Method to Ident...|The UBA domain is...|Pridgeon, Julia W...|  Biol Proced Online|document_parses/p...|https://www.ncbi....|\n",
      "|mcuixluu|Vaccinia virus in...|We examined the r...|Ploubidou, Aspasi...|    The EMBO Journal|document_parses/p...|http://europepmc....|\n",
      "|6iu1dtyl|The site of origi...|                null|       Barry, John M|        J Transl Med|document_parses/p...|https://www.ncbi....|\n",
      "|t35n7bk9|Multi-faceted, mu...|There are hundred...|Shieh, Biehuoy; L...|       Retrovirology|document_parses/p...|https://www.ncbi....|\n",
      "|eiqypt0m|Herpes simplex vi...|INTRODUCTION: The...|Verheij, Joanne; ...|           Crit Care|document_parses/p...|https://www.ncbi....|\n",
      "|sgmk96vr|Logistics of comm...|BACKGROUND: Previ...|Porco, Travis C; ...|   BMC Public Health|document_parses/p...|https://www.ncbi....|\n",
      "|di0fcy0j|Protection of pul...|BACKGROUND: Oxyge...|Kremer, Ted M; Ri...|          Respir Res|document_parses/p...|https://www.ncbi....|\n",
      "|4k8f7ou1|Bioinformatic map...|BACKGROUND: AlkB-...|Bratlie, Marit S;...|        BMC Genomics|document_parses/p...|https://www.ncbi....|\n",
      "+--------+--------------------+--------------------+--------------------+--------------------+--------------------+--------------------+\n",
      "only showing top 20 rows\n",
      "\n"
     ]
    }
   ],
   "source": [
    "data[['cord_uid','title','abstract','authors','journal','pmc_json_files','url']].show()"
   ]
  },
  {
   "cell_type": "markdown",
   "id": "b8d56e52-d590-47f8-9737-4020b0870725",
   "metadata": {},
   "source": [
    "## List files in semantic scholar s3 bucket"
   ]
  },
  {
   "cell_type": "markdown",
   "id": "28d03b11-f741-4dcc-adc9-06a111ec92a1",
   "metadata": {},
   "source": [
    "##### Number of unique authors "
   ]
  },
  {
   "cell_type": "code",
   "execution_count": 185,
   "id": "496aa2ab-d984-489c-b6ed-937d0321ef4f",
   "metadata": {},
   "outputs": [
    {
     "data": {
      "text/plain": [
       "(536817, 522012)"
      ]
     },
     "execution_count": 185,
     "metadata": {},
     "output_type": "execute_result"
    }
   ],
   "source": [
    "## Total rows vs dropping rows with missing authors\n",
    "data.count(),data.na.drop(subset='authors').count()"
   ]
  },
  {
   "cell_type": "code",
   "execution_count": 8,
   "id": "1c4f1a9a-24f3-46a8-ba01-72fb1e95f1d0",
   "metadata": {},
   "outputs": [],
   "source": [
    "counter = (data.na.drop(subset='authors')\n",
    "           .select(\"authors\")\n",
    "           .rdd\n",
    "           # join all strings in the list and then split to get each word\n",
    "           .map(lambda x: \" \".join(x).split(\";\")) \n",
    "           #.map(lambda x: x.split(\";\")) \n",
    "           .flatMap(lambda x: x)\n",
    "           # make a tuple for each word so later it can be grouped by to get its frequency count\n",
    "           .map(lambda x: (x, 1))\n",
    "           .reduceByKey(lambda a,b: a+b)\n",
    "           \n",
    "           #collectAsMap()\n",
    "          )"
   ]
  },
  {
   "cell_type": "code",
   "execution_count": 9,
   "id": "39b4a9dd-b657-4bb8-aa86-61db79a78ee0",
   "metadata": {},
   "outputs": [
    {
     "name": "stdout",
     "output_type": "stream",
     "text": [
      "+-------------------+-----+\n",
      "|            authors|count|\n",
      "+-------------------+-----+\n",
      "|         Anonymous,| 1621|\n",
      "|              O039,| 1232|\n",
      "|              D039,|  918|\n",
      "|               2020|  832|\n",
      "|          Wang, Wei|  458|\n",
      "|  Mahase, Elisabeth|  415|\n",
      "|    Yuen, Kwok-Yung|  371|\n",
      "|         Zhang, Wei|  359|\n",
      "|            Li, Yan|  343|\n",
      "|              O039,|  336|\n",
      "|  Wiwanitkit, Viroj|  314|\n",
      "|  Iacobucci, Gareth|  309|\n",
      "| Drosten, Christian|  296|\n",
      "|            Li, Wei|  275|\n",
      "|         Wang, Jing|  264|\n",
      "|        Rimmer, Abi|  258|\n",
      "|          Liu, Yang|  249|\n",
      "|           Liu, Wei|  245|\n",
      "|         Wang, Ying|  239|\n",
      "|             Li, Li|  237|\n",
      "+-------------------+-----+\n",
      "only showing top 20 rows\n",
      "\n"
     ]
    }
   ],
   "source": [
    "spark.createDataFrame(counter).toDF(\"authors\", \"count\").orderBy(F.col('count').desc()).show()"
   ]
  },
  {
   "cell_type": "code",
   "execution_count": 10,
   "id": "6cfd7e15-e133-4a2d-a24d-0377a020c5dd",
   "metadata": {},
   "outputs": [
    {
     "data": {
      "text/plain": [
       "239"
      ]
     },
     "execution_count": 10,
     "metadata": {},
     "output_type": "execute_result"
    }
   ],
   "source": [
    "data.filter(data.authors.contains(\"Li, Li;\"))[['authors']].count()"
   ]
  },
  {
   "cell_type": "code",
   "execution_count": 11,
   "id": "6c5175fa-6f44-4717-a05b-5a7272052f3d",
   "metadata": {},
   "outputs": [
    {
     "data": {
      "text/plain": [
       "258"
      ]
     },
     "execution_count": 11,
     "metadata": {},
     "output_type": "execute_result"
    }
   ],
   "source": [
    "data.filter(data.authors.contains(\"Wang, Ying;\"))[['authors']].count()"
   ]
  },
  {
   "cell_type": "code",
   "execution_count": 12,
   "id": "883f4f16-3832-4970-ab08-b752469bc73f",
   "metadata": {},
   "outputs": [
    {
     "name": "stdout",
     "output_type": "stream",
     "text": [
      "+--------------------+\n",
      "|             authors|\n",
      "+--------------------+\n",
      "|          2020-02-20|\n",
      "|          2020-05-15|\n",
      "|          2020-06-10|\n",
      "|          2020-06-19|\n",
      "|          2020-06-30|\n",
      "|          2020-07-21|\n",
      "|          2020-09-10|\n",
      "|          2020-09-24|\n",
      "| 2020: e1-e3. doi...|\n",
      "|          2020-11-13|\n",
      "|          2020-04-06|\n",
      "|          2020-06-09|\n",
      "|          2020-12-23|\n",
      "|              2020.\"|\n",
      "|          2020-09-25|\n",
      "|          2020-07-03|\n",
      "|          2020-10-02|\n",
      "|          2020-07-01|\n",
      "|          2020-09-22|\n",
      "|          2020-07-01|\n",
      "+--------------------+\n",
      "only showing top 20 rows\n",
      "\n"
     ]
    }
   ],
   "source": [
    "data.filter(data.authors.contains(\"2020\"))[['authors']].show()"
   ]
  },
  {
   "cell_type": "code",
   "execution_count": null,
   "id": "2b947161-6f79-499c-92b0-ce5716bc8803",
   "metadata": {},
   "outputs": [],
   "source": [
    "#### create edgelist form authors \n",
    "# ['Source','Target','cord_id','year','journal']\n"
   ]
  },
  {
   "cell_type": "code",
   "execution_count": 13,
   "id": "cfd47d97-5fe4-48eb-9163-5d94c6b4c2cd",
   "metadata": {},
   "outputs": [],
   "source": [
    "def split_authors(df_authors):\n",
    "    split_authors_lambda = lambda x: x.split(';')\n",
    "    try:\n",
    "        if df_authors== None:\n",
    "            print('here')\n",
    "            return None\n",
    "        res = split_authors_lambda(df_authors)\n",
    "        return res\n",
    "    except:\n",
    "        return None\n",
    "    #df_authors.apply(lambda x: x.split(';'))"
   ]
  },
  {
   "cell_type": "code",
   "execution_count": 14,
   "id": "e47fd850-49d6-4fc7-8349-c8cad4442a89",
   "metadata": {},
   "outputs": [],
   "source": [
    "split_authors_udf = F.udf(split_authors, ArrayType(StringType(),False))\n"
   ]
  },
  {
   "cell_type": "code",
   "execution_count": 15,
   "id": "22bd0377-54f9-4586-850a-80fb79229c7f",
   "metadata": {},
   "outputs": [
    {
     "name": "stdout",
     "output_type": "stream",
     "text": [
      "+--------------------+--------------------+\n",
      "|             authors|       authors_split|\n",
      "+--------------------+--------------------+\n",
      "|Madani, Tariq A; ...|[Madani, Tariq A,...|\n",
      "|Vliet, Albert van...|[Vliet, Albert va...|\n",
      "|     Crouch, Erika C|   [Crouch, Erika C]|\n",
      "|Fagan, Karen A; M...|[Fagan, Karen A, ...|\n",
      "|Domachowske, Jose...|[Domachowske, Jos...|\n",
      "|Pasternak, Alexan...|[Pasternak, Alexa...|\n",
      "|Alvarez, Gonzalo;...|[Alvarez, Gonzalo...|\n",
      "|Ball, Jonathan; V...|[Ball, Jonathan, ...|\n",
      "|Slebos, Dirk-Jan;...|[Slebos, Dirk-Jan...|\n",
      "|Tsui, Fu-Chiang; ...|[Tsui, Fu-Chiang,...|\n",
      "|Ivanov, Ivaylo P....|[Ivanov, Ivaylo P...|\n",
      "|Shi, Stephanie T....|[Shi, Stephanie T...|\n",
      "|Pridgeon, Julia W...|[Pridgeon, Julia ...|\n",
      "|Ploubidou, Aspasi...|[Ploubidou, Aspas...|\n",
      "|       Barry, John M|     [Barry, John M]|\n",
      "|Shieh, Biehuoy; L...|[Shieh, Biehuoy, ...|\n",
      "|Verheij, Joanne; ...|[Verheij, Joanne,...|\n",
      "|Porco, Travis C; ...|[Porco, Travis C,...|\n",
      "|Kremer, Ted M; Ri...|[Kremer, Ted M,  ...|\n",
      "|Bratlie, Marit S;...|[Bratlie, Marit S...|\n",
      "+--------------------+--------------------+\n",
      "only showing top 20 rows\n",
      "\n"
     ]
    }
   ],
   "source": [
    "data.na.drop(subset='authors').withColumn(\"authors_split\", split_authors_udf(data['authors']))[\n",
    "    ['authors','authors_split']].show()"
   ]
  },
  {
   "cell_type": "code",
   "execution_count": 16,
   "id": "499b6a21-eaa4-4a06-bf8a-fa844ad04cda",
   "metadata": {},
   "outputs": [],
   "source": [
    "data_dropna_split = data.na.drop(subset='authors').withColumn(\"authors_split\", split_authors_udf(data['authors']))"
   ]
  },
  {
   "cell_type": "code",
   "execution_count": 17,
   "id": "2072b248-855c-4c15-a607-9bc773d108a2",
   "metadata": {},
   "outputs": [
    {
     "data": {
      "text/plain": [
       "[Row(authors_split=['Madani, Tariq A', ' Al-Ghamdi, Aisha A']),\n",
       " Row(authors_split=['Vliet, Albert van der', ' Eiserich, Jason P', ' Cross, Carroll E']),\n",
       " Row(authors_split=['Crouch, Erika C']),\n",
       " Row(authors_split=['Fagan, Karen A', ' McMurtry, Ivan F', ' Rodman, David M']),\n",
       " Row(authors_split=['Domachowske, Joseph B', ' Bonville, Cynthia A', ' Rosenberg, Helene F']),\n",
       " Row(authors_split=['Pasternak, Alexander O.', ' van den Born, Erwin', ' Spaan, Willy J.M.', ' Snijder, Eric J.']),\n",
       " Row(authors_split=['Alvarez, Gonzalo', ' Hébert, Paul C', ' Szick, Sharyn']),\n",
       " Row(authors_split=['Ball, Jonathan', ' Venn, Richard']),\n",
       " Row(authors_split=['Slebos, Dirk-Jan', ' Ryter, Stefan W', ' Choi, Augustine MK']),\n",
       " Row(authors_split=['Tsui, Fu-Chiang', ' Espino, Jeremy U.', ' Dato, Virginia M.', ' Gesteland, Per H.', ' Hutman, Judith', ' Wagner, Michael M.'])]"
      ]
     },
     "execution_count": 17,
     "metadata": {},
     "output_type": "execute_result"
    }
   ],
   "source": [
    "data_dropna_split[['authors_split']].take(10)"
   ]
  },
  {
   "cell_type": "code",
   "execution_count": 18,
   "id": "f648e350-2228-49eb-9016-a1703e4605ea",
   "metadata": {},
   "outputs": [
    {
     "data": {
      "text/plain": [
       "DataFrame[cord_uid: string, sha: string, source_x: string, title: string, doi: string, pmcid: string, pubmed_id: string, license: string, abstract: string, publish_time: string, authors: string, journal: string, mag_id: string, who_covidence_id: string, arxiv_id: string, pdf_json_files: string, pmc_json_files: string, url: string, s2_id: string, authors_split: array<string>]"
      ]
     },
     "execution_count": 18,
     "metadata": {},
     "output_type": "execute_result"
    }
   ],
   "source": [
    "data_dropna_split.cache()"
   ]
  },
  {
   "cell_type": "code",
   "execution_count": 19,
   "id": "fba9dc74-ddde-4001-8061-842b7f49f921",
   "metadata": {
    "tags": []
   },
   "outputs": [
    {
     "name": "stdout",
     "output_type": "stream",
     "text": [
      "+--------------------+--------------------+--------+----------------+\n",
      "|               item1|               item2|cord_uid|         journal|\n",
      "+--------------------+--------------------+--------+----------------+\n",
      "|     Madani, Tariq A|  Al-Ghamdi, Aisha A|ug7v899j|  BMC Infect Dis|\n",
      "|Vliet, Albert van...|   Eiserich, Jason P|02tnwd4m|      Respir Res|\n",
      "|Vliet, Albert van...|    Cross, Carroll E|02tnwd4m|      Respir Res|\n",
      "|   Eiserich, Jason P|    Cross, Carroll E|02tnwd4m|      Respir Res|\n",
      "|      Fagan, Karen A|    McMurtry, Ivan F|2b73a28n|      Respir Res|\n",
      "|      Fagan, Karen A|     Rodman, David M|2b73a28n|      Respir Res|\n",
      "|    McMurtry, Ivan F|     Rodman, David M|2b73a28n|      Respir Res|\n",
      "|Domachowske, Jose...| Bonville, Cynthia A|9785vg6d|      Respir Res|\n",
      "|Domachowske, Jose...| Rosenberg, Helene F|9785vg6d|      Respir Res|\n",
      "| Bonville, Cynthia A| Rosenberg, Helene F|9785vg6d|      Respir Res|\n",
      "|Pasternak, Alexan...| van den Born, Erwin|zjufx4fo|The EMBO Journal|\n",
      "|Pasternak, Alexan...|   Spaan, Willy J.M.|zjufx4fo|The EMBO Journal|\n",
      "|Pasternak, Alexan...|    Snijder, Eric J.|zjufx4fo|The EMBO Journal|\n",
      "| van den Born, Erwin|   Spaan, Willy J.M.|zjufx4fo|The EMBO Journal|\n",
      "| van den Born, Erwin|    Snijder, Eric J.|zjufx4fo|The EMBO Journal|\n",
      "|   Spaan, Willy J.M.|    Snijder, Eric J.|zjufx4fo|The EMBO Journal|\n",
      "|    Alvarez, Gonzalo|      Hébert, Paul C|5yhe786e|       Crit Care|\n",
      "|    Alvarez, Gonzalo|       Szick, Sharyn|5yhe786e|       Crit Care|\n",
      "|      Hébert, Paul C|       Szick, Sharyn|5yhe786e|       Crit Care|\n",
      "|      Ball, Jonathan|       Venn, Richard|8zchiykl|       Crit Care|\n",
      "+--------------------+--------------------+--------+----------------+\n",
      "only showing top 20 rows\n",
      "\n"
     ]
    }
   ],
   "source": [
    "import itertools\n",
    "\n",
    "combinations_udf = F.udf(\n",
    "    lambda x: list(itertools.combinations(x, 2)),\n",
    "    \"array<struct<item1:string,item2:string>>\"\n",
    ")\n",
    "\n",
    "edgelist = data_dropna_split.withColumn(\"edgelist\", \n",
    "                                        F.explode(combinations_udf(F.col(\"authors_split\")))) \\\n",
    "    .selectExpr(\"*\") #.selectExpr('edgelist.*') \n",
    "\n",
    "edgelist[['edgelist.*','cord_uid','journal']].show()"
   ]
  },
  {
   "cell_type": "code",
   "execution_count": 26,
   "id": "572bc071-f316-4a03-a7b7-28ddb89de2c3",
   "metadata": {},
   "outputs": [
    {
     "data": {
      "text/plain": [
       "['cord_uid',\n",
       " 'sha',\n",
       " 'source_x',\n",
       " 'title',\n",
       " 'doi',\n",
       " 'pmcid',\n",
       " 'pubmed_id',\n",
       " 'license',\n",
       " 'abstract',\n",
       " 'publish_time',\n",
       " 'authors',\n",
       " 'journal',\n",
       " 'mag_id',\n",
       " 'who_covidence_id',\n",
       " 'arxiv_id',\n",
       " 'pdf_json_files',\n",
       " 'pmc_json_files',\n",
       " 'url',\n",
       " 's2_id',\n",
       " 'authors_split',\n",
       " 'edgelist']"
      ]
     },
     "execution_count": 26,
     "metadata": {},
     "output_type": "execute_result"
    }
   ],
   "source": [
    "edgelist.columns"
   ]
  },
  {
   "cell_type": "code",
   "execution_count": 29,
   "id": "e0e0c4f7-9812-4e6a-837e-2b2b952132ed",
   "metadata": {},
   "outputs": [],
   "source": [
    "edgelist_for_push = edgelist[['edgelist.*','cord_uid','journal','pmc_json_files','publish_time']]"
   ]
  },
  {
   "cell_type": "code",
   "execution_count": 30,
   "id": "2c5e1aac-8002-4071-b4e6-3e8d101e8d6b",
   "metadata": {},
   "outputs": [
    {
     "name": "stdout",
     "output_type": "stream",
     "text": [
      "+--------------------+--------------------+--------+----------------+--------------------+------------+\n",
      "|               item1|               item2|cord_uid|         journal|      pmc_json_files|publish_time|\n",
      "+--------------------+--------------------+--------+----------------+--------------------+------------+\n",
      "|     Madani, Tariq A|  Al-Ghamdi, Aisha A|ug7v899j|  BMC Infect Dis|document_parses/p...|  2001-07-04|\n",
      "|Vliet, Albert van...|   Eiserich, Jason P|02tnwd4m|      Respir Res|document_parses/p...|  2000-08-15|\n",
      "|Vliet, Albert van...|    Cross, Carroll E|02tnwd4m|      Respir Res|document_parses/p...|  2000-08-15|\n",
      "|   Eiserich, Jason P|    Cross, Carroll E|02tnwd4m|      Respir Res|document_parses/p...|  2000-08-15|\n",
      "|      Fagan, Karen A|    McMurtry, Ivan F|2b73a28n|      Respir Res|document_parses/p...|  2001-02-22|\n",
      "|      Fagan, Karen A|     Rodman, David M|2b73a28n|      Respir Res|document_parses/p...|  2001-02-22|\n",
      "|    McMurtry, Ivan F|     Rodman, David M|2b73a28n|      Respir Res|document_parses/p...|  2001-02-22|\n",
      "|Domachowske, Jose...| Bonville, Cynthia A|9785vg6d|      Respir Res|document_parses/p...|  2001-05-11|\n",
      "|Domachowske, Jose...| Rosenberg, Helene F|9785vg6d|      Respir Res|document_parses/p...|  2001-05-11|\n",
      "| Bonville, Cynthia A| Rosenberg, Helene F|9785vg6d|      Respir Res|document_parses/p...|  2001-05-11|\n",
      "|Pasternak, Alexan...| van den Born, Erwin|zjufx4fo|The EMBO Journal|document_parses/p...|  2001-12-17|\n",
      "|Pasternak, Alexan...|   Spaan, Willy J.M.|zjufx4fo|The EMBO Journal|document_parses/p...|  2001-12-17|\n",
      "|Pasternak, Alexan...|    Snijder, Eric J.|zjufx4fo|The EMBO Journal|document_parses/p...|  2001-12-17|\n",
      "| van den Born, Erwin|   Spaan, Willy J.M.|zjufx4fo|The EMBO Journal|document_parses/p...|  2001-12-17|\n",
      "| van den Born, Erwin|    Snijder, Eric J.|zjufx4fo|The EMBO Journal|document_parses/p...|  2001-12-17|\n",
      "|   Spaan, Willy J.M.|    Snijder, Eric J.|zjufx4fo|The EMBO Journal|document_parses/p...|  2001-12-17|\n",
      "|    Alvarez, Gonzalo|      Hébert, Paul C|5yhe786e|       Crit Care|document_parses/p...|  2001-03-08|\n",
      "|    Alvarez, Gonzalo|       Szick, Sharyn|5yhe786e|       Crit Care|document_parses/p...|  2001-03-08|\n",
      "|      Hébert, Paul C|       Szick, Sharyn|5yhe786e|       Crit Care|document_parses/p...|  2001-03-08|\n",
      "|      Ball, Jonathan|       Venn, Richard|8zchiykl|       Crit Care|document_parses/p...|  2001-05-02|\n",
      "+--------------------+--------------------+--------+----------------+--------------------+------------+\n",
      "only showing top 20 rows\n",
      "\n"
     ]
    }
   ],
   "source": [
    "edgelist_for_push.show()"
   ]
  },
  {
   "cell_type": "code",
   "execution_count": null,
   "id": "bb7e31e9-0db6-488b-bed4-3348c195913b",
   "metadata": {
    "tags": []
   },
   "outputs": [],
   "source": [
    "edgelist_for_push.write.parquet(\"s3://hids511final/corid_19_coauthorship_edgelist.parquet\")"
   ]
  },
  {
   "cell_type": "code",
   "execution_count": null,
   "id": "8e95fee3-9ecd-4c1b-9d02-16bccb0146d5",
   "metadata": {},
   "outputs": [],
   "source": []
  },
  {
   "cell_type": "code",
   "execution_count": null,
   "id": "859fa9e3-863d-4109-9b74-15557ed876f5",
   "metadata": {},
   "outputs": [],
   "source": [
    "sc.stop()"
   ]
  },
  {
   "cell_type": "code",
   "execution_count": null,
   "id": "36e66709-49d4-4bb5-895f-1aeba480d2ad",
   "metadata": {},
   "outputs": [],
   "source": [
    "spark.stop()"
   ]
  },
  {
   "cell_type": "code",
   "execution_count": null,
   "id": "eae99c40-a6f9-4798-b3e7-51ac8bfaff78",
   "metadata": {},
   "outputs": [],
   "source": []
  }
 ],
 "metadata": {
  "kernelspec": {
   "display_name": "Python 3",
   "language": "python",
   "name": "python3"
  },
  "language_info": {
   "codemirror_mode": {
    "name": "ipython",
    "version": 3
   },
   "file_extension": ".py",
   "mimetype": "text/x-python",
   "name": "python",
   "nbconvert_exporter": "python",
   "pygments_lexer": "ipython3",
   "version": "3.7.10"
  }
 },
 "nbformat": 4,
 "nbformat_minor": 5
}
